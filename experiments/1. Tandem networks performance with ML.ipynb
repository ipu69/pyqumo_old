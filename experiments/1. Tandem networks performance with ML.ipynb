{
 "cells": [
  {
   "cell_type": "markdown",
   "id": "uniform-summit",
   "metadata": {},
   "source": [
    "# Эксперимент №1: расчет характеристик тандемной сети с узлами MAP/PH/1/N с помощью имитационного моделирования и машинного обучения\n",
    "\n",
    "В этом эксперименте мы рассчитаем различные характеристики сетей с линейной топологией, на вход которых поступает MAP-поток, а обслуживание имеет распределение фазового типа. Сначала мы рассчитаем характеристики на заданной сетке статистических параметров с помощью имитационного моделирования сети, а затем используем полученные результаты для обучения нейросетевых и других моделей ML, которые сможем использовать для очень быстрой оценки характеристик сетей. Например, такой подход полезен при нахождении решений задач оптимизации топологии, когда характеристики сетей с линейной топологией являются ограничениями в алгоритме ветвей и границ. "
   ]
  },
  {
   "cell_type": "markdown",
   "id": "collectible-interpretation",
   "metadata": {},
   "source": [
    "## Подготовка ноутбука\n",
    "\n",
    "Импортируем все необходимые библиотеки, настроим флаги и константы, которыми будем пользоваться в эксперименте, и определим служебные функции, чтобы не отвлекаться на них в расчетной части эксперимента."
   ]
  },
  {
   "cell_type": "code",
   "execution_count": 1,
   "id": "requested-question",
   "metadata": {},
   "outputs": [],
   "source": [
    "# Если что-то меняется в коде, мы хотим это сразу видеть здесь\n",
    "%load_ext autoreload\n",
    "%autoreload 2"
   ]
  },
  {
   "cell_type": "code",
   "execution_count": 9,
   "id": "cardiovascular-worst",
   "metadata": {},
   "outputs": [],
   "source": [
    "import os\n",
    "\n",
    "import matplotlib\n",
    "import matplotlib.pyplot as plt\n",
    "from matplotlib import cm\n",
    "\n",
    "from tabulate import tabulate\n",
    "from tqdm.notebook import tqdm\n",
    "\n",
    "from itertools import product\n",
    "from collections import namedtuple\n",
    "import time\n",
    "import numpy as np\n",
    "import pandas as pd\n",
    "\n",
    "# Подключаем локальные пакеты\n",
    "from pyqumo.random import Distribution, Exponential, HyperExponential, Erlang\n",
    "from pyqumo.cqumo.sim import simulate_tandem"
   ]
  },
  {
   "cell_type": "code",
   "execution_count": 3,
   "id": "alike-photography",
   "metadata": {},
   "outputs": [],
   "source": [
    "# Настраиваем matplotlib\n",
    "%matplotlib inline\n",
    "matplotlib.rcParams.update({'font.size': 16})"
   ]
  },
  {
   "cell_type": "markdown",
   "id": "proved-account",
   "metadata": {},
   "source": [
    "Определим переменные окружения, которые будут использоваться в эксперименте."
   ]
  },
  {
   "cell_type": "code",
   "execution_count": 31,
   "id": "behavioral-demonstration",
   "metadata": {},
   "outputs": [],
   "source": [
    "# Нужно ли пересчитывать все, или можно использовать результаты из файлов\n",
    "FORCE_SIMULATION = False\n",
    "SIM_FILE_NAME = '01_tandem_simulation.csv'\n",
    "SIM_FILE_DIR = 'data'\n",
    "SIM_FILE_PATH = os.path.join(SIM_FILE_DIR, SIM_FILE_NAME)\n",
    "\n",
    "# Зададим число пакетов, передачу которых по сети мы будем моделировать.\n",
    "# Чем выше это число, тем точнее результаты, но на их получение нужно больше времени.\n",
    "NUM_PACKETS = 10000\n",
    "\n",
    "# Цветовая схема для графиков\n",
    "CMAP_NAME = 'viridis'"
   ]
  },
  {
   "cell_type": "code",
   "execution_count": 32,
   "id": "indie-bandwidth",
   "metadata": {},
   "outputs": [],
   "source": [
    "def get_color(x):\n",
    "    \"\"\"\n",
    "    Получить цвет из текущей карты.\n",
    "    \"\"\"\n",
    "    return cm.get_cmap(CMAP_NAME)(x)"
   ]
  },
  {
   "source": [
    "## Нахождение PH-распределений\n",
    "\n",
    "PH-распределения для моделирования входящего потока и времени обслуживания будем находить по первым двум моментам по следующим правилам:\n",
    "\n",
    "- если коэффициент вариации $c = \\sigma / m_1 < 1$, то в качестве PH-распределения возьмем распределение Эрланга с самым близким значением $\\tilde{\\sigma}$;\n",
    "- если коэффициент вариации $c > 1$, то в качестве PH-распределения возьмем гиперэкспоненциальное распределение;\n",
    "- если коэффициент вариации $c = 1$, то распределение - экспоненциальное."
   ],
   "cell_type": "markdown",
   "metadata": {}
  },
  {
   "cell_type": "code",
   "execution_count": 33,
   "metadata": {},
   "outputs": [],
   "source": [
    "def fit_ph(avg: float, std: float) -> Distribution:\n",
    "    \"\"\"\n",
    "    Возвращает PH-распределение по стандартному отклонению и среднему значению.\n",
    "    \"\"\"\n",
    "    cv = std / avg\n",
    "    if cv == 1:\n",
    "        return Exponential(avg)\n",
    "    if cv > 1:\n",
    "        return HyperExponential.fit(avg, std)\n",
    "    return Erlang.fit(avg, std)"
   ]
  },
  {
   "cell_type": "markdown",
   "id": "wicked-validation",
   "metadata": {},
   "source": [
    "## Вызов имитационной модели, чтение и сохранение результатов\n",
    "\n",
    "Определим полезные функции, которые нам потребуются для работы с данными имитационного моделирования:\n",
    "\n",
    "- `load_sim_data()`: читает файл `SIM_FILE_NAME`, если он существует, или создает новый `DataFrame` для хранения данных о результатах имитационного моделирования.\n",
    "- `save_sim_data()`: сохраняет результаты, записанные в `DataFrame`, в файл `SIM_FILE_PATH`."
   ]
  },
  {
   "cell_type": "code",
   "execution_count": 34,
   "id": "acoustic-preparation",
   "metadata": {},
   "outputs": [
    {
     "output_type": "stream",
     "name": "stdout",
     "text": [
      "<class 'pandas.core.frame.DataFrame'>\nIndex: 0 entries\nData columns (total 13 columns):\n #   Column        Non-Null Count  Dtype \n---  ------        --------------  ----- \n 0   ArrAvg        0 non-null      object\n 1   ArrStd        0 non-null      object\n 2   ArrCv         0 non-null      object\n 3   SrvAvg        0 non-null      object\n 4   SrvStd        0 non-null      object\n 5   SrvCv         0 non-null      object\n 6   Rho           0 non-null      object\n 7   NetSize       0 non-null      object\n 8   Capacity      0 non-null      object\n 9   NumPackets    0 non-null      object\n 10  DelayAvg      0 non-null      object\n 11  DelayStd      0 non-null      object\n 12  DeliveryProb  0 non-null      object\ndtypes: object(13)\nmemory usage: 0.0+ bytes\n"
     ]
    }
   ],
   "source": [
    "def save_sim_data(df: pd.DataFrame):\n",
    "    \"\"\"\n",
    "    Сохранить в файл данные о результатах имитационного моделирования.\n",
    "    \"\"\"\n",
    "    if not os.path.exists(SIM_FILE_DIR):\n",
    "        os.makedirs(SIM_FILE_DIR)\n",
    "    df.to_csv(SIM_FILE_PATH, index_label='Id')\n",
    "\n",
    "    \n",
    "def load_sim_data() -> pd.DataFrame:\n",
    "    \"\"\"\n",
    "    Загрузить данные о резулдьтатах имитационного моделирования.\n",
    "    \"\"\"       \n",
    "    if os.path.exists(SIM_FILE_PATH):\n",
    "        return pd.read_csv(SIM_FILE_PATH)\n",
    "    return pd.DataFrame(columns=('ArrAvg', 'ArrStd', 'ArrCv', 'SrvAvg', 'SrvStd', 'SrvCv', 'Rho', \n",
    "                                 'NetSize', 'Capacity', 'NumPackets',\n",
    "                                 'DelayAvg', 'DelayStd', 'DeliveryProb'))\n",
    "\n",
    "sim_data = load_sim_data()\n",
    "sim_data.info()"
   ]
  },
  {
   "cell_type": "markdown",
   "id": "durable-malpractice",
   "metadata": {},
   "source": [
    "Функция `simulate(df, force=False, ...) -> pd.DataFrame` работает следующим образом:\n",
    "\n",
    "- если в `df` нет строки, соответствующей переданным параметрам, то выполняется симуляция и функция возвращает новый `DataFrame`, содержащий результаты симуляции;\n",
    "- если в `df` есть строка, соответствующая переданным параметрам, то симуляция выполняется, если выполнено любое из следующих условий:\n",
    "    - передан аргумент `debug=True`\n",
    "    - в настройках окружения (см. выше) установлен флаг `FORCE_SIMULATION=True`\n",
    "    - если число пакетов, которые нужно промоделировать, больше числа пакетов, которое использовалось в предыдущей симуляции\n",
    "\n",
    "Функция возвращает новый `DataFrame`, содержащий результаты заданной симуляции."
   ]
  },
  {
   "cell_type": "code",
   "execution_count": 48,
   "id": "hungry-bulgaria",
   "metadata": {},
   "outputs": [],
   "source": [
    "def simulate(\n",
    "    df: pd.DataFrame, *, \n",
    "    arr_avg: float,\n",
    "    arr_std: float,\n",
    "    srv_avg: float,\n",
    "    srv_std: float,\n",
    "    net_size: int,\n",
    "    capacity: int,\n",
    "    num_packets: int,\n",
    "    force: bool = False\n",
    ") -> pd.DataFrame:\n",
    "    \"\"\"\n",
    "    Выполнить симуляцию, если результатов нет в `df` или требуется их пересчитать, и вернуть новый `DataFrame`.\n",
    "    \"\"\"\n",
    "    row_df = df[\n",
    "        (df.ArrAvg == arr_avg) &\n",
    "        (df.ArrStd == arr_std) &\n",
    "        (df.SrvAvg == srv_avg) &\n",
    "        (df.SrvStd == srv_std) &\n",
    "        (df.NetSize == net_size) &\n",
    "        (df.Capacity == capacity)]\n",
    "    \n",
    "    # Вычислим признаки, которые говорят о необходимости пересчета:\n",
    "    no_row = len(row_df) == 0\n",
    "    try:\n",
    "        not_enough_packets = not no_row and row_df.NumPackets[0] < num_packets\n",
    "    except KeyError as e:\n",
    "        print('DataFrame:')\n",
    "        print(row_df.info())\n",
    "        print(row_df)\n",
    "        raise KeyError from e\n",
    "\n",
    "    # Проверим, нужно ли пересчитать результаты:\n",
    "    if force or no_row or not_enough_packets:\n",
    "        # if no_row:\n",
    "        #     print('Не нашел подходящую строку, выполняю модель')\n",
    "        # elif not_enough_packets:\n",
    "        #     print('Имеющееся решение недостаточно точное')\n",
    "        # else:\n",
    "        #     print('Требуется пересчитать')\n",
    "        arr = fit_ph(avg=arr_avg, std=arr_std)\n",
    "        srv = fit_ph(avg=srv_avg, std=srv_std)\n",
    "        ret = simulate_tandem(arr, [srv] * net_size, capacity, num_packets)\n",
    "\n",
    "        row_data = {\n",
    "            'ArrAvg': arr_avg,\n",
    "            'ArrStd': arr_std,\n",
    "            'ArrCv': arr_std / arr_avg,\n",
    "            'SrvAvg': srv_avg,\n",
    "            'SrvStd': srv_std,\n",
    "            'SrvCv': srv_std / srv_avg,\n",
    "            'Rho': srv_avg / arr_avg,\n",
    "            'NetSize': net_size,\n",
    "            'Capacity': capacity,\n",
    "            'NumPackets': num_packets,\n",
    "            'DelayAvg': ret.delivery_delays[0].avg,\n",
    "            'DelayStd': ret.delivery_delays[0].std,\n",
    "            'DeliveryProb': ret.delivery_prob[0],\n",
    "        }\n",
    "\n",
    "        # Если строки еще вообще не было, добавляем ее, а если была - обновляем:\n",
    "        if no_row:\n",
    "            df = df.append(row_data, ignore_index=True)\n",
    "        else:\n",
    "            df.update(pd.DataFrame(row_data, index=[row_df.index[0]]))\n",
    "\n",
    "    return df"
   ]
  },
  {
   "cell_type": "markdown",
   "id": "prompt-accident",
   "metadata": {},
   "source": [
    "## Определяем сетку параметров модели\n",
    "\n",
    "Будем считать, что сеть состоит из $L$ узлов, пакеты поступают на первую станцию и передаються по сети до тех пор, пока не будут обслужены последней станцией, либо не будут потерены из-за переполнения буфера на очередном узле.\n",
    "\n",
    "Сеть будем описывать с помощью шести параметров:\n",
    "\n",
    "- среднее значение интервалов между последовательными поступлениями пакетов в сеть ($\\lambda^{-1}$)\n",
    "- стандартное отклонение величин интервалов между последовательными поступлениями пакетов в сеть ($\\sigma_A$)\n",
    "- средняя длительность обслуживания ($\\mu^{-1}$)\n",
    "- стандартное отклонение длительности обслуживания ($\\sigma_S$)\n",
    "- число станций в сети ($L$)\n",
    "- емкость очередей ($N$)\n",
    "\n",
    "Из этих параметров можно полуить производные значения, которые оказываются более удобными при анализе:\n",
    "\n",
    "- загрузка первой станции $\\rho = \\lambda / \\mu$\n",
    "- коэффициент вариации интервалов между поступлениями пакетов $c_A = \\lambda \\sigma_A$\n",
    "- коэффициент вариации времени обслуживания $c_S = \\mu \\sigma_S$\n",
    "\n",
    "Сетку будем задавать на множестве параметров $(\\lambda^{-1}, \\sigma_A, \\mu^{-1}, \\sigma_S, L, N)$.\n",
    "\n",
    "Чтобы не пересчитывать результаты каждый раз заново, будем сохранять результаты расчета в файл `data/01_tandem_simulations.csv`. Если такого файла нет, или установлен флаг `FORCE_SIMULATION = True`, то каждая точка сетки будет рассчитана заново, а результаты расчета будут сохранены в файл. В противном случае расчет будет выполняться только в тогда, когда точки нет в файле, или в текущем расчете предполагается моделировать больше пакетов, то есть получить более точные результаты."
   ]
  },
  {
   "cell_type": "code",
   "execution_count": 49,
   "id": "parallel-frank",
   "metadata": {},
   "outputs": [
    {
     "output_type": "display_data",
     "data": {
      "text/plain": "  0%|          | 0/60 [00:00<?, ?it/s]",
      "application/vnd.jupyter.widget-view+json": {
       "version_major": 2,
       "version_minor": 0,
       "model_id": "5ced80da30694f87a886da937aa9ccbf"
      }
     },
     "metadata": {}
    },
    {
     "output_type": "stream",
     "name": "stdout",
     "text": [
      "DataFrame:\n<class 'pandas.core.frame.DataFrame'>\nInt64Index: 1 entries, 1 to 1\nData columns (total 13 columns):\n #   Column        Non-Null Count  Dtype  \n---  ------        --------------  -----  \n 0   ArrAvg        1 non-null      float64\n 1   ArrStd        1 non-null      float64\n 2   ArrCv         1 non-null      float64\n 3   SrvAvg        1 non-null      float64\n 4   SrvStd        1 non-null      float64\n 5   SrvCv         1 non-null      float64\n 6   Rho           1 non-null      float64\n 7   NetSize       1 non-null      float64\n 8   Capacity      1 non-null      float64\n 9   NumPackets    1 non-null      float64\n 10  DelayAvg      1 non-null      float64\n 11  DelayStd      1 non-null      float64\n 12  DeliveryProb  1 non-null      float64\ndtypes: float64(13)\nmemory usage: 220.0 bytes\nNone\n   ArrAvg  ArrStd  ArrCv  SrvAvg  SrvStd  SrvCv   Rho  NetSize  Capacity  \\\n1    10.0     1.0    0.1     2.5     2.5    1.0  0.25      5.0      10.0   \n\n   NumPackets  DelayAvg  DelayStd  DeliveryProb  \n1     10000.0  2.009153  0.895062           1.0  \n"
     ]
    },
    {
     "output_type": "error",
     "ename": "KeyError",
     "evalue": "",
     "traceback": [
      "\u001b[0;31m---------------------------------------------------------------------------\u001b[0m",
      "\u001b[0;31mKeyError\u001b[0m                                  Traceback (most recent call last)",
      "\u001b[0;32m~/workspace/pyqumo/.venv/lib/python3.8/site-packages/pandas/core/indexes/base.py\u001b[0m in \u001b[0;36mget_loc\u001b[0;34m(self, key, method, tolerance)\u001b[0m\n\u001b[1;32m   3079\u001b[0m             \u001b[0;32mtry\u001b[0m\u001b[0;34m:\u001b[0m\u001b[0;34m\u001b[0m\u001b[0;34m\u001b[0m\u001b[0m\n\u001b[0;32m-> 3080\u001b[0;31m                 \u001b[0;32mreturn\u001b[0m \u001b[0mself\u001b[0m\u001b[0;34m.\u001b[0m\u001b[0m_engine\u001b[0m\u001b[0;34m.\u001b[0m\u001b[0mget_loc\u001b[0m\u001b[0;34m(\u001b[0m\u001b[0mcasted_key\u001b[0m\u001b[0;34m)\u001b[0m\u001b[0;34m\u001b[0m\u001b[0;34m\u001b[0m\u001b[0m\n\u001b[0m\u001b[1;32m   3081\u001b[0m             \u001b[0;32mexcept\u001b[0m \u001b[0mKeyError\u001b[0m \u001b[0;32mas\u001b[0m \u001b[0merr\u001b[0m\u001b[0;34m:\u001b[0m\u001b[0;34m\u001b[0m\u001b[0;34m\u001b[0m\u001b[0m\n",
      "\u001b[0;32mpandas/_libs/index.pyx\u001b[0m in \u001b[0;36mpandas._libs.index.IndexEngine.get_loc\u001b[0;34m()\u001b[0m\n",
      "\u001b[0;32mpandas/_libs/index.pyx\u001b[0m in \u001b[0;36mpandas._libs.index.IndexEngine.get_loc\u001b[0;34m()\u001b[0m\n",
      "\u001b[0;32mpandas/_libs/hashtable_class_helper.pxi\u001b[0m in \u001b[0;36mpandas._libs.hashtable.Int64HashTable.get_item\u001b[0;34m()\u001b[0m\n",
      "\u001b[0;32mpandas/_libs/hashtable_class_helper.pxi\u001b[0m in \u001b[0;36mpandas._libs.hashtable.Int64HashTable.get_item\u001b[0;34m()\u001b[0m\n",
      "\u001b[0;31mKeyError\u001b[0m: 0",
      "\nThe above exception was the direct cause of the following exception:\n",
      "\u001b[0;31mKeyError\u001b[0m                                  Traceback (most recent call last)",
      "\u001b[0;32m<ipython-input-48-8eaf24f24d35>\u001b[0m in \u001b[0;36msimulate\u001b[0;34m(df, arr_avg, arr_std, srv_avg, srv_std, net_size, capacity, num_packets, force)\u001b[0m\n\u001b[1;32m     25\u001b[0m     \u001b[0;32mtry\u001b[0m\u001b[0;34m:\u001b[0m\u001b[0;34m\u001b[0m\u001b[0;34m\u001b[0m\u001b[0m\n\u001b[0;32m---> 26\u001b[0;31m         \u001b[0mnot_enough_packets\u001b[0m \u001b[0;34m=\u001b[0m \u001b[0;32mnot\u001b[0m \u001b[0mno_row\u001b[0m \u001b[0;32mand\u001b[0m \u001b[0mrow_df\u001b[0m\u001b[0;34m.\u001b[0m\u001b[0mNumPackets\u001b[0m\u001b[0;34m[\u001b[0m\u001b[0;36m0\u001b[0m\u001b[0;34m]\u001b[0m \u001b[0;34m<\u001b[0m \u001b[0mnum_packets\u001b[0m\u001b[0;34m\u001b[0m\u001b[0;34m\u001b[0m\u001b[0m\n\u001b[0m\u001b[1;32m     27\u001b[0m     \u001b[0;32mexcept\u001b[0m \u001b[0mKeyError\u001b[0m \u001b[0;32mas\u001b[0m \u001b[0me\u001b[0m\u001b[0;34m:\u001b[0m\u001b[0;34m\u001b[0m\u001b[0;34m\u001b[0m\u001b[0m\n",
      "\u001b[0;32m~/workspace/pyqumo/.venv/lib/python3.8/site-packages/pandas/core/series.py\u001b[0m in \u001b[0;36m__getitem__\u001b[0;34m(self, key)\u001b[0m\n\u001b[1;32m    850\u001b[0m         \u001b[0;32melif\u001b[0m \u001b[0mkey_is_scalar\u001b[0m\u001b[0;34m:\u001b[0m\u001b[0;34m\u001b[0m\u001b[0;34m\u001b[0m\u001b[0m\n\u001b[0;32m--> 851\u001b[0;31m             \u001b[0;32mreturn\u001b[0m \u001b[0mself\u001b[0m\u001b[0;34m.\u001b[0m\u001b[0m_get_value\u001b[0m\u001b[0;34m(\u001b[0m\u001b[0mkey\u001b[0m\u001b[0;34m)\u001b[0m\u001b[0;34m\u001b[0m\u001b[0;34m\u001b[0m\u001b[0m\n\u001b[0m\u001b[1;32m    852\u001b[0m \u001b[0;34m\u001b[0m\u001b[0m\n",
      "\u001b[0;32m~/workspace/pyqumo/.venv/lib/python3.8/site-packages/pandas/core/series.py\u001b[0m in \u001b[0;36m_get_value\u001b[0;34m(self, label, takeable)\u001b[0m\n\u001b[1;32m    958\u001b[0m         \u001b[0;31m# Similar to Index.get_value, but we do not fall back to positional\u001b[0m\u001b[0;34m\u001b[0m\u001b[0;34m\u001b[0m\u001b[0;34m\u001b[0m\u001b[0m\n\u001b[0;32m--> 959\u001b[0;31m         \u001b[0mloc\u001b[0m \u001b[0;34m=\u001b[0m \u001b[0mself\u001b[0m\u001b[0;34m.\u001b[0m\u001b[0mindex\u001b[0m\u001b[0;34m.\u001b[0m\u001b[0mget_loc\u001b[0m\u001b[0;34m(\u001b[0m\u001b[0mlabel\u001b[0m\u001b[0;34m)\u001b[0m\u001b[0;34m\u001b[0m\u001b[0;34m\u001b[0m\u001b[0m\n\u001b[0m\u001b[1;32m    960\u001b[0m         \u001b[0;32mreturn\u001b[0m \u001b[0mself\u001b[0m\u001b[0;34m.\u001b[0m\u001b[0mindex\u001b[0m\u001b[0;34m.\u001b[0m\u001b[0m_get_values_for_loc\u001b[0m\u001b[0;34m(\u001b[0m\u001b[0mself\u001b[0m\u001b[0;34m,\u001b[0m \u001b[0mloc\u001b[0m\u001b[0;34m,\u001b[0m \u001b[0mlabel\u001b[0m\u001b[0;34m)\u001b[0m\u001b[0;34m\u001b[0m\u001b[0;34m\u001b[0m\u001b[0m\n",
      "\u001b[0;32m~/workspace/pyqumo/.venv/lib/python3.8/site-packages/pandas/core/indexes/base.py\u001b[0m in \u001b[0;36mget_loc\u001b[0;34m(self, key, method, tolerance)\u001b[0m\n\u001b[1;32m   3081\u001b[0m             \u001b[0;32mexcept\u001b[0m \u001b[0mKeyError\u001b[0m \u001b[0;32mas\u001b[0m \u001b[0merr\u001b[0m\u001b[0;34m:\u001b[0m\u001b[0;34m\u001b[0m\u001b[0;34m\u001b[0m\u001b[0m\n\u001b[0;32m-> 3082\u001b[0;31m                 \u001b[0;32mraise\u001b[0m \u001b[0mKeyError\u001b[0m\u001b[0;34m(\u001b[0m\u001b[0mkey\u001b[0m\u001b[0;34m)\u001b[0m \u001b[0;32mfrom\u001b[0m \u001b[0merr\u001b[0m\u001b[0;34m\u001b[0m\u001b[0;34m\u001b[0m\u001b[0m\n\u001b[0m\u001b[1;32m   3083\u001b[0m \u001b[0;34m\u001b[0m\u001b[0m\n",
      "\u001b[0;31mKeyError\u001b[0m: 0",
      "\nThe above exception was the direct cause of the following exception:\n",
      "\u001b[0;31mKeyError\u001b[0m                                  Traceback (most recent call last)",
      "\u001b[0;32m<ipython-input-49-cea373a14569>\u001b[0m in \u001b[0;36m<module>\u001b[0;34m\u001b[0m\n\u001b[1;32m     11\u001b[0m \u001b[0;31m# Выполним симуляцию, если нужно:\u001b[0m\u001b[0;34m\u001b[0m\u001b[0;34m\u001b[0m\u001b[0;34m\u001b[0m\u001b[0m\n\u001b[1;32m     12\u001b[0m \u001b[0;32mfor\u001b[0m \u001b[0marr_avg\u001b[0m\u001b[0;34m,\u001b[0m \u001b[0marr_std\u001b[0m\u001b[0;34m,\u001b[0m \u001b[0msrv_avg\u001b[0m\u001b[0;34m,\u001b[0m \u001b[0msrv_std\u001b[0m\u001b[0;34m,\u001b[0m \u001b[0mnet_size\u001b[0m\u001b[0;34m,\u001b[0m \u001b[0mcapacity\u001b[0m \u001b[0;32min\u001b[0m \u001b[0mtqdm\u001b[0m\u001b[0;34m(\u001b[0m\u001b[0mALL_PARAMS\u001b[0m\u001b[0;34m)\u001b[0m\u001b[0;34m:\u001b[0m\u001b[0;34m\u001b[0m\u001b[0;34m\u001b[0m\u001b[0m\n\u001b[0;32m---> 13\u001b[0;31m     sim_data = simulate(\n\u001b[0m\u001b[1;32m     14\u001b[0m         \u001b[0msim_data\u001b[0m\u001b[0;34m,\u001b[0m\u001b[0;34m\u001b[0m\u001b[0;34m\u001b[0m\u001b[0m\n\u001b[1;32m     15\u001b[0m         \u001b[0marr_avg\u001b[0m\u001b[0;34m=\u001b[0m\u001b[0marr_avg\u001b[0m\u001b[0;34m,\u001b[0m\u001b[0;34m\u001b[0m\u001b[0;34m\u001b[0m\u001b[0m\n",
      "\u001b[0;32m<ipython-input-48-8eaf24f24d35>\u001b[0m in \u001b[0;36msimulate\u001b[0;34m(df, arr_avg, arr_std, srv_avg, srv_std, net_size, capacity, num_packets, force)\u001b[0m\n\u001b[1;32m     29\u001b[0m         \u001b[0mprint\u001b[0m\u001b[0;34m(\u001b[0m\u001b[0mrow_df\u001b[0m\u001b[0;34m.\u001b[0m\u001b[0minfo\u001b[0m\u001b[0;34m(\u001b[0m\u001b[0;34m)\u001b[0m\u001b[0;34m)\u001b[0m\u001b[0;34m\u001b[0m\u001b[0;34m\u001b[0m\u001b[0m\n\u001b[1;32m     30\u001b[0m         \u001b[0mprint\u001b[0m\u001b[0;34m(\u001b[0m\u001b[0mrow_df\u001b[0m\u001b[0;34m)\u001b[0m\u001b[0;34m\u001b[0m\u001b[0;34m\u001b[0m\u001b[0m\n\u001b[0;32m---> 31\u001b[0;31m         \u001b[0;32mraise\u001b[0m \u001b[0mKeyError\u001b[0m \u001b[0;32mfrom\u001b[0m \u001b[0me\u001b[0m\u001b[0;34m\u001b[0m\u001b[0;34m\u001b[0m\u001b[0m\n\u001b[0m\u001b[1;32m     32\u001b[0m \u001b[0;34m\u001b[0m\u001b[0m\n\u001b[1;32m     33\u001b[0m     \u001b[0;31m# Проверим, нужно ли пересчитать результаты:\u001b[0m\u001b[0;34m\u001b[0m\u001b[0;34m\u001b[0m\u001b[0;34m\u001b[0m\u001b[0m\n",
      "\u001b[0;31mKeyError\u001b[0m: "
     ]
    }
   ],
   "source": [
    "ARRIVAL_AVG = np.asarray([10, 20])\n",
    "ARRIVAL_STD = np.asarray([1, 5, 10])\n",
    "SERVICE_AVG = np.asarray([2.5, 5])\n",
    "SERVICE_STD = np.asarray([1, 2.5, 5, 7.5, 10])\n",
    "NET_SIZE = np.asarray([5])\n",
    "CAPACITY = np.asarray([10])\n",
    "\n",
    "# Объединим все параметры в декартово произведение:\n",
    "ALL_PARAMS = list(product(ARRIVAL_AVG, ARRIVAL_STD, SERVICE_AVG, SERVICE_STD, NET_SIZE, CAPACITY))\n",
    "\n",
    "# Выполним симуляцию, если нужно:\n",
    "for arr_avg, arr_std, srv_avg, srv_std, net_size, capacity in tqdm(ALL_PARAMS):\n",
    "    sim_data = simulate(\n",
    "        sim_data,\n",
    "        arr_avg=arr_avg,\n",
    "        arr_std=arr_std,\n",
    "        srv_avg=srv_avg,\n",
    "        srv_std=srv_std,\n",
    "        net_size=net_size,\n",
    "        capacity=capacity,\n",
    "        num_packets=NUM_PACKETS)"
   ]
  },
  {
   "cell_type": "code",
   "execution_count": 35,
   "id": "biblical-extension",
   "metadata": {},
   "outputs": [],
   "source": []
  },
  {
   "cell_type": "code",
   "execution_count": 37,
   "id": "young-austin",
   "metadata": {},
   "outputs": [
    {
     "name": "stdout",
     "output_type": "stream",
     "text": [
      "Defined 60 parameters grid points\n"
     ]
    }
   ],
   "source": [
    "\n",
    "# Build the parameters grid:\n",
    "parameters = [\n",
    "    Params(arrival_avg, arrival_std, service_avg, service_std, num_stations, queue_capacity)\n",
    "    for (arrival_avg, arrival_std, service_avg, service_std, num_stations, queue_capacity) \n",
    "    in product(ARRIVAL_AVG, ARRIVAL_STD, SERVICE_AVG, SERVICE_STD, NUM_STATIONS, QUEUE_CAPACITY)\n",
    "]\n",
    "print(f\"Defined {len(parameters)} parameters grid points\")"
   ]
  },
  {
   "cell_type": "code",
   "execution_count": 38,
   "id": "equivalent-issue",
   "metadata": {},
   "outputs": [],
   "source": [
    "# Run the simulation\n",
    "results = []  # store (params, ret), where `ret` is an instance of `pyqumo.sim.tandem.Result`\n",
    "NUM_PACKETS = 100000\n",
    "\n",
    "# This function returns the most appropriate distribution:\n",
    "def get_distribution(avg, std):\n",
    "    cv = std / avg\n",
    "    if cv == 1:\n",
    "        return Exponential(avg)\n",
    "    if cv > 1:\n",
    "        return HyperExponential.fit(avg, std)\n",
    "    return Erlang.fit(avg, std)\n",
    "\n",
    "\n",
    "for params in parameters:\n",
    "    arrival = get_distribution(params.arrival_avg, params.arrival_std)\n",
    "    services = [\n",
    "        get_distribution(params.service_avg, params.service_std)\n",
    "        for _ in range(params.num_stations)\n",
    "    ]\n",
    "    ret = simulate_tandem(arrival, services, params.queue_capacity, NUM_PACKETS)\n",
    "    results.append((params, ret))\n"
   ]
  },
  {
   "cell_type": "code",
   "execution_count": 39,
   "id": "virgin-passing",
   "metadata": {},
   "outputs": [
    {
     "name": "stdout",
     "output_type": "stream",
     "text": [
      "  Arr.avg.    Arr.std.    Srv.avg.    Srv. std.    Queue capacity    Num. stations    Delay avg.    Delay std.    Delivery P.\n",
      "----------  ----------  ----------  -----------  ----------------  ---------------  ------------  ------------  -------------\n",
      "        10           1         2.5          1                  10                5     12.0198        2.18141       1\n",
      "        10           1         2.5          2.5                10                5      1.99511       0.890679      1\n",
      "        10           1         2.5          5                  10                5     20.3976       15.2676        0.99997\n",
      "        10           1         2.5          7.5                10                5     33.5042       31.4547        0.987119\n",
      "        10           1         2.5         10                  10                5     46.1059       48.7794        0.938449\n",
      "        10           1         5            1                  10                5     25.1002        2.18963       1\n",
      "        10           1         5            2.5                10                5     27.2509        5.51475       1\n",
      "        10           1         5            5                  10                5      0.999756      0.448962      1\n",
      "        10           1         5            7.5                10                5     60.245        27.9038        0.99611\n",
      "        10           1         5           10                  10                5     86.3733       43.4471        0.954466\n",
      "        10           5         2.5          1                  10                5     12.1936        2.20321       1\n",
      "        10           5         2.5          2.5                10                5      2.00381       0.896927      1\n",
      "        10           5         2.5          5                  10                5     21.8785       16.2856        0.99968\n",
      "        10           5         2.5          7.5                10                5     33.5158       30.9736        0.987249\n",
      "        10           5         2.5         10                  10                5     47.0488       48.9259        0.935208\n",
      "        10           5         5            1                  10                5     25.9699        2.65209       1\n",
      "        10           5         5            2.5                10                5     29.264         6.71592       1\n",
      "        10           5         5            5                  10                5      1.00131       0.450215      1\n",
      "        10           5         5            7.5                10                5     63.3861       29.9902        0.99379\n",
      "        10           5         5           10                  10                5     87.5097       44.5745        0.949674\n",
      "        10          10         2.5          1                  10                5     71.3604        8.73533       0.0400552\n",
      "        10          10         2.5          2.5                10                5     12.4777        2.0992        0.208133\n",
      "        10          10         2.5          5                  10                5     92.185        24.6681        0.0236845\n",
      "        10          10         2.5          7.5                10                5    105.173        46.8817        0.0175926\n",
      "        10          10         2.5         10                  10                5    113.574        58.9472        0.0141132\n",
      "        10          10         5            1                  10                5    114.527        14.9904        0.0196353\n",
      "        10          10         5            2.5                10                5    153.687        20.7713        0.0189062\n",
      "        10          10         5            5                  10                5      6.09721       1.03134       0.416538\n",
      "        10          10         5            7.5                10                5    163.163        35.006         0.0136033\n",
      "        10          10         5           10                  10                5    180.794        48.1495        0.0116833\n",
      "        20           1         2.5          1                  10                5     11.9988        2.19614       1\n",
      "        20           1         2.5          2.5                10                5      1.99832       0.892429      1\n",
      "        20           1         2.5          5                  10                5     14.2382       12.1895        1\n",
      "        20           1         2.5          7.5                10                5     18.6662       21.9289        1\n",
      "        20           1         2.5         10                  10                5     25.2048       35.1922        0.99878\n",
      "        20           1         5            1                  10                5     25.0085        2.23584       1\n",
      "        20           1         5            2.5                10                5     25.0803        5.56116       1\n",
      "        20           1         5            5                  10                5      1.00434       0.448205      1\n",
      "        20           1         5            7.5                10                5     32.5585       19.3571        1\n",
      "        20           1         5           10                  10                5     40.7899       29.715         0.99997\n",
      "        20           5         2.5          1                  10                5     12.0009        2.19436       1\n",
      "        20           5         2.5          2.5                10                5      2.00044       0.894114      1\n",
      "        20           5         2.5          5                  10                5     14.4377       12.3004        1\n",
      "        20           5         2.5          7.5                10                5     18.9956       22.4083        0.99996\n",
      "        20           5         2.5         10                  10                5     25.8968       36.2814        0.99834\n",
      "        20           5         5            1                  10                5     24.9996        2.232         1\n",
      "        20           5         5            2.5                10                5     25.2161        5.53313       1\n",
      "        20           5         5            5                  10                5      0.999973      0.448331      1\n",
      "        20           5         5            7.5                10                5     32.9481       19.5068        1\n",
      "        20           5         5           10                  10                5     41.1115       29.8723        0.9999\n",
      "        20          10         2.5          1                  10                5     12.018         2.18522       1\n",
      "        20          10         2.5          2.5                10                5      2.00292       0.896513      1\n",
      "        20          10         2.5          5                  10                5     15.1519       12.7998        1\n",
      "        20          10         2.5          7.5                10                5     19.777        22.775         0.99998\n",
      "        20          10         2.5         10                  10                5     26.5314       36.5626        0.99803\n",
      "        20          10         5            1                  10                5     25.1174        2.26981       1\n",
      "        20          10         5            2.5                10                5     25.7393        5.67558       1\n",
      "        20          10         5            5                  10                5      0.999578      0.447853      1\n",
      "        20          10         5            7.5                10                5     34.617        20.4066        0.99999\n",
      "        20          10         5           10                  10                5     43.3759       31.2374        0.99986\n"
     ]
    }
   ],
   "source": [
    "# Build a table:\n",
    "from tabulate import tabulate\n",
    "\n",
    "rows = []\n",
    "for (param, ret) in results:\n",
    "    rows.append((param.arrival_avg, param.arrival_std, param.service_avg, param.service_std, param.queue_capacity, \n",
    "                 param.num_stations, ret.delivery_delays[0].avg, ret.delivery_delays[0].std, ret.delivery_prob[0]))\n",
    "print(tabulate(rows, headers=(\n",
    "    'Arr.avg.', 'Arr.std.',\n",
    "    'Srv.avg.', 'Srv. std.',\n",
    "    'Queue capacity', 'Num. stations',\n",
    "    'Delay avg.', 'Delay std.',\n",
    "    'Delivery P.'\n",
    ")))"
   ]
  },
  {
   "cell_type": "code",
   "execution_count": null,
   "id": "upset-explanation",
   "metadata": {},
   "outputs": [],
   "source": []
  }
 ],
 "metadata": {
  "kernelspec": {
   "display_name": "Python 3",
   "language": "python",
   "name": "python3"
  },
  "language_info": {
   "codemirror_mode": {
    "name": "ipython",
    "version": 3
   },
   "file_extension": ".py",
   "mimetype": "text/x-python",
   "name": "python",
   "nbconvert_exporter": "python",
   "pygments_lexer": "ipython3",
   "version": "3.8.5-final"
  }
 },
 "nbformat": 4,
 "nbformat_minor": 5
}