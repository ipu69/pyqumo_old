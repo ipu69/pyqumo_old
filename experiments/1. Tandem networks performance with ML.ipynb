{
 "cells": [
  {
   "cell_type": "markdown",
   "id": "uniform-summit",
   "metadata": {},
   "source": [
    "# Эксперимент №1: расчет характеристик тандемной сети с узлами MAP/PH/1/N с помощью имитационного моделирования и машинного обучения\n",
    "\n",
    "В этом эксперименте мы рассчитаем различные характеристики сетей с линейной топологией, на вход которых поступает MAP-поток, а обслуживание имеет распределение фазового типа. Сначала мы рассчитаем характеристики на заданной сетке статистических параметров с помощью имитационного моделирования сети, а затем используем полученные результаты для обучения нейросетевых и других моделей ML, которые сможем использовать для очень быстрой оценки характеристик сетей. Например, такой подход полезен при нахождении решений задач оптимизации топологии, когда характеристики сетей с линейной топологией являются ограничениями в алгоритме ветвей и границ. "
   ]
  },
  {
   "cell_type": "markdown",
   "id": "collectible-interpretation",
   "metadata": {},
   "source": [
    "## Подготовка ноутбука\n",
    "\n",
    "Импортируем все необходимые библиотеки, настроим флаги и константы, которыми будем пользоваться в эксперименте, и определим служебные функции, чтобы не отвлекаться на них в расчетной части эксперимента."
   ]
  },
  {
   "cell_type": "code",
   "execution_count": 1,
   "id": "requested-question",
   "metadata": {},
   "outputs": [],
   "source": [
    "# Если что-то меняется в коде, мы хотим это сразу видеть здесь\n",
    "%load_ext autoreload\n",
    "%autoreload 2"
   ]
  },
  {
   "cell_type": "code",
   "execution_count": 2,
   "id": "cardiovascular-worst",
   "metadata": {},
   "outputs": [],
   "source": [
    "import os\n",
    "\n",
    "import matplotlib\n",
    "import matplotlib.pyplot as plt\n",
    "from matplotlib import cm\n",
    "\n",
    "from tabulate import tabulate\n",
    "from tqdm.notebook import tqdm\n",
    "\n",
    "from itertools import product\n",
    "from collections import namedtuple\n",
    "import time\n",
    "import numpy as np\n",
    "import pandas as pd\n",
    "\n",
    "# Подключаем локальные пакеты\n",
    "from pyqumo.random import Exponential, HyperExponential, Erlang\n",
    "from pyqumo.cqumo.sim import simulate_tandem"
   ]
  },
  {
   "cell_type": "code",
   "execution_count": 3,
   "id": "alike-photography",
   "metadata": {},
   "outputs": [],
   "source": [
    "# Настраиваем matplotlib\n",
    "%matplotlib inline\n",
    "matplotlib.rcParams.update({'font.size': 16})"
   ]
  },
  {
   "cell_type": "markdown",
   "id": "proved-account",
   "metadata": {},
   "source": [
    "Определим переменные окружения, которые будут использоваться в эксперименте."
   ]
  },
  {
   "cell_type": "code",
   "execution_count": 4,
   "id": "behavioral-demonstration",
   "metadata": {},
   "outputs": [],
   "source": [
    "# Нужно ли пересчитывать все, или можно использовать результаты из файлов\n",
    "FORCE_SIMULATION = True\n",
    "SIM_FILE_NAME = '01_tandem_simulation.csv'\n",
    "SIM_FILE_DIR = 'data'\n",
    "SIM_FILE_PATH = os.path.join(SIM_FILE_DIR, SIM_FILE_NAME)\n",
    "\n",
    "# Цветовая схема для графиков\n",
    "CMAP_NAME = 'viridis'"
   ]
  },
  {
   "cell_type": "code",
   "execution_count": 5,
   "id": "indie-bandwidth",
   "metadata": {},
   "outputs": [],
   "source": [
    "def get_color(x):\n",
    "    \"\"\"\n",
    "    Получить цвет из текущей карты.\n",
    "    \"\"\"\n",
    "    return cm.get_cmap(CMAP_NAME)(x)"
   ]
  },
  {
   "cell_type": "markdown",
   "id": "wicked-validation",
   "metadata": {},
   "source": [
    "## Вызов имитационной модели, чтение и сохранение результатов"
   ]
  },
  {
   "cell_type": "markdown",
   "id": "caring-product",
   "metadata": {},
   "source": [
    "Определим полезные функции, которые нам потребуются для работы с данными имитационного моделирования:\n",
    "\n",
    "- `load_sim_data()`: читает файл `SIM_FILE_NAME`, если он существует, или создает новый `DataFrame` для хранения данных о результатах имитационного моделирования.\n",
    "- `save_sim_data()`: сохраняет результаты, записанные в `DataFrame`, в файл `SIM_FILE_PATH`."
   ]
  },
  {
   "cell_type": "code",
   "execution_count": 6,
   "id": "acoustic-preparation",
   "metadata": {},
   "outputs": [
    {
     "name": "stdout",
     "output_type": "stream",
     "text": [
      "<class 'pandas.core.frame.DataFrame'>\n",
      "Index: 0 entries\n",
      "Data columns (total 12 columns):\n",
      " #   Column        Non-Null Count  Dtype \n",
      "---  ------        --------------  ----- \n",
      " 0   ArrAvg        0 non-null      object\n",
      " 1   ArrStd        0 non-null      object\n",
      " 2   ArrCv         0 non-null      object\n",
      " 3   SrvAvg        0 non-null      object\n",
      " 4   SrvStd        0 non-null      object\n",
      " 5   SrvCv         0 non-null      object\n",
      " 6   Rho           0 non-null      object\n",
      " 7   NetSize       0 non-null      object\n",
      " 8   Capacity      0 non-null      object\n",
      " 9   NumPackets    0 non-null      object\n",
      " 10  AvgDelay      0 non-null      object\n",
      " 11  DeliveryProb  0 non-null      object\n",
      "dtypes: object(12)\n",
      "memory usage: 0.0+ bytes\n"
     ]
    }
   ],
   "source": [
    "def save_sim_data(df: pd.DataFrame):\n",
    "    \"\"\"\n",
    "    Сохранить в файл данные о результатах имитационного моделирования.\n",
    "    \"\"\"\n",
    "    if not os.path.exists(SIM_FILE_DIR):\n",
    "        os.makedirs(SIM_FILE_DIR)\n",
    "    df.to_csv(SIM_FILE_PATH, index_label='Id')\n",
    "\n",
    "    \n",
    "def load_sim_data() -> pd.DataFrame:\n",
    "    \"\"\"\n",
    "    Загрузить данные о резулдьтатах имитационного моделирования.\n",
    "    \"\"\"       \n",
    "    if os.path.exists(SIM_FILE_PATH):\n",
    "        return pd.read_csv(SIM_FILE_PATH)\n",
    "    return pd.DataFrame(columns=('ArrAvg', 'ArrStd', 'ArrCv', 'SrvAvg', 'SrvStd', 'SrvCv', 'Rho', \n",
    "                                 'NetSize', 'Capacity', 'NumPackets',\n",
    "                                 'AvgDelay', 'DeliveryProb'))\n",
    "\n",
    "maps_df = load_sim_data()\n",
    "maps_df.info()"
   ]
  },
  {
   "cell_type": "markdown",
   "id": "durable-malpractice",
   "metadata": {},
   "source": [
    "Функция `get_or_simulate(df, *, force=False, **kwargs)` работает так: если данные об эксперименте с заданными параметрами уже есть в `DataFrame`, не задан `force=True`, не установлена константа `FORCE_SIMULATION=True` и не указано значение `num_packets`, большее, чем в существующей записи, вернуть это значение. Если же хотя бы одно из этих условий нарушено, выполнить моделирование."
   ]
  },
  {
   "cell_type": "code",
   "execution_count": null,
   "id": "hungry-bulgaria",
   "metadata": {},
   "outputs": [],
   "source": [
    "def get_or_simulate(df: pd.DataFrame, *, force=False, num_packets=None, **kwargs) -> pd.DataFrame:\n",
    "    \"\"\"\n",
    "    Получить строку с данными (параметрами и характеристиками) сети с заданными параметрами.\n",
    "    \n",
    "    Возможные ключи в kwargs:\n",
    "    \n",
    "    - arr_avg\n",
    "    - arr_std\n",
    "    - arr_cv\n",
    "    - srv_avg\n",
    "    - srv_std\n",
    "    - srv_cv\n",
    "    - rho\n",
    "    - net_size\n",
    "    - capacity\n",
    "    - avg_delay\n",
    "    - delivery_prob\n",
    "    \n",
    "    Если константа `FORCE_SIMULATION=True` или аргумент `force=True`, или параметр `num_packets` больше, \n",
    "    чем значение в `df` для указанных аргументов из `kwargs`, то будет выполнена имитационная модель,\n",
    "    результат записан в `df` и возвращен.\n",
    "    \n",
    "    Если указано слишком мало параметров\n",
    "    \"\"\""
   ]
  },
  {
   "cell_type": "markdown",
   "id": "prompt-accident",
   "metadata": {},
   "source": [
    "## Определяем сетку параметров модели\n",
    "\n",
    "Будем считать, что сеть состоит из $L$ узлов, пакеты поступают на первую станцию и передаються по сети до тех пор, пока не будут обслужены последней станцией, либо не будут потерены из-за переполнения буфера на очередном узле.\n",
    "\n",
    "Сеть будем описывать с помощью шести параметров:\n",
    "\n",
    "- среднее значение интервалов между последовательными поступлениями пакетов в сеть ($\\lambda^{-1}$)\n",
    "- стандартное отклонение величин интервалов между последовательными поступлениями пакетов в сеть ($\\sigma_A$)\n",
    "- средняя длительность обслуживания ($\\mu^{-1}$)\n",
    "- стандартное отклонение длительности обслуживания ($\\sigma_S$)\n",
    "- число станций в сети ($L$)\n",
    "- емкость очередей ($N$)\n",
    "\n",
    "Из этих параметров можно полуить производные значения, которые оказываются более удобными при анализе:\n",
    "\n",
    "- загрузка первой станции $\\rho = \\lambda / \\mu$\n",
    "- коэффициент вариации интервалов между поступлениями пакетов $c_A = \\lambda \\sigma_A$\n",
    "- коэффициент вариации времени обслуживания $c_S = \\mu \\sigma_S$\n",
    "\n",
    "Сетку будем задавать на множестве параметров $(\\lambda^{-1}, \\sigma_A, \\mu^{-1}, \\sigma_S, L, N)$.\n",
    "\n",
    "Чтобы не пересчитывать результаты каждый раз заново, будем сохранять результаты расчета в файл `data/01_tandem_simulations.csv`. Если такого файла нет, или установлен флаг `FORCE_SIMULATION = True`, то каждая точка сетки будет рассчитана заново, а результаты расчета будут сохранены в файл. В противном случае расчет будет выполняться только в тогда, когда точки нет в файле, или в текущем расчете предполагается моделировать больше пакетов, то есть получить более точные результаты."
   ]
  },
  {
   "cell_type": "code",
   "execution_count": null,
   "id": "parallel-frank",
   "metadata": {},
   "outputs": [],
   "source": []
  },
  {
   "cell_type": "code",
   "execution_count": 35,
   "id": "biblical-extension",
   "metadata": {},
   "outputs": [],
   "source": [
    "Params = namedtuple('Params', [\n",
    "    'arrival_avg',\n",
    "    'arrival_std',\n",
    "    'service_avg',\n",
    "    'service_std',\n",
    "    'num_stations',\n",
    "    'queue_capacity'\n",
    "])"
   ]
  },
  {
   "cell_type": "code",
   "execution_count": 37,
   "id": "young-austin",
   "metadata": {},
   "outputs": [
    {
     "name": "stdout",
     "output_type": "stream",
     "text": [
      "Defined 60 parameters grid points\n"
     ]
    }
   ],
   "source": [
    "ARRIVAL_AVG = np.asarray([10, 20])\n",
    "ARRIVAL_STD = np.asarray([1, 5, 10])\n",
    "SERVICE_AVG = np.asarray([2.5, 5])\n",
    "SERVICE_STD = np.asarray([1, 2.5, 5, 7.5, 10])\n",
    "NUM_STATIONS = np.asarray([5])\n",
    "QUEUE_CAPACITY = np.asarray([10])\n",
    "\n",
    "# Build the parameters grid:\n",
    "parameters = [\n",
    "    Params(arrival_avg, arrival_std, service_avg, service_std, num_stations, queue_capacity)\n",
    "    for (arrival_avg, arrival_std, service_avg, service_std, num_stations, queue_capacity) \n",
    "    in product(ARRIVAL_AVG, ARRIVAL_STD, SERVICE_AVG, SERVICE_STD, NUM_STATIONS, QUEUE_CAPACITY)\n",
    "]\n",
    "print(f\"Defined {len(parameters)} parameters grid points\")"
   ]
  },
  {
   "cell_type": "code",
   "execution_count": 38,
   "id": "equivalent-issue",
   "metadata": {},
   "outputs": [],
   "source": [
    "# Run the simulation\n",
    "results = []  # store (params, ret), where `ret` is an instance of `pyqumo.sim.tandem.Result`\n",
    "NUM_PACKETS = 100000\n",
    "\n",
    "# This function returns the most appropriate distribution:\n",
    "def get_distribution(avg, std):\n",
    "    cv = std / avg\n",
    "    if cv == 1:\n",
    "        return Exponential(avg)\n",
    "    if cv > 1:\n",
    "        return HyperExponential.fit(avg, std)\n",
    "    return Erlang.fit(avg, std)\n",
    "\n",
    "\n",
    "for params in parameters:\n",
    "    arrival = get_distribution(params.arrival_avg, params.arrival_std)\n",
    "    services = [\n",
    "        get_distribution(params.service_avg, params.service_std)\n",
    "        for _ in range(params.num_stations)\n",
    "    ]\n",
    "    ret = simulate_tandem(arrival, services, params.queue_capacity, NUM_PACKETS)\n",
    "    results.append((params, ret))\n"
   ]
  },
  {
   "cell_type": "code",
   "execution_count": 39,
   "id": "virgin-passing",
   "metadata": {},
   "outputs": [
    {
     "name": "stdout",
     "output_type": "stream",
     "text": [
      "  Arr.avg.    Arr.std.    Srv.avg.    Srv. std.    Queue capacity    Num. stations    Delay avg.    Delay std.    Delivery P.\n",
      "----------  ----------  ----------  -----------  ----------------  ---------------  ------------  ------------  -------------\n",
      "        10           1         2.5          1                  10                5     12.0198        2.18141       1\n",
      "        10           1         2.5          2.5                10                5      1.99511       0.890679      1\n",
      "        10           1         2.5          5                  10                5     20.3976       15.2676        0.99997\n",
      "        10           1         2.5          7.5                10                5     33.5042       31.4547        0.987119\n",
      "        10           1         2.5         10                  10                5     46.1059       48.7794        0.938449\n",
      "        10           1         5            1                  10                5     25.1002        2.18963       1\n",
      "        10           1         5            2.5                10                5     27.2509        5.51475       1\n",
      "        10           1         5            5                  10                5      0.999756      0.448962      1\n",
      "        10           1         5            7.5                10                5     60.245        27.9038        0.99611\n",
      "        10           1         5           10                  10                5     86.3733       43.4471        0.954466\n",
      "        10           5         2.5          1                  10                5     12.1936        2.20321       1\n",
      "        10           5         2.5          2.5                10                5      2.00381       0.896927      1\n",
      "        10           5         2.5          5                  10                5     21.8785       16.2856        0.99968\n",
      "        10           5         2.5          7.5                10                5     33.5158       30.9736        0.987249\n",
      "        10           5         2.5         10                  10                5     47.0488       48.9259        0.935208\n",
      "        10           5         5            1                  10                5     25.9699        2.65209       1\n",
      "        10           5         5            2.5                10                5     29.264         6.71592       1\n",
      "        10           5         5            5                  10                5      1.00131       0.450215      1\n",
      "        10           5         5            7.5                10                5     63.3861       29.9902        0.99379\n",
      "        10           5         5           10                  10                5     87.5097       44.5745        0.949674\n",
      "        10          10         2.5          1                  10                5     71.3604        8.73533       0.0400552\n",
      "        10          10         2.5          2.5                10                5     12.4777        2.0992        0.208133\n",
      "        10          10         2.5          5                  10                5     92.185        24.6681        0.0236845\n",
      "        10          10         2.5          7.5                10                5    105.173        46.8817        0.0175926\n",
      "        10          10         2.5         10                  10                5    113.574        58.9472        0.0141132\n",
      "        10          10         5            1                  10                5    114.527        14.9904        0.0196353\n",
      "        10          10         5            2.5                10                5    153.687        20.7713        0.0189062\n",
      "        10          10         5            5                  10                5      6.09721       1.03134       0.416538\n",
      "        10          10         5            7.5                10                5    163.163        35.006         0.0136033\n",
      "        10          10         5           10                  10                5    180.794        48.1495        0.0116833\n",
      "        20           1         2.5          1                  10                5     11.9988        2.19614       1\n",
      "        20           1         2.5          2.5                10                5      1.99832       0.892429      1\n",
      "        20           1         2.5          5                  10                5     14.2382       12.1895        1\n",
      "        20           1         2.5          7.5                10                5     18.6662       21.9289        1\n",
      "        20           1         2.5         10                  10                5     25.2048       35.1922        0.99878\n",
      "        20           1         5            1                  10                5     25.0085        2.23584       1\n",
      "        20           1         5            2.5                10                5     25.0803        5.56116       1\n",
      "        20           1         5            5                  10                5      1.00434       0.448205      1\n",
      "        20           1         5            7.5                10                5     32.5585       19.3571        1\n",
      "        20           1         5           10                  10                5     40.7899       29.715         0.99997\n",
      "        20           5         2.5          1                  10                5     12.0009        2.19436       1\n",
      "        20           5         2.5          2.5                10                5      2.00044       0.894114      1\n",
      "        20           5         2.5          5                  10                5     14.4377       12.3004        1\n",
      "        20           5         2.5          7.5                10                5     18.9956       22.4083        0.99996\n",
      "        20           5         2.5         10                  10                5     25.8968       36.2814        0.99834\n",
      "        20           5         5            1                  10                5     24.9996        2.232         1\n",
      "        20           5         5            2.5                10                5     25.2161        5.53313       1\n",
      "        20           5         5            5                  10                5      0.999973      0.448331      1\n",
      "        20           5         5            7.5                10                5     32.9481       19.5068        1\n",
      "        20           5         5           10                  10                5     41.1115       29.8723        0.9999\n",
      "        20          10         2.5          1                  10                5     12.018         2.18522       1\n",
      "        20          10         2.5          2.5                10                5      2.00292       0.896513      1\n",
      "        20          10         2.5          5                  10                5     15.1519       12.7998        1\n",
      "        20          10         2.5          7.5                10                5     19.777        22.775         0.99998\n",
      "        20          10         2.5         10                  10                5     26.5314       36.5626        0.99803\n",
      "        20          10         5            1                  10                5     25.1174        2.26981       1\n",
      "        20          10         5            2.5                10                5     25.7393        5.67558       1\n",
      "        20          10         5            5                  10                5      0.999578      0.447853      1\n",
      "        20          10         5            7.5                10                5     34.617        20.4066        0.99999\n",
      "        20          10         5           10                  10                5     43.3759       31.2374        0.99986\n"
     ]
    }
   ],
   "source": [
    "# Build a table:\n",
    "from tabulate import tabulate\n",
    "\n",
    "rows = []\n",
    "for (param, ret) in results:\n",
    "    rows.append((param.arrival_avg, param.arrival_std, param.service_avg, param.service_std, param.queue_capacity, \n",
    "                 param.num_stations, ret.delivery_delays[0].avg, ret.delivery_delays[0].std, ret.delivery_prob[0]))\n",
    "print(tabulate(rows, headers=(\n",
    "    'Arr.avg.', 'Arr.std.',\n",
    "    'Srv.avg.', 'Srv. std.',\n",
    "    'Queue capacity', 'Num. stations',\n",
    "    'Delay avg.', 'Delay std.',\n",
    "    'Delivery P.'\n",
    ")))"
   ]
  },
  {
   "cell_type": "code",
   "execution_count": null,
   "id": "upset-explanation",
   "metadata": {},
   "outputs": [],
   "source": []
  }
 ],
 "metadata": {
  "kernelspec": {
   "display_name": "Python 3",
   "language": "python",
   "name": "python3"
  },
  "language_info": {
   "codemirror_mode": {
    "name": "ipython",
    "version": 3
   },
   "file_extension": ".py",
   "mimetype": "text/x-python",
   "name": "python",
   "nbconvert_exporter": "python",
   "pygments_lexer": "ipython3",
   "version": "3.8.5"
  }
 },
 "nbformat": 4,
 "nbformat_minor": 5
}
