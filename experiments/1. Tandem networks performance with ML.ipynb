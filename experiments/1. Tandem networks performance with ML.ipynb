{
 "cells": [
  {
   "cell_type": "markdown",
   "id": "circular-atmosphere",
   "metadata": {},
   "source": [
    "# Эксперимент №1: расчет характеристик тандемной сети с узлами MAP/PH/1/N с помощью имитационного моделирования и машинного обучения\n",
    "\n",
    "В этом эксперименте мы рассчитаем различные характеристики сетей с линейной топологией, на вход которых поступает MAP-поток, а обслуживание имеет распределение фазового типа. Сначала мы рассчитаем характеристики на заданной сетке статистических параметров с помощью имитационного моделирования сети, а затем используем полученные результаты для обучения нейросетевых и других моделей ML, которые сможем использовать для очень быстрой оценки характеристик сетей. Например, такой подход полезен при нахождении решений задач оптимизации топологии, когда характеристики сетей с линейной топологией являются ограничениями в алгоритме ветвей и границ. "
   ]
  },
  {
   "cell_type": "markdown",
   "id": "democratic-sydney",
   "metadata": {},
   "source": [
    "## Подготовка ноутбука\n",
    "\n",
    "Импортируем все необходимые библиотеки, настроим флаги и константы, которыми будем пользоваться в эксперименте, и определим служебные функции, чтобы не отвлекаться на них в расчетной части эксперимента."
   ]
  },
  {
   "cell_type": "code",
   "execution_count": 1,
   "id": "differential-cincinnati",
   "metadata": {},
   "outputs": [],
   "source": [
    "# Если что-то меняется в коде, мы хотим это сразу видеть здесь\n",
    "%load_ext autoreload\n",
    "%autoreload 2"
   ]
  },
  {
   "cell_type": "code",
   "execution_count": 2,
   "id": "commercial-dairy",
   "metadata": {},
   "outputs": [],
   "source": [
    "import os\n",
    "\n",
    "import matplotlib\n",
    "import matplotlib.pyplot as plt\n",
    "from matplotlib import cm\n",
    "\n",
    "from tabulate import tabulate\n",
    "from tqdm.notebook import tqdm\n",
    "\n",
    "from itertools import product\n",
    "from collections import namedtuple\n",
    "import time\n",
    "import numpy as np\n",
    "import pandas as pd\n",
    "\n",
    "# Подключаем локальные пакеты\n",
    "from pyqumo.random import Distribution, Exponential, HyperExponential, Erlang\n",
    "from pyqumo.cqumo.sim import simulate_tandem"
   ]
  },
  {
   "cell_type": "code",
   "execution_count": 3,
   "id": "subjective-reducing",
   "metadata": {},
   "outputs": [],
   "source": [
    "# Настраиваем matplotlib\n",
    "%matplotlib inline\n",
    "matplotlib.rcParams.update({'font.size': 16})"
   ]
  },
  {
   "cell_type": "markdown",
   "id": "ruled-advertising",
   "metadata": {},
   "source": [
    "Определим переменные окружения, которые будут использоваться в эксперименте."
   ]
  },
  {
   "cell_type": "code",
   "execution_count": 4,
   "id": "capable-deputy",
   "metadata": {},
   "outputs": [],
   "source": [
    "# Нужно ли пересчитывать все, или можно использовать результаты из файлов\n",
    "FORCE_SIMULATION = False\n",
    "SIM_FILE_NAME = '01_tandem_simulation.csv'\n",
    "SIM_FILE_DIR = 'data'\n",
    "SIM_FILE_PATH = os.path.join(SIM_FILE_DIR, SIM_FILE_NAME)\n",
    "\n",
    "# Зададим число пакетов, передачу которых по сети мы будем моделировать.\n",
    "# Чем выше это число, тем точнее результаты, но на их получение нужно больше времени.\n",
    "NUM_PACKETS = 100000\n",
    "\n",
    "# Цветовая схема для графиков\n",
    "CMAP_NAME = 'viridis'"
   ]
  },
  {
   "cell_type": "code",
   "execution_count": 5,
   "id": "favorite-tissue",
   "metadata": {},
   "outputs": [],
   "source": [
    "def get_color(x):\n",
    "    \"\"\"\n",
    "    Получить цвет из текущей карты.\n",
    "    \"\"\"\n",
    "    return cm.get_cmap(CMAP_NAME)(x)"
   ]
  },
  {
   "cell_type": "markdown",
   "id": "million-mapping",
   "metadata": {},
   "source": [
    "## Нахождение PH-распределений\n",
    "\n",
    "PH-распределения для моделирования входящего потока и времени обслуживания будем находить по первым двум моментам по следующим правилам:\n",
    "\n",
    "- если коэффициент вариации $c = \\sigma / m_1 < 1$, то в качестве PH-распределения возьмем распределение Эрланга с самым близким значением $\\tilde{\\sigma}$;\n",
    "- если коэффициент вариации $c > 1$, то в качестве PH-распределения возьмем гиперэкспоненциальное распределение;\n",
    "- если коэффициент вариации $c = 1$, то распределение - экспоненциальное."
   ]
  },
  {
   "cell_type": "code",
   "execution_count": 6,
   "id": "sonic-meter",
   "metadata": {},
   "outputs": [],
   "source": [
    "def fit_ph(avg: float, std: float) -> Distribution:\n",
    "    \"\"\"\n",
    "    Возвращает PH-распределение по стандартному отклонению и среднему значению.\n",
    "    \"\"\"\n",
    "    cv = std / avg\n",
    "    if cv == 1:\n",
    "        return Exponential(avg)\n",
    "    if cv > 1:\n",
    "        return HyperExponential.fit(avg, std)\n",
    "    return Erlang.fit(avg, std)"
   ]
  },
  {
   "cell_type": "markdown",
   "id": "frank-southeast",
   "metadata": {},
   "source": [
    "## Вызов имитационной модели, чтение и сохранение результатов\n",
    "\n",
    "Определим полезные функции, которые нам потребуются для работы с данными имитационного моделирования:\n",
    "\n",
    "- `load_sim_data()`: читает файл `SIM_FILE_NAME`, если он существует, или создает новый `DataFrame` для хранения данных о результатах имитационного моделирования.\n",
    "- `save_sim_data()`: сохраняет результаты, записанные в `DataFrame`, в файл `SIM_FILE_PATH`."
   ]
  },
  {
   "cell_type": "code",
   "execution_count": 7,
   "id": "concerned-harbor",
   "metadata": {},
   "outputs": [
    {
     "name": "stdout",
     "output_type": "stream",
     "text": [
      "<class 'pandas.core.frame.DataFrame'>\n",
      "Int64Index: 150 entries, 0 to 149\n",
      "Data columns (total 13 columns):\n",
      " #   Column        Non-Null Count  Dtype  \n",
      "---  ------        --------------  -----  \n",
      " 0   ArrAvg        150 non-null    float64\n",
      " 1   ArrStd        150 non-null    float64\n",
      " 2   ArrCv         150 non-null    float64\n",
      " 3   SrvAvg        150 non-null    float64\n",
      " 4   SrvStd        150 non-null    float64\n",
      " 5   SrvCv         150 non-null    float64\n",
      " 6   Rho           150 non-null    float64\n",
      " 7   NetSize       150 non-null    float64\n",
      " 8   Capacity      150 non-null    float64\n",
      " 9   NumPackets    150 non-null    float64\n",
      " 10  DelayAvg      150 non-null    float64\n",
      " 11  DelayStd      150 non-null    float64\n",
      " 12  DeliveryProb  150 non-null    float64\n",
      "dtypes: float64(13)\n",
      "memory usage: 16.4 KB\n"
     ]
    }
   ],
   "source": [
    "COLUMNS = (\n",
    "    'ArrAvg', \n",
    "    'ArrStd', \n",
    "    'ArrCv', \n",
    "    'SrvAvg', \n",
    "    'SrvStd', \n",
    "    'SrvCv', \n",
    "    'Rho', \n",
    "    'NetSize', \n",
    "    'Capacity', \n",
    "    'NumPackets',\n",
    "    'DelayAvg', \n",
    "    'DelayStd', \n",
    "    'DeliveryProb',\n",
    ")\n",
    "\n",
    "\n",
    "def save_sim_data(df: pd.DataFrame):\n",
    "    \"\"\"\n",
    "    Сохранить в файл данные о результатах имитационного моделирования.\n",
    "    \"\"\"\n",
    "    if not os.path.exists(SIM_FILE_DIR):\n",
    "        os.makedirs(SIM_FILE_DIR)\n",
    "    df.to_csv(SIM_FILE_PATH, index_label='Id')\n",
    "\n",
    "    \n",
    "def load_sim_data() -> pd.DataFrame:\n",
    "    \"\"\"\n",
    "    Загрузить данные о резулдьтатах имитационного моделирования.\n",
    "    \"\"\"       \n",
    "    if os.path.exists(SIM_FILE_PATH):\n",
    "        return pd.read_csv(SIM_FILE_PATH, index_col='Id')\n",
    "    return pd.DataFrame(columns=COLUMNS, index_col='Id')\n",
    "\n",
    "sim_data = load_sim_data()\n",
    "sim_data.info()"
   ]
  },
  {
   "cell_type": "markdown",
   "id": "hazardous-poster",
   "metadata": {},
   "source": [
    "Функция `simulate(df, force=False, ...) -> pd.DataFrame` работает следующим образом:\n",
    "\n",
    "- если в `df` нет строки, соответствующей переданным параметрам, то выполняется симуляция и функция возвращает новый `DataFrame`, содержащий результаты симуляции;\n",
    "- если в `df` есть строка, соответствующая переданным параметрам, то симуляция выполняется, если выполнено любое из следующих условий:\n",
    "    - передан аргумент `debug=True`\n",
    "    - в настройках окружения (см. выше) установлен флаг `FORCE_SIMULATION=True`\n",
    "    - если число пакетов, которые нужно промоделировать, больше числа пакетов, которое использовалось в предыдущей симуляции\n",
    "\n",
    "Функция возвращает новый `DataFrame`, содержащий результаты заданной симуляции."
   ]
  },
  {
   "cell_type": "code",
   "execution_count": 8,
   "id": "comparable-insight",
   "metadata": {},
   "outputs": [],
   "source": [
    "def simulate(\n",
    "    df: pd.DataFrame, *, \n",
    "    arr_avg: float,\n",
    "    arr_std: float,\n",
    "    srv_avg: float,\n",
    "    srv_std: float,\n",
    "    net_size: int,\n",
    "    capacity: int,\n",
    "    num_packets: int,\n",
    "    force: bool = False\n",
    ") -> pd.DataFrame:\n",
    "    \"\"\"\n",
    "    Выполнить симуляцию, если результатов нет в `df` или требуется их пересчитать, и вернуть новый `DataFrame`.\n",
    "    \"\"\"\n",
    "    row_df = df[\n",
    "        (df.ArrAvg == arr_avg) &\n",
    "        (df.ArrStd == arr_std) &\n",
    "        (df.SrvAvg == srv_avg) &\n",
    "        (df.SrvStd == srv_std) &\n",
    "        (df.NetSize == net_size) &\n",
    "        (df.Capacity == capacity)]\n",
    "    \n",
    "    # Вычислим признаки, которые говорят о необходимости пересчета:\n",
    "    no_row = len(row_df) == 0\n",
    "    not_enough_packets = (not no_row) and (row_df.NumPackets.iloc[0] < num_packets)\n",
    "\n",
    "    # Проверим, нужно ли пересчитать результаты:\n",
    "    if force or no_row or not_enough_packets:\n",
    "        arr = fit_ph(avg=arr_avg, std=arr_std)\n",
    "        srv = fit_ph(avg=srv_avg, std=srv_std)\n",
    "        ret = simulate_tandem(arr, [srv] * net_size, capacity, num_packets)\n",
    "\n",
    "        row_data = {\n",
    "            'ArrAvg': arr_avg,\n",
    "            'ArrStd': arr_std,\n",
    "            'ArrCv': arr_std / arr_avg,\n",
    "            'SrvAvg': srv_avg,\n",
    "            'SrvStd': srv_std,\n",
    "            'SrvCv': srv_std / srv_avg,\n",
    "            'Rho': srv_avg / arr_avg,\n",
    "            'NetSize': net_size,\n",
    "            'Capacity': capacity,\n",
    "            'NumPackets': num_packets,\n",
    "            'DelayAvg': ret.delivery_delays[0].avg,\n",
    "            'DelayStd': ret.delivery_delays[0].std,\n",
    "            'DeliveryProb': ret.delivery_prob[0],\n",
    "        }\n",
    "\n",
    "        # Если строки еще вообще не было, добавляем ее, а если была - обновляем:\n",
    "        if no_row:\n",
    "            df = df.append(row_data, ignore_index=True)\n",
    "        else:\n",
    "            df.update(pd.DataFrame(row_data, index=[row_df.index[0]]))\n",
    "\n",
    "    return df"
   ]
  },
  {
   "cell_type": "markdown",
   "id": "exact-crisis",
   "metadata": {},
   "source": [
    "## Определяем сетку параметров модели\n",
    "\n",
    "Будем считать, что сеть состоит из $L$ узлов, пакеты поступают на первую станцию и передаються по сети до тех пор, пока не будут обслужены последней станцией, либо не будут потерены из-за переполнения буфера на очередном узле.\n",
    "\n",
    "Сеть будем описывать с помощью шести параметров:\n",
    "\n",
    "- среднее значение интервалов между последовательными поступлениями пакетов в сеть ($\\lambda^{-1}$)\n",
    "- стандартное отклонение величин интервалов между последовательными поступлениями пакетов в сеть ($\\sigma_A$)\n",
    "- средняя длительность обслуживания ($\\mu^{-1}$)\n",
    "- стандартное отклонение длительности обслуживания ($\\sigma_S$)\n",
    "- число станций в сети ($L$)\n",
    "- емкость очередей ($N$)\n",
    "\n",
    "Из этих параметров можно полуить производные значения, которые оказываются более удобными при анализе:\n",
    "\n",
    "- загрузка первой станции $\\rho = \\lambda / \\mu$\n",
    "- коэффициент вариации интервалов между поступлениями пакетов $c_A = \\lambda \\sigma_A$\n",
    "- коэффициент вариации времени обслуживания $c_S = \\mu \\sigma_S$\n",
    "\n",
    "Сетку будем задавать на множестве параметров $(\\lambda^{-1}, \\sigma_A, \\mu^{-1}, \\sigma_S, L, N)$.\n",
    "\n",
    "Чтобы не пересчитывать результаты каждый раз заново, будем сохранять результаты расчета в файл `data/01_tandem_simulations.csv`. Если такого файла нет, или установлен флаг `FORCE_SIMULATION = True`, то каждая точка сетки будет рассчитана заново, а результаты расчета будут сохранены в файл. В противном случае расчет будет выполняться только в тогда, когда точки нет в файле, или в текущем расчете предполагается моделировать больше пакетов, то есть получить более точные результаты."
   ]
  },
  {
   "cell_type": "code",
   "execution_count": 9,
   "id": "charitable-criticism",
   "metadata": {},
   "outputs": [
    {
     "data": {
      "application/vnd.jupyter.widget-view+json": {
       "model_id": "5cecb46f99004fd8b8ccdce9d9e2211c",
       "version_major": 2,
       "version_minor": 0
      },
      "text/plain": [
       "  0%|          | 0/40320 [00:00<?, ?it/s]"
      ]
     },
     "metadata": {},
     "output_type": "display_data"
    },
    {
     "ename": "KeyboardInterrupt",
     "evalue": "",
     "output_type": "error",
     "traceback": [
      "\u001b[0;31m---------------------------------------------------------------------------\u001b[0m",
      "\u001b[0;31mKeyboardInterrupt\u001b[0m                         Traceback (most recent call last)",
      "\u001b[0;32m<ipython-input-9-ec590943831d>\u001b[0m in \u001b[0;36m<module>\u001b[0;34m\u001b[0m\n\u001b[1;32m     11\u001b[0m \u001b[0;31m# Выполним симуляцию, если нужно:\u001b[0m\u001b[0;34m\u001b[0m\u001b[0;34m\u001b[0m\u001b[0;34m\u001b[0m\u001b[0m\n\u001b[1;32m     12\u001b[0m \u001b[0;32mfor\u001b[0m \u001b[0marr_avg\u001b[0m\u001b[0;34m,\u001b[0m \u001b[0marr_std\u001b[0m\u001b[0;34m,\u001b[0m \u001b[0msrv_avg\u001b[0m\u001b[0;34m,\u001b[0m \u001b[0msrv_std\u001b[0m\u001b[0;34m,\u001b[0m \u001b[0mnet_size\u001b[0m\u001b[0;34m,\u001b[0m \u001b[0mcapacity\u001b[0m \u001b[0;32min\u001b[0m \u001b[0mtqdm\u001b[0m\u001b[0;34m(\u001b[0m\u001b[0mALL_PARAMS\u001b[0m\u001b[0;34m)\u001b[0m\u001b[0;34m:\u001b[0m\u001b[0;34m\u001b[0m\u001b[0;34m\u001b[0m\u001b[0m\n\u001b[0;32m---> 13\u001b[0;31m     sim_data = simulate(\n\u001b[0m\u001b[1;32m     14\u001b[0m         \u001b[0msim_data\u001b[0m\u001b[0;34m,\u001b[0m\u001b[0;34m\u001b[0m\u001b[0;34m\u001b[0m\u001b[0m\n\u001b[1;32m     15\u001b[0m         \u001b[0marr_avg\u001b[0m\u001b[0;34m=\u001b[0m\u001b[0marr_avg\u001b[0m\u001b[0;34m,\u001b[0m\u001b[0;34m\u001b[0m\u001b[0;34m\u001b[0m\u001b[0m\n",
      "\u001b[0;32m<ipython-input-8-9445c172ba75>\u001b[0m in \u001b[0;36msimulate\u001b[0;34m(df, arr_avg, arr_std, srv_avg, srv_std, net_size, capacity, num_packets, force)\u001b[0m\n\u001b[1;32m     29\u001b[0m         \u001b[0marr\u001b[0m \u001b[0;34m=\u001b[0m \u001b[0mfit_ph\u001b[0m\u001b[0;34m(\u001b[0m\u001b[0mavg\u001b[0m\u001b[0;34m=\u001b[0m\u001b[0marr_avg\u001b[0m\u001b[0;34m,\u001b[0m \u001b[0mstd\u001b[0m\u001b[0;34m=\u001b[0m\u001b[0marr_std\u001b[0m\u001b[0;34m)\u001b[0m\u001b[0;34m\u001b[0m\u001b[0;34m\u001b[0m\u001b[0m\n\u001b[1;32m     30\u001b[0m         \u001b[0msrv\u001b[0m \u001b[0;34m=\u001b[0m \u001b[0mfit_ph\u001b[0m\u001b[0;34m(\u001b[0m\u001b[0mavg\u001b[0m\u001b[0;34m=\u001b[0m\u001b[0msrv_avg\u001b[0m\u001b[0;34m,\u001b[0m \u001b[0mstd\u001b[0m\u001b[0;34m=\u001b[0m\u001b[0msrv_std\u001b[0m\u001b[0;34m)\u001b[0m\u001b[0;34m\u001b[0m\u001b[0;34m\u001b[0m\u001b[0m\n\u001b[0;32m---> 31\u001b[0;31m         \u001b[0mret\u001b[0m \u001b[0;34m=\u001b[0m \u001b[0msimulate_tandem\u001b[0m\u001b[0;34m(\u001b[0m\u001b[0marr\u001b[0m\u001b[0;34m,\u001b[0m \u001b[0;34m[\u001b[0m\u001b[0msrv\u001b[0m\u001b[0;34m]\u001b[0m \u001b[0;34m*\u001b[0m \u001b[0mnet_size\u001b[0m\u001b[0;34m,\u001b[0m \u001b[0mcapacity\u001b[0m\u001b[0;34m,\u001b[0m \u001b[0mnum_packets\u001b[0m\u001b[0;34m)\u001b[0m\u001b[0;34m\u001b[0m\u001b[0;34m\u001b[0m\u001b[0m\n\u001b[0m\u001b[1;32m     32\u001b[0m \u001b[0;34m\u001b[0m\u001b[0m\n\u001b[1;32m     33\u001b[0m         row_data = {\n",
      "\u001b[0;32m~/workspace/pyqumo/pyqumo/cqumo/sim.pyx\u001b[0m in \u001b[0;36mpyqumo.cqumo.sim.simulate_tandem\u001b[0;34m()\u001b[0m\n",
      "\u001b[0;32m~/workspace/pyqumo/pyqumo/cqumo/sim.pyx\u001b[0m in \u001b[0;36mpyqumo.cqumo.sim.call_simTandem\u001b[0;34m()\u001b[0m\n",
      "\u001b[0;32m~/workspace/pyqumo/pyqumo/cqumo/sim.pyx\u001b[0m in \u001b[0;36mpyqumo.cqumo.sim._build_tandem_results\u001b[0;34m()\u001b[0m\n",
      "\u001b[0;32m~/workspace/pyqumo/pyqumo/sim/tandem.py\u001b[0m in \u001b[0;36m__init__\u001b[0;34m(self, records, num_stations)\u001b[0m\n\u001b[1;32m    134\u001b[0m     \u001b[0mTo\u001b[0m \u001b[0mpretty\u001b[0m \u001b[0mprint\u001b[0m \u001b[0mthe\u001b[0m \u001b[0mresults\u001b[0m \u001b[0mone\u001b[0m \u001b[0mcan\u001b[0m \u001b[0mmake\u001b[0m \u001b[0muse\u001b[0m \u001b[0mof\u001b[0m\u001b[0;31m \u001b[0m\u001b[0;31m`\u001b[0m\u001b[0mtabulate\u001b[0m\u001b[0;34m(\u001b[0m\u001b[0;34m)\u001b[0m\u001b[0;31m`\u001b[0m \u001b[0mmethod\u001b[0m\u001b[0;34m.\u001b[0m\u001b[0;34m\u001b[0m\u001b[0;34m\u001b[0m\u001b[0m\n\u001b[1;32m    135\u001b[0m     \"\"\"\n\u001b[0;32m--> 136\u001b[0;31m     def __init__(self, records: Optional[Records] = None, \n\u001b[0m\u001b[1;32m    137\u001b[0m                  num_stations: Optional[int] = None):\n\u001b[1;32m    138\u001b[0m         \"\"\"\n",
      "\u001b[0;31mKeyboardInterrupt\u001b[0m: "
     ]
    }
   ],
   "source": [
    "ARRIVAL_AVG = [1, 3, 5, 7, 10, 13, 15, 17]\n",
    "ARRIVAL_STD = [1, 3, 5, 7, 10, 13, 15, 17]\n",
    "SERVICE_AVG = [2.5, 3. , 5. , 5.5, 7. , 8]\n",
    "SERVICE_STD = [1.,  2.5,  4, 5, 6, 7.5, 10]\n",
    "NET_SIZE = [5,  7,  9, 11, 15]\n",
    "CAPACITY = [6, 10, 12]\n",
    "\n",
    "# Объединим все параметры в декартово произведение:\n",
    "ALL_PARAMS = list(product(ARRIVAL_AVG, ARRIVAL_STD, SERVICE_AVG, SERVICE_STD, NET_SIZE, CAPACITY))\n",
    "\n",
    "# Выполним симуляцию, если нужно:\n",
    "for arr_avg, arr_std, srv_avg, srv_std, net_size, capacity in tqdm(ALL_PARAMS):\n",
    "    sim_data = simulate(\n",
    "        sim_data,\n",
    "        arr_avg=arr_avg,\n",
    "        arr_std=arr_std,\n",
    "        srv_avg=srv_avg,\n",
    "        srv_std=srv_std,\n",
    "        net_size=net_size,\n",
    "        capacity=capacity,\n",
    "        num_packets=NUM_PACKETS,\n",
    "        force=FORCE_SIMULATION\n",
    "    )\n",
    "\n",
    "print(sim_data.info())\n",
    "print(sim_data)\n",
    "\n",
    "# Сохраняем результат:\n",
    "save_sim_data(sim_data)"
   ]
  },
  {
   "cell_type": "code",
   "execution_count": 35,
   "id": "sensitive-brain",
   "metadata": {},
   "outputs": [],
   "source": []
  },
  {
   "cell_type": "code",
   "execution_count": null,
   "id": "complimentary-outdoors",
   "metadata": {},
   "outputs": [],
   "source": []
  }
 ],
 "metadata": {
  "kernelspec": {
   "display_name": "Python 3",
   "language": "python",
   "name": "python3"
  },
  "language_info": {
   "codemirror_mode": {
    "name": "ipython",
    "version": 3
   },
   "file_extension": ".py",
   "mimetype": "text/x-python",
   "name": "python",
   "nbconvert_exporter": "python",
   "pygments_lexer": "ipython3",
   "version": "3.8.5"
  }
 },
 "nbformat": 4,
 "nbformat_minor": 5
}
