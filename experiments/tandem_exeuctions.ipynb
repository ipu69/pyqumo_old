{
 "cells": [
  {
   "cell_type": "code",
   "execution_count": 33,
   "id": "furnished-crest",
   "metadata": {},
   "outputs": [
    {
     "name": "stdout",
     "output_type": "stream",
     "text": [
      "The autoreload extension is already loaded. To reload it, use:\n",
      "  %reload_ext autoreload\n"
     ]
    }
   ],
   "source": [
    "%load_ext autoreload\n",
    "%autoreload 2"
   ]
  },
  {
   "cell_type": "code",
   "execution_count": 34,
   "id": "assigned-horse",
   "metadata": {},
   "outputs": [],
   "source": [
    "from collections import namedtuple\n",
    "from itertools import product\n",
    "import numpy as np\n",
    "\n",
    "from pyqumo.random import Exponential, HyperExponential, Erlang\n",
    "from pyqumo.cqumo.sim import simulate_tandem"
   ]
  },
  {
   "cell_type": "code",
   "execution_count": 35,
   "id": "empty-termination",
   "metadata": {},
   "outputs": [],
   "source": [
    "Params = namedtuple('Params', [\n",
    "    'arrival_avg',\n",
    "    'arrival_std',\n",
    "    'service_avg',\n",
    "    'service_std',\n",
    "    'num_stations',\n",
    "    'queue_capacity'\n",
    "])"
   ]
  },
  {
   "cell_type": "code",
   "execution_count": 37,
   "id": "persistent-cinema",
   "metadata": {},
   "outputs": [
    {
     "name": "stdout",
     "output_type": "stream",
     "text": [
      "Defined 60 parameters grid points\n"
     ]
    }
   ],
   "source": [
    "ARRIVAL_AVG = np.asarray([10, 20])\n",
    "ARRIVAL_STD = np.asarray([1, 5, 10])\n",
    "SERVICE_AVG = np.asarray([2.5, 5])\n",
    "SERVICE_STD = np.asarray([1, 2.5, 5, 7.5, 10])\n",
    "NUM_STATIONS = np.asarray([5])\n",
    "QUEUE_CAPACITY = np.asarray([10])\n",
    "\n",
    "# Build the parameters grid:\n",
    "parameters = [\n",
    "    Params(arrival_avg, arrival_std, service_avg, service_std, num_stations, queue_capacity)\n",
    "    for (arrival_avg, arrival_std, service_avg, service_std, num_stations, queue_capacity) \n",
    "    in product(ARRIVAL_AVG, ARRIVAL_STD, SERVICE_AVG, SERVICE_STD, NUM_STATIONS, QUEUE_CAPACITY)\n",
    "]\n",
    "print(f\"Defined {len(parameters)} parameters grid points\")"
   ]
  },
  {
   "cell_type": "code",
   "execution_count": 38,
   "id": "korean-stone",
   "metadata": {},
   "outputs": [],
   "source": [
    "# Run the simulation\n",
    "results = []  # store (params, ret), where `ret` is an instance of `pyqumo.sim.tandem.Result`\n",
    "NUM_PACKETS = 100000\n",
    "\n",
    "# This function returns the most appropriate distribution:\n",
    "def get_distribution(avg, std):\n",
    "    cv = std / avg\n",
    "    if cv == 1:\n",
    "        return Exponential(avg)\n",
    "    if cv > 1:\n",
    "        return HyperExponential.fit(avg, std)\n",
    "    return Erlang.fit(avg, std)\n",
    "\n",
    "\n",
    "for params in parameters:\n",
    "    arrival = get_distribution(params.arrival_avg, params.arrival_std)\n",
    "    services = [\n",
    "        get_distribution(params.service_avg, params.service_std)\n",
    "        for _ in range(params.num_stations)\n",
    "    ]\n",
    "    ret = simulate_tandem(arrival, services, params.queue_capacity, NUM_PACKETS)\n",
    "    results.append((params, ret))\n"
   ]
  },
  {
   "cell_type": "code",
   "execution_count": 39,
   "id": "positive-wisconsin",
   "metadata": {},
   "outputs": [
    {
     "name": "stdout",
     "output_type": "stream",
     "text": [
      "  Arr.avg.    Arr.std.    Srv.avg.    Srv. std.    Queue capacity    Num. stations    Delay avg.    Delay std.    Delivery P.\n",
      "----------  ----------  ----------  -----------  ----------------  ---------------  ------------  ------------  -------------\n",
      "        10           1         2.5          1                  10                5     12.0198        2.18141       1\n",
      "        10           1         2.5          2.5                10                5      1.99511       0.890679      1\n",
      "        10           1         2.5          5                  10                5     20.3976       15.2676        0.99997\n",
      "        10           1         2.5          7.5                10                5     33.5042       31.4547        0.987119\n",
      "        10           1         2.5         10                  10                5     46.1059       48.7794        0.938449\n",
      "        10           1         5            1                  10                5     25.1002        2.18963       1\n",
      "        10           1         5            2.5                10                5     27.2509        5.51475       1\n",
      "        10           1         5            5                  10                5      0.999756      0.448962      1\n",
      "        10           1         5            7.5                10                5     60.245        27.9038        0.99611\n",
      "        10           1         5           10                  10                5     86.3733       43.4471        0.954466\n",
      "        10           5         2.5          1                  10                5     12.1936        2.20321       1\n",
      "        10           5         2.5          2.5                10                5      2.00381       0.896927      1\n",
      "        10           5         2.5          5                  10                5     21.8785       16.2856        0.99968\n",
      "        10           5         2.5          7.5                10                5     33.5158       30.9736        0.987249\n",
      "        10           5         2.5         10                  10                5     47.0488       48.9259        0.935208\n",
      "        10           5         5            1                  10                5     25.9699        2.65209       1\n",
      "        10           5         5            2.5                10                5     29.264         6.71592       1\n",
      "        10           5         5            5                  10                5      1.00131       0.450215      1\n",
      "        10           5         5            7.5                10                5     63.3861       29.9902        0.99379\n",
      "        10           5         5           10                  10                5     87.5097       44.5745        0.949674\n",
      "        10          10         2.5          1                  10                5     71.3604        8.73533       0.0400552\n",
      "        10          10         2.5          2.5                10                5     12.4777        2.0992        0.208133\n",
      "        10          10         2.5          5                  10                5     92.185        24.6681        0.0236845\n",
      "        10          10         2.5          7.5                10                5    105.173        46.8817        0.0175926\n",
      "        10          10         2.5         10                  10                5    113.574        58.9472        0.0141132\n",
      "        10          10         5            1                  10                5    114.527        14.9904        0.0196353\n",
      "        10          10         5            2.5                10                5    153.687        20.7713        0.0189062\n",
      "        10          10         5            5                  10                5      6.09721       1.03134       0.416538\n",
      "        10          10         5            7.5                10                5    163.163        35.006         0.0136033\n",
      "        10          10         5           10                  10                5    180.794        48.1495        0.0116833\n",
      "        20           1         2.5          1                  10                5     11.9988        2.19614       1\n",
      "        20           1         2.5          2.5                10                5      1.99832       0.892429      1\n",
      "        20           1         2.5          5                  10                5     14.2382       12.1895        1\n",
      "        20           1         2.5          7.5                10                5     18.6662       21.9289        1\n",
      "        20           1         2.5         10                  10                5     25.2048       35.1922        0.99878\n",
      "        20           1         5            1                  10                5     25.0085        2.23584       1\n",
      "        20           1         5            2.5                10                5     25.0803        5.56116       1\n",
      "        20           1         5            5                  10                5      1.00434       0.448205      1\n",
      "        20           1         5            7.5                10                5     32.5585       19.3571        1\n",
      "        20           1         5           10                  10                5     40.7899       29.715         0.99997\n",
      "        20           5         2.5          1                  10                5     12.0009        2.19436       1\n",
      "        20           5         2.5          2.5                10                5      2.00044       0.894114      1\n",
      "        20           5         2.5          5                  10                5     14.4377       12.3004        1\n",
      "        20           5         2.5          7.5                10                5     18.9956       22.4083        0.99996\n",
      "        20           5         2.5         10                  10                5     25.8968       36.2814        0.99834\n",
      "        20           5         5            1                  10                5     24.9996        2.232         1\n",
      "        20           5         5            2.5                10                5     25.2161        5.53313       1\n",
      "        20           5         5            5                  10                5      0.999973      0.448331      1\n",
      "        20           5         5            7.5                10                5     32.9481       19.5068        1\n",
      "        20           5         5           10                  10                5     41.1115       29.8723        0.9999\n",
      "        20          10         2.5          1                  10                5     12.018         2.18522       1\n",
      "        20          10         2.5          2.5                10                5      2.00292       0.896513      1\n",
      "        20          10         2.5          5                  10                5     15.1519       12.7998        1\n",
      "        20          10         2.5          7.5                10                5     19.777        22.775         0.99998\n",
      "        20          10         2.5         10                  10                5     26.5314       36.5626        0.99803\n",
      "        20          10         5            1                  10                5     25.1174        2.26981       1\n",
      "        20          10         5            2.5                10                5     25.7393        5.67558       1\n",
      "        20          10         5            5                  10                5      0.999578      0.447853      1\n",
      "        20          10         5            7.5                10                5     34.617        20.4066        0.99999\n",
      "        20          10         5           10                  10                5     43.3759       31.2374        0.99986\n"
     ]
    }
   ],
   "source": [
    "# Build a table:\n",
    "from tabulate import tabulate\n",
    "\n",
    "rows = []\n",
    "for (param, ret) in results:\n",
    "    rows.append((param.arrival_avg, param.arrival_std, param.service_avg, param.service_std, param.queue_capacity, \n",
    "                 param.num_stations, ret.delivery_delays[0].avg, ret.delivery_delays[0].std, ret.delivery_prob[0]))\n",
    "print(tabulate(rows, headers=(\n",
    "    'Arr.avg.', 'Arr.std.',\n",
    "    'Srv.avg.', 'Srv. std.',\n",
    "    'Queue capacity', 'Num. stations',\n",
    "    'Delay avg.', 'Delay std.',\n",
    "    'Delivery P.'\n",
    ")))"
   ]
  },
  {
   "cell_type": "code",
   "execution_count": null,
   "id": "international-spanking",
   "metadata": {},
   "outputs": [],
   "source": []
  }
 ],
 "metadata": {
  "kernelspec": {
   "display_name": "Python 3",
   "language": "python",
   "name": "python3"
  },
  "language_info": {
   "codemirror_mode": {
    "name": "ipython",
    "version": 3
   },
   "file_extension": ".py",
   "mimetype": "text/x-python",
   "name": "python",
   "nbconvert_exporter": "python",
   "pygments_lexer": "ipython3",
   "version": "3.8.5"
  }
 },
 "nbformat": 4,
 "nbformat_minor": 5
}
