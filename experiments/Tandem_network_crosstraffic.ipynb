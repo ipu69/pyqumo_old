{
 "metadata": {
  "language_info": {
   "codemirror_mode": {
    "name": "ipython",
    "version": 3
   },
   "file_extension": ".py",
   "mimetype": "text/x-python",
   "name": "python",
   "nbconvert_exporter": "python",
   "pygments_lexer": "ipython3",
   "version": "3.8.5"
  },
  "orig_nbformat": 2,
  "kernelspec": {
   "name": "pythonjvsc74a57bd0bc89f3369a2d627b63e03812a3465b33a9a5bfe5b39faffffdbda7247c1df6fa",
   "display_name": "Python 3.8.5  ('venv': venv)"
  },
  "metadata": {
   "interpreter": {
    "hash": "bc89f3369a2d627b63e03812a3465b33a9a5bfe5b39faffffdbda7247c1df6fa"
   }
  }
 },
 "nbformat": 4,
 "nbformat_minor": 2,
 "cells": [
  {
   "cell_type": "code",
   "execution_count": 1,
   "metadata": {},
   "outputs": [],
   "source": [
    "import os\n",
    "from itertools import product\n",
    "from collections import namedtuple\n",
    "import time\n",
    "from typing import Tuple\n",
    "import random\n",
    "\n",
    "from tabulate import tabulate\n",
    "from tqdm.notebook import tqdm\n",
    "import matplotlib\n",
    "import matplotlib.pyplot as plt\n",
    "from matplotlib import cm\n",
    "from matplotlib import patches\n",
    "import numpy as np\n",
    "import pandas as pd\n",
    "\n",
    "# Подключаем локальные пакеты\n",
    "from pyqumo.random import Distribution, Exponential, HyperExponential, Erlang\n",
    "from pyqumo.cqumo.sim import simulate_tandem\n",
    "\n",
    "\n",
    "from pyqumo.fitting.johnson89 import fit_mern2\n",
    "from pyqumo.stats import get_cv, get_skewness, get_noncentral_m2, get_noncentral_m3\n",
    "from pyqumo.random import HyperErlang\n",
    "\n",
    "# Поключаем пакеты для ML\n",
    "# import math\n",
    "# from sklearn.metrics import r2_score, mean_squared_error, precision_score, recall_score, f1_score\n",
    "# from sklearn.tree import DecisionTreeRegressor\n",
    "# from sklearn.tree import DecisionTreeClassifier\n",
    "# from sklearn import tree\n",
    "# from sklearn.ensemble import GradientBoostingRegressor\n",
    "# from sklearn.model_selection import train_test_split\n",
    "# from sklearn.model_selection import GridSearchCV\n",
    "# from sklearn.neural_network import MLPClassifier\n",
    "# from sklearn.linear_model import LinearRegression, LogisticRegression\n",
    "# from catboost import CatBoostClassifier\n",
    "# import tensorflow as tf\n",
    "# from tensorflow import keras\n",
    "# from tensorflow import keras\n",
    "# from tensorflow.python.keras import engine\n",
    "# from tensorflow.keras import layers\n",
    "# import seaborn as sns\n",
    "# from scipy import stats"
   ]
  },
  {
   "cell_type": "code",
   "execution_count": 2,
   "metadata": {},
   "outputs": [],
   "source": [
    "def fit_ph(avg: float, std: float) -> Distribution:\n",
    "    \"\"\"\n",
    "    Возвращает PH-распределение по стандартному отклонению и среднему значению.\n",
    "    \"\"\"\n",
    "    cv = std / avg\n",
    "    if (cv == 1) or np.isclose(avg, std, rtol=0.1):\n",
    "        return Exponential(avg)\n",
    "    if cv > 1:\n",
    "        return HyperExponential.fit(avg, std)\n",
    "    return Erlang.fit(avg, std)"
   ]
  },
  {
   "cell_type": "code",
   "execution_count": 3,
   "metadata": {},
   "outputs": [],
   "source": [
    " COLUMNS = {'sta_where_packets_arrive',\n",
    "            'simulation_type',\n",
    "            'num_generated_packets',\n",
    "            'mode',\n",
    "            'num_stations',\n",
    "            'queue_capacity',\n",
    "            'mean_arrival_time',\n",
    "            'std_arrival_time',\n",
    "            'bitrate',\n",
    "            'mean_packet_size',\n",
    "            'std_mean_packet_size'}"
   ]
  },
  {
   "cell_type": "code",
   "execution_count": 4,
   "metadata": {},
   "outputs": [],
   "source": [
    "# def simulate(\n",
    "#     df: pd.DataFrame, *,\n",
    "#     arr_avg: float,\n",
    "#     arr_cv: float,\n",
    "#     arr_skewness: float,\n",
    "#     srv_avg: float,\n",
    "#     srv_cv: float,\n",
    "#     srv_skewness: float,\n",
    "#     net_size: int,\n",
    "#     capacity: int,\n",
    "#     num_packets: int,\n",
    "#     force: bool = False\n",
    "# ) -> pd.DataFrame:\n",
    "\n",
    "#     # row_df = df[\n",
    "#     #     (df.ArrAvg == arr_m1) &\n",
    "#     #     (df.ArrCV == arr_m2) &\n",
    "#     #     (df.ArrM3 == arr_m3) &\n",
    "#     #     (df.ArrAvg == arr_m1) &\n",
    "#     #     (df.ArrM2 == arr_m2) &\n",
    "#     #     (df.ArrM3 == arr_m3) &\n",
    "#     #     (df.SrvM1 == srv_m1) &\n",
    "#     #     (df.SrvM2 == srv_m2) &\n",
    "#     #     (df.SrvM3 == srv_m3) &\n",
    "#     #     (df.NetSize == net_size) &\n",
    "#     #     (df.Capacity == capacity)]\n",
    "    \n",
    "#     # # Вычислим признаки, которые говорят о необходимости пересчета:\n",
    "#     # no_row = len(row_df) == 0\n",
    "#     # not_enough_packets = (not no_row) and (row_df.NumPackets.iloc[0] < num_packets)\n",
    "\n",
    "#     arr_m1 = arr_avg\n",
    "#     arr_m2 = get_noncentral_m2(arr_m1, arr_cv)\n",
    "#     arr_m3 = get_noncentral_m3(arr_m1, arr_cv, arr_skewness)\n",
    "\n",
    "#     srv_m1 = srv_avg\n",
    "#     srv_m2 = get_noncentral_m2(srv_m1, srv_cv)\n",
    "#     srv_m3 = get_noncentral_m3(srv_m1, srv_cv, srv_skewness)\n",
    "\n",
    "\n",
    "#     # # Проверим, нужно ли пересчитать результаты:\n",
    "#     # if force or no_row or not_enough_packets:\n",
    "#     arr,_  = fit_mern2(moments=[arr_m1, arr_m2, arr_m3], strict=False)\n",
    "#     srv,_ = fit_mern2(moments=[srv_m1, srv_m2, srv_m3], strict=False)\n",
    "#     ret = simulate_tandem(arr, [srv] * net_size, capacity, num_packets)\n",
    "\n",
    "#     row_data = {\n",
    "#         'ArrM1': arr_m1,\n",
    "#         'ArrM2': arr_m2,\n",
    "#         'ArrM3': arr_m3,\n",
    "#         'ArrAvg': arr_m1,\n",
    "#         'ArrStd': get_std(arr_m1, arr_m2),\n",
    "#         'ArrCv': arr_cv,\n",
    "#         'ArrSkewness': arr_skewness,\n",
    "#         'SrvM1': srv_m1,\n",
    "#         'SrvM2': srv_m2,\n",
    "#         'SrvM3': srv_m3,\n",
    "#         'SrvAvg': srv_m1,\n",
    "#         'SrvStd': get_std(srv_m1, srv_m2),\n",
    "#         'SrvCv': srv_cv,\n",
    "#         'SrvSkewness': srv_skewness,\n",
    "#         'Rho': arr_m1 / srv_m1,\n",
    "#         'NetSize': net_size,\n",
    "#         'Capacity': capacity,\n",
    "#         'NumPackets': num_packets,\n",
    "#         'DelayAvg': ret.delivery_delays[0].avg,\n",
    "#         'DelayStd': ret.delivery_delays[0].std,\n",
    "#         'DeliveryProb': ret.delivery_prob[0],\n",
    "#     }\n",
    "#     # # Если строки еще вообще не было, добавляем ее, а если была - обновляем:\n",
    "#     # if no_row:\n",
    "#     #     df = df.append(row_data, ignore_index=True)\n",
    "#     # else:\n",
    "#     #     df.update(pd.DataFrame(row_data, index=[row_df.index[0]]))\n",
    "#     df = df.append(row_data, ignore_index=True)\n",
    "\n",
    "#     return df"
   ]
  },
  {
   "cell_type": "code",
   "execution_count": 5,
   "metadata": {},
   "outputs": [
    {
     "output_type": "stream",
     "name": "stdout",
     "text": [
      "simulate_tandem(arrivals, services, queue_capacity: int, bool fixed_service: bool = False, max_packets: int = 100000) -> TandemResults\n\n    Simulate tandem using C++ implementation. No cross-traffic supported.\n\n    Example\n    -------\n    >>> simulate_tandem(\n    >>>     Erlang(2, 1),\n    >>>     [Exponential(5), Exponential(6), Exponential(3)],\n    >>>     10,  # queue capacity\n    >>>     1000000)  # number of packets (1 million)\n\n    To simulate a network, where cross-traffic arrives at stations 0, 2 and 3,\n    and network has length 5:\n\n    >>> simulate_tandem(\n    >>>     [Erlang(2, 1), None, Exponential(2), Exponential(2.3), None],\n    >>>     [Exponential(3) for _ in range(5)],\n    >>>     10,  # queue capacity\n    >>>     1000000)  # number of packets (1 million)\n\n    Results returned are defined in pyqumo.sim.tandem.Results.\n\n    Parameters\n    ----------\n    arrivals : Distribution instance, or list-like with optional Distributions\n        if list-like, non-None values should be given for nodes with external\n        traffic arrivals. When given as a single Distribution, it is assumed\n        that all traffic comes to the first node only.\n    services : list of Distribution instances, this list size is the number\n        of nodes in the tandem network\n    queue_capacity: int or np.inf\n    fixed_service: bool, default is False\n        if True, then service time is selected when the packet is served for\n        the first time, and then this service time is used all over the\n        network.\n    max_packets: int, default: 100'000\n        total number of packets (over all sources) to simulate.\n    \n"
     ]
    }
   ],
   "source": [
    "dir(simulate_tandem)\n",
    "print(simulate_tandem.__doc__)"
   ]
  },
  {
   "cell_type": "code",
   "execution_count": 6,
   "metadata": {},
   "outputs": [
    {
     "output_type": "error",
     "ename": "TypeError",
     "evalue": "simulate_tandem() got multiple values for keyword argument 'fixed_service'",
     "traceback": [
      "\u001b[0;31m---------------------------------------------------------------------------\u001b[0m",
      "\u001b[0;31mTypeError\u001b[0m                                 Traceback (most recent call last)",
      "\u001b[0;32m<ipython-input-6-5f16dc18e1f5>\u001b[0m in \u001b[0;36m<module>\u001b[0;34m\u001b[0m\n\u001b[0;32m----> 1\u001b[0;31m \u001b[0mret\u001b[0m \u001b[0;34m=\u001b[0m \u001b[0msimulate_tandem\u001b[0m\u001b[0;34m(\u001b[0m\u001b[0mExponential\u001b[0m\u001b[0;34m(\u001b[0m\u001b[0;36m1\u001b[0m\u001b[0;34m)\u001b[0m\u001b[0;34m,\u001b[0m \u001b[0;34m[\u001b[0m\u001b[0mExponential\u001b[0m\u001b[0;34m(\u001b[0m\u001b[0;36m2\u001b[0m\u001b[0;34m)\u001b[0m\u001b[0;34m]\u001b[0m \u001b[0;34m*\u001b[0m \u001b[0;36m3\u001b[0m\u001b[0;34m,\u001b[0m \u001b[0;36m5\u001b[0m\u001b[0;34m,\u001b[0m \u001b[0;36m10\u001b[0m\u001b[0;34m,\u001b[0m \u001b[0mfixed_service\u001b[0m\u001b[0;34m=\u001b[0m\u001b[0;32mTrue\u001b[0m\u001b[0;34m)\u001b[0m\u001b[0;34m\u001b[0m\u001b[0;34m\u001b[0m\u001b[0m\n\u001b[0m",
      "\u001b[0;32m~/Projects/pyqumo/pyqumo/cqumo/sim.pyx\u001b[0m in \u001b[0;36mpyqumo.cqumo.sim.simulate_tandem\u001b[0;34m()\u001b[0m\n",
      "\u001b[0;31mTypeError\u001b[0m: simulate_tandem() got multiple values for keyword argument 'fixed_service'"
     ]
    }
   ],
   "source": [
    "ret = simulate_tandem(Exponential(1), [Exponential(2)] * 3, 5, 10,)"
   ]
  },
  {
   "cell_type": "code",
   "execution_count": 25,
   "metadata": {},
   "outputs": [
    {
     "output_type": "error",
     "ename": "AttributeError",
     "evalue": "'builtin_function_or_method' object has no attribute 'tabulate'",
     "traceback": [
      "\u001b[0;31m---------------------------------------------------------------------------\u001b[0m",
      "\u001b[0;31mAttributeError\u001b[0m                            Traceback (most recent call last)",
      "\u001b[0;32m<ipython-input-25-3fc77d2496d7>\u001b[0m in \u001b[0;36m<module>\u001b[0;34m\u001b[0m\n\u001b[0;32m----> 1\u001b[0;31m \u001b[0msimulate_tandem\u001b[0m\u001b[0;34m.\u001b[0m\u001b[0mtabulate\u001b[0m\u001b[0;34m\u001b[0m\u001b[0;34m\u001b[0m\u001b[0m\n\u001b[0m",
      "\u001b[0;31mAttributeError\u001b[0m: 'builtin_function_or_method' object has no attribute 'tabulate'"
     ]
    }
   ],
   "source": [
    "simulate_tandem()\n"
   ]
  },
  {
   "cell_type": "code",
   "execution_count": 23,
   "metadata": {},
   "outputs": [
    {
     "output_type": "stream",
     "name": "stdout",
     "text": [
      "Param                        Value\n---------------------------  ---------------------\nNumber of stations           3\nLoss probability             [0.0, 0.0, 0.0]\n[[ STATION #0 ]]\nSystem size PMF              [0.81, 0.179, 0.0111]\nSystem size average          0.20109202418258493\nSystem size std.dev.         0.42772157368539415\nQueue size PMF               [0.989, 0.0111]\nQueue size average           0.011145861301587227\nQueue size std.dev.          0.10498395628586783\nBusy PMF                     [0.85, 0.15]\nUtilization                  0.15016977434187417\nDrop probability             0.0\nDelivery probability         1.0\nDepartures, average          1.4979153192327428\nDepartures, std.dev.         1.6844102510868553\nResponse time, average       0.29986530147084994\nResponse time, std.dev.      0.17310226389114755\nWait time, average           0.019255650963801232\nWait time, std.dev.          0.05776695289140369\nEnd-to-end delays, average   1.5186918574466535\nEnd-to-end delays, std.dev.  0.9059217684511146\n[[ STATION #1 ]]\nSystem size PMF              [0.608, 0.29, 0.102]\nSystem size average          0.49389676158684104\nSystem size std.dev.         0.6738154482122223\nQueue size PMF               [0.78, 0.22]\nQueue size average           0.21965687592360317\nQueue size std.dev.          0.4140141697853903\nBusy PMF                     [0.608, 0.392]\nUtilization                  0.39186450770255793\nDrop probability             0.0\nDelivery probability         1.0\nDepartures, average          1.5042975488389432\nDepartures, std.dev.         1.5712607140128358\nResponse time, average       0.7429676878345767\nResponse time, std.dev.      0.6596929306427717\nWait time, average           0.1534868694206396\nWait time, std.dev.          0.21447882338411137\nEnd-to-end delays, average   0.0\nEnd-to-end delays, std.dev.  0.0\n[[ STATION #2 ]]\nSystem size PMF              [0.69, 0.31]\nSystem size average          0.3101677455890742\nSystem size std.dev.         0.46256212035278627\nQueue size PMF               [nan]\nQueue size average           nan\nQueue size std.dev.          nan\nBusy PMF                     [0.69, 0.31]\nUtilization                  0.3101677455890742\nDrop probability             0.0\nDelivery probability         1.0\nDepartures, average          1.5341984294255677\nDepartures, std.dev.         0.8502553156394012\nResponse time, average       0.4758588681412267\nResponse time, std.dev.      0.8918304838330057\nWait time, average           0.0\nWait time, std.dev.          0.0\nEnd-to-end delays, average   0.0\nEnd-to-end delays, std.dev.  0.0\n"
     ]
    }
   ],
   "source": [
    "print(ret.tabulate())"
   ]
  },
  {
   "cell_type": "code",
   "execution_count": null,
   "metadata": {},
   "outputs": [],
   "source": []
  }
 ]
}