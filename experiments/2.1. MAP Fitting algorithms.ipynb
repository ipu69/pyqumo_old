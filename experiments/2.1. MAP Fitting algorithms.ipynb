{
 "cells": [
  {
   "cell_type": "code",
   "execution_count": 2,
   "id": "different-mention",
   "metadata": {},
   "outputs": [],
   "source": [
    "%load_ext autoreload\n",
    "%autoreload 2"
   ]
  },
  {
   "cell_type": "code",
   "execution_count": 3,
   "id": "armed-smith",
   "metadata": {},
   "outputs": [],
   "source": [
    "from matplotlib import pyplot as plt\n",
    "import matplotlib\n",
    "import numpy as np\n",
    "from itertools import product\n",
    "from tqdm.notebook import tqdm\n",
    "from typing import Optional\n",
    "\n",
    "import warnings\n",
    "from scipy.optimize import minimize, linprog, shgo\n",
    "\n",
    "from pyqumo.fitting import fit_mern2, fit_acph2, fit_map_horvath05, optimize_lag1\n",
    "from pyqumo.stats import get_cv, get_skewness, get_noncentral_m2, get_noncentral_m3\n",
    "from pyqumo.random import HyperErlang, PhaseType, Distribution\n",
    "from pyqumo.arrivals import MarkovArrival\n",
    "from pyqumo.errors import BoundsError, RowSumError\n",
    "from pyqumo.matrix import cbdiag"
   ]
  },
  {
   "cell_type": "code",
   "execution_count": 4,
   "id": "clean-orleans",
   "metadata": {},
   "outputs": [],
   "source": [
    "def fit_ph(m1: float, cv: float, skew: float) -> PhaseType:\n",
    "    \"\"\"\n",
    "    Fit PH by either ACPH(2) or MERN(2) methods.\n",
    "    \"\"\"\n",
    "    moments = np.asarray([m1, get_noncentral_m2(m1, cv), get_noncentral_m3(m1, cv, skew)])\n",
    "    try:\n",
    "        dist: Distribution = fit_acph2(moments, strict=True)\n",
    "    except BoundsError:\n",
    "        dist: Distribution = fit_mern2(moments, strict=False, max_shape_inc=1)\n",
    "    return dist[0].as_ph()\n",
    "\n",
    "def fit_map(ph: PhaseType, lag1: float) -> MarkovArrival:\n",
    "    \"\"\"\n",
    "    Shortcut for fitting MAP\n",
    "    \"\"\"\n",
    "    return fit_map_horvath05(ph, lag1)[0]"
   ]
  },
  {
   "cell_type": "markdown",
   "id": "different-trance",
   "metadata": {},
   "source": [
    "## Анализ максимального и минимального коэффициента автокорреляции\n",
    "\n",
    "Первый эксперимент:\n",
    "\n",
    "1) Построим простой PH по трем моментам\n",
    "2) Вычислим для него минимальный и максимальный коэффициенты автокорреляции\n",
    "3) Убедимся, что полученные решения определяют MAP-поток\n",
    "4) Убедимся, что если построить MAP-представление исходного PH, у него автокорреляция будет нулевой"
   ]
  },
  {
   "cell_type": "code",
   "execution_count": 6,
   "id": "liked-stephen",
   "metadata": {},
   "outputs": [
    {
     "name": "stdout",
     "output_type": "stream",
     "text": [
      "min:  -0.02130542346430751\n",
      "max:  0.28573097265422537\n",
      "real:  8.88178419700126e-16\n",
      "-0.017995791628383256\n"
     ]
    }
   ],
   "source": [
    "ph = fit_ph(1, 0.5, 2)\n",
    "min_rho = optimize_lag1(ph, optype='min')\n",
    "max_rho = optimize_lag1(ph, optype='max')\n",
    "\n",
    "print('min: ', min_rho.fun)\n",
    "print('max: ', max_rho.fun)\n",
    "\n",
    "# Validate D0, D1 describe well-defined MAPs:\n",
    "MarkovArrival(ph.s, min_rho.x.reshape((ph.order, ph.order)).T)\n",
    "MarkovArrival(ph.s, max_rho.x.reshape((ph.order, ph.order)).T)\n",
    "\n",
    "print('real: ', MarkovArrival.phase_type(ph.s, ph.init_probs).lag(1))\n",
    "print(optimize_lag1(ph, optype='min').fun)"
   ]
  },
  {
   "cell_type": "markdown",
   "id": "activated-failure",
   "metadata": {},
   "source": [
    "## Генерация случайного MAP-потока для заданного PH\n",
    "\n",
    "Определим функцию, которая генерирует MAP со случайной матрицей D1, но так, чтобы у результата коэффициент автокорреляции был не меньше (по модулю) заданного значения.\n",
    "Для этого будем выбирать случайные элементы D1 и заполнять их числами, пока сумма с элементами соответствующих строк D0 не будет нулевой."
   ]
  },
  {
   "cell_type": "code",
   "execution_count": 8,
   "id": "efficient-brooklyn",
   "metadata": {},
   "outputs": [
    {
     "name": "stdout",
     "output_type": "stream",
     "text": [
      "- original lag-1 is 0.00000\n",
      "- update: new lag-1 is -0.28498\n",
      "MAP lag-1 correlation:  -0.28498348467271645\n",
      "Matrices\n",
      "+ D0:\n",
      "[[-86.706  86.706   0.      0.   ]\n",
      " [  0.    -86.706   0.      0.   ]\n",
      " [  0.      0.     -0.294   0.294]\n",
      " [  0.      0.      0.     -0.294]]\n",
      "+ D1:\n",
      "[[ 0.     0.     0.     0.   ]\n",
      " [ 1.037  1.018  1.814 82.837]\n",
      " [ 0.     0.     0.     0.   ]\n",
      " [ 0.267  0.01   0.008  0.01 ]]\n"
     ]
    }
   ],
   "source": [
    "def generate_random_map(ph: PhaseType, max_iters: int = 1000, min_lag_abs: float = .1):\n",
    "    \"\"\"\n",
    "    Generate random MAP for the given stationary PH with lag-1 autocorrelation\n",
    "    not less then the given value.\n",
    "    \"\"\"\n",
    "    best_solution = MarkovArrival.phase_type(ph.s, ph.init_probs)\n",
    "    best_lag1 = best_solution.lag(1)\n",
    "    print(f\"- original lag-1 is {best_lag1:.5f}\")\n",
    "    iteration = 0\n",
    "    while iteration < max_iters and abs(best_lag1) < min_lag_abs:\n",
    "        m = ph.order\n",
    "        d1 = np.zeros((m, m))\n",
    "        for i in range(m):\n",
    "            delta = -sum(ph.s[i])\n",
    "            if delta < 1e-10:\n",
    "                continue\n",
    "            columns = list(range(m))\n",
    "            while delta > 0:\n",
    "                j = np.random.choice(columns)\n",
    "                columns.remove(j)\n",
    "                d1[i, j] = np.random.uniform(0, delta) if columns else delta\n",
    "                delta -= d1[i, j]\n",
    "        new_solution = MarkovArrival(ph.s, d1)\n",
    "        new_lag1 = new_solution.lag(1)\n",
    "        if abs(new_lag1) > abs(best_lag1):\n",
    "            print(f\"- update: new lag-1 is {new_lag1:.5f}\")\n",
    "            best_solution = new_solution\n",
    "            best_lag1 = new_lag1\n",
    "        iteration += 1\n",
    "    return best_solution\n",
    "\n",
    "ph = fit_ph(1, 3, 4)\n",
    "markov_arrival = generate_random_map(ph)\n",
    "print(\"MAP lag-1 correlation: \", markov_arrival.lag(1))\n",
    "print(\"Matrices\")\n",
    "with np.printoptions(precision=3, suppress=True):\n",
    "    print(\"+ D0:\")\n",
    "    print(markov_arrival.d0)\n",
    "    print(\"+ D1:\")\n",
    "    print(markov_arrival.d1)"
   ]
  },
  {
   "cell_type": "markdown",
   "id": "legal-decimal",
   "metadata": {},
   "source": [
    "## Диапазоны изменений коэффициентов автокорреляции первого порядка\n",
    "\n",
    "Построим набор PH-распределений для сетки $(cv - 1/cv, \\gamma)$ и вычислим для этих распределений минимальный и максимальный коэффициенты автокорреляции."
   ]
  },
  {
   "cell_type": "code",
   "execution_count": 9,
   "id": "mature-neutral",
   "metadata": {},
   "outputs": [],
   "source": [
    "def x2cv(x: float) -> float:\n",
    "    \"\"\"Get CV value from c-1/c value.\n",
    "    \"\"\"\n",
    "    return (x + pow(x**2 + 4, 0.5)) / 2"
   ]
  },
  {
   "cell_type": "code",
   "execution_count": 10,
   "id": "involved-syndrome",
   "metadata": {},
   "outputs": [],
   "source": [
    "GRID_SIZE = 20\n",
    "X = np.linspace(-2.5, 10, GRID_SIZE)  # c - 1/c values\n",
    "Y = np.linspace(0, 10, GRID_SIZE)  # gamma (skewness) values, not all feasible\n",
    "CV = np.asarray([x2cv(x) for x in X])\n",
    "PLANE_SHAPE = (GRID_SIZE, GRID_SIZE)\n",
    "COORDS = list(product(range(GRID_SIZE), range(GRID_SIZE)))\n",
    "MEAN = 1.0"
   ]
  },
  {
   "cell_type": "code",
   "execution_count": 11,
   "id": "bibliographic-berkeley",
   "metadata": {},
   "outputs": [
    {
     "data": {
      "application/vnd.jupyter.widget-view+json": {
       "model_id": "b03b3d05431748a98611f5f5524794d3",
       "version_major": 2,
       "version_minor": 0
      },
      "text/plain": [
       "  0%|          | 0/20 [00:00<?, ?it/s]"
      ]
     },
     "metadata": {},
     "output_type": "display_data"
    }
   ],
   "source": [
    "phs = [[fit_ph(MEAN, cv, y) if y > x else None for (x, cv) in zip(X, CV)] for y in tqdm(Y)]"
   ]
  },
  {
   "cell_type": "code",
   "execution_count": 12,
   "id": "martial-milan",
   "metadata": {},
   "outputs": [
    {
     "data": {
      "application/vnd.jupyter.widget-view+json": {
       "model_id": "ec911dbf08e449f69fde4030b2efbb9d",
       "version_major": 2,
       "version_minor": 0
      },
      "text/plain": [
       "  0%|          | 0/20 [00:00<?, ?it/s]"
      ]
     },
     "metadata": {},
     "output_type": "display_data"
    },
    {
     "data": {
      "application/vnd.jupyter.widget-view+json": {
       "model_id": "",
       "version_major": 2,
       "version_minor": 0
      },
      "text/plain": [
       "  0%|          | 0/20 [00:00<?, ?it/s]"
      ]
     },
     "metadata": {},
     "output_type": "display_data"
    },
    {
     "data": {
      "application/vnd.jupyter.widget-view+json": {
       "model_id": "",
       "version_major": 2,
       "version_minor": 0
      },
      "text/plain": [
       "  0%|          | 0/20 [00:00<?, ?it/s]"
      ]
     },
     "metadata": {},
     "output_type": "display_data"
    },
    {
     "data": {
      "application/vnd.jupyter.widget-view+json": {
       "model_id": "",
       "version_major": 2,
       "version_minor": 0
      },
      "text/plain": [
       "  0%|          | 0/20 [00:00<?, ?it/s]"
      ]
     },
     "metadata": {},
     "output_type": "display_data"
    },
    {
     "data": {
      "application/vnd.jupyter.widget-view+json": {
       "model_id": "",
       "version_major": 2,
       "version_minor": 0
      },
      "text/plain": [
       "  0%|          | 0/20 [00:00<?, ?it/s]"
      ]
     },
     "metadata": {},
     "output_type": "display_data"
    },
    {
     "data": {
      "application/vnd.jupyter.widget-view+json": {
       "model_id": "",
       "version_major": 2,
       "version_minor": 0
      },
      "text/plain": [
       "  0%|          | 0/20 [00:00<?, ?it/s]"
      ]
     },
     "metadata": {},
     "output_type": "display_data"
    },
    {
     "data": {
      "application/vnd.jupyter.widget-view+json": {
       "model_id": "",
       "version_major": 2,
       "version_minor": 0
      },
      "text/plain": [
       "  0%|          | 0/20 [00:00<?, ?it/s]"
      ]
     },
     "metadata": {},
     "output_type": "display_data"
    },
    {
     "data": {
      "application/vnd.jupyter.widget-view+json": {
       "model_id": "",
       "version_major": 2,
       "version_minor": 0
      },
      "text/plain": [
       "  0%|          | 0/20 [00:00<?, ?it/s]"
      ]
     },
     "metadata": {},
     "output_type": "display_data"
    },
    {
     "data": {
      "application/vnd.jupyter.widget-view+json": {
       "model_id": "",
       "version_major": 2,
       "version_minor": 0
      },
      "text/plain": [
       "  0%|          | 0/20 [00:00<?, ?it/s]"
      ]
     },
     "metadata": {},
     "output_type": "display_data"
    },
    {
     "data": {
      "application/vnd.jupyter.widget-view+json": {
       "model_id": "",
       "version_major": 2,
       "version_minor": 0
      },
      "text/plain": [
       "  0%|          | 0/20 [00:00<?, ?it/s]"
      ]
     },
     "metadata": {},
     "output_type": "display_data"
    },
    {
     "data": {
      "application/vnd.jupyter.widget-view+json": {
       "model_id": "",
       "version_major": 2,
       "version_minor": 0
      },
      "text/plain": [
       "  0%|          | 0/20 [00:00<?, ?it/s]"
      ]
     },
     "metadata": {},
     "output_type": "display_data"
    },
    {
     "data": {
      "application/vnd.jupyter.widget-view+json": {
       "model_id": "",
       "version_major": 2,
       "version_minor": 0
      },
      "text/plain": [
       "  0%|          | 0/20 [00:00<?, ?it/s]"
      ]
     },
     "metadata": {},
     "output_type": "display_data"
    },
    {
     "data": {
      "application/vnd.jupyter.widget-view+json": {
       "model_id": "89cbdd069482481a8027155b5bd93764",
       "version_major": 2,
       "version_minor": 0
      },
      "text/plain": [
       "  0%|          | 0/20 [00:00<?, ?it/s]"
      ]
     },
     "metadata": {},
     "output_type": "display_data"
    },
    {
     "ename": "KeyboardInterrupt",
     "evalue": "",
     "output_type": "error",
     "traceback": [
      "\u001b[0;31m---------------------------------------------------------------------------\u001b[0m",
      "\u001b[0;31mKeyboardInterrupt\u001b[0m                         Traceback (most recent call last)",
      "\u001b[0;32m<ipython-input-12-0e282b060691>\u001b[0m in \u001b[0;36m<module>\u001b[0;34m\u001b[0m\n\u001b[0;32m----> 1\u001b[0;31m \u001b[0mlowest\u001b[0m \u001b[0;34m=\u001b[0m \u001b[0;34m[\u001b[0m\u001b[0;34m[\u001b[0m\u001b[0moptimize_lag1\u001b[0m\u001b[0;34m(\u001b[0m\u001b[0mph\u001b[0m\u001b[0;34m,\u001b[0m \u001b[0moptype\u001b[0m\u001b[0;34m=\u001b[0m\u001b[0;34m'min'\u001b[0m\u001b[0;34m,\u001b[0m \u001b[0mn_iters\u001b[0m\u001b[0;34m=\u001b[0m\u001b[0;36m3\u001b[0m\u001b[0;34m)\u001b[0m\u001b[0;34m.\u001b[0m\u001b[0mfun\u001b[0m \u001b[0;32mif\u001b[0m \u001b[0mph\u001b[0m \u001b[0;32mand\u001b[0m \u001b[0mph\u001b[0m\u001b[0;34m.\u001b[0m\u001b[0morder\u001b[0m \u001b[0;34m<\u001b[0m \u001b[0;36m30\u001b[0m \u001b[0;32melse\u001b[0m \u001b[0;32mNone\u001b[0m \u001b[0;32mfor\u001b[0m \u001b[0mph\u001b[0m \u001b[0;32min\u001b[0m \u001b[0mtqdm\u001b[0m\u001b[0;34m(\u001b[0m\u001b[0mrow\u001b[0m\u001b[0;34m,\u001b[0m \u001b[0mleave\u001b[0m\u001b[0;34m=\u001b[0m\u001b[0;32mFalse\u001b[0m\u001b[0;34m)\u001b[0m\u001b[0;34m]\u001b[0m \u001b[0;32mfor\u001b[0m \u001b[0mrow\u001b[0m \u001b[0;32min\u001b[0m \u001b[0mtqdm\u001b[0m\u001b[0;34m(\u001b[0m\u001b[0mphs\u001b[0m\u001b[0;34m)\u001b[0m\u001b[0;34m]\u001b[0m\u001b[0;34m\u001b[0m\u001b[0;34m\u001b[0m\u001b[0m\n\u001b[0m",
      "\u001b[0;32m<ipython-input-12-0e282b060691>\u001b[0m in \u001b[0;36m<listcomp>\u001b[0;34m(.0)\u001b[0m\n\u001b[0;32m----> 1\u001b[0;31m \u001b[0mlowest\u001b[0m \u001b[0;34m=\u001b[0m \u001b[0;34m[\u001b[0m\u001b[0;34m[\u001b[0m\u001b[0moptimize_lag1\u001b[0m\u001b[0;34m(\u001b[0m\u001b[0mph\u001b[0m\u001b[0;34m,\u001b[0m \u001b[0moptype\u001b[0m\u001b[0;34m=\u001b[0m\u001b[0;34m'min'\u001b[0m\u001b[0;34m,\u001b[0m \u001b[0mn_iters\u001b[0m\u001b[0;34m=\u001b[0m\u001b[0;36m3\u001b[0m\u001b[0;34m)\u001b[0m\u001b[0;34m.\u001b[0m\u001b[0mfun\u001b[0m \u001b[0;32mif\u001b[0m \u001b[0mph\u001b[0m \u001b[0;32mand\u001b[0m \u001b[0mph\u001b[0m\u001b[0;34m.\u001b[0m\u001b[0morder\u001b[0m \u001b[0;34m<\u001b[0m \u001b[0;36m30\u001b[0m \u001b[0;32melse\u001b[0m \u001b[0;32mNone\u001b[0m \u001b[0;32mfor\u001b[0m \u001b[0mph\u001b[0m \u001b[0;32min\u001b[0m \u001b[0mtqdm\u001b[0m\u001b[0;34m(\u001b[0m\u001b[0mrow\u001b[0m\u001b[0;34m,\u001b[0m \u001b[0mleave\u001b[0m\u001b[0;34m=\u001b[0m\u001b[0;32mFalse\u001b[0m\u001b[0;34m)\u001b[0m\u001b[0;34m]\u001b[0m \u001b[0;32mfor\u001b[0m \u001b[0mrow\u001b[0m \u001b[0;32min\u001b[0m \u001b[0mtqdm\u001b[0m\u001b[0;34m(\u001b[0m\u001b[0mphs\u001b[0m\u001b[0;34m)\u001b[0m\u001b[0;34m]\u001b[0m\u001b[0;34m\u001b[0m\u001b[0;34m\u001b[0m\u001b[0m\n\u001b[0m",
      "\u001b[0;32m<ipython-input-12-0e282b060691>\u001b[0m in \u001b[0;36m<listcomp>\u001b[0;34m(.0)\u001b[0m\n\u001b[0;32m----> 1\u001b[0;31m \u001b[0mlowest\u001b[0m \u001b[0;34m=\u001b[0m \u001b[0;34m[\u001b[0m\u001b[0;34m[\u001b[0m\u001b[0moptimize_lag1\u001b[0m\u001b[0;34m(\u001b[0m\u001b[0mph\u001b[0m\u001b[0;34m,\u001b[0m \u001b[0moptype\u001b[0m\u001b[0;34m=\u001b[0m\u001b[0;34m'min'\u001b[0m\u001b[0;34m,\u001b[0m \u001b[0mn_iters\u001b[0m\u001b[0;34m=\u001b[0m\u001b[0;36m3\u001b[0m\u001b[0;34m)\u001b[0m\u001b[0;34m.\u001b[0m\u001b[0mfun\u001b[0m \u001b[0;32mif\u001b[0m \u001b[0mph\u001b[0m \u001b[0;32mand\u001b[0m \u001b[0mph\u001b[0m\u001b[0;34m.\u001b[0m\u001b[0morder\u001b[0m \u001b[0;34m<\u001b[0m \u001b[0;36m30\u001b[0m \u001b[0;32melse\u001b[0m \u001b[0;32mNone\u001b[0m \u001b[0;32mfor\u001b[0m \u001b[0mph\u001b[0m \u001b[0;32min\u001b[0m \u001b[0mtqdm\u001b[0m\u001b[0;34m(\u001b[0m\u001b[0mrow\u001b[0m\u001b[0;34m,\u001b[0m \u001b[0mleave\u001b[0m\u001b[0;34m=\u001b[0m\u001b[0;32mFalse\u001b[0m\u001b[0;34m)\u001b[0m\u001b[0;34m]\u001b[0m \u001b[0;32mfor\u001b[0m \u001b[0mrow\u001b[0m \u001b[0;32min\u001b[0m \u001b[0mtqdm\u001b[0m\u001b[0;34m(\u001b[0m\u001b[0mphs\u001b[0m\u001b[0;34m)\u001b[0m\u001b[0;34m]\u001b[0m\u001b[0;34m\u001b[0m\u001b[0;34m\u001b[0m\u001b[0m\n\u001b[0m",
      "\u001b[0;32m~/workspace/pyqumo/pyqumo/fitting/horvath05.py\u001b[0m in \u001b[0;36moptimize_lag1\u001b[0;34m(ph, optype, lag1, n_iters)\u001b[0m\n\u001b[1;32m    224\u001b[0m \u001b[0;34m\u001b[0m\u001b[0m\n\u001b[1;32m    225\u001b[0m         \u001b[0;31m# Solve a problem with linear boundaries.\u001b[0m\u001b[0;34m\u001b[0m\u001b[0;34m\u001b[0m\u001b[0;34m\u001b[0m\u001b[0m\n\u001b[0;32m--> 226\u001b[0;31m         new_solution = scipy.optimize.minimize(\n\u001b[0m\u001b[1;32m    227\u001b[0m             \u001b[0mobj_fun\u001b[0m\u001b[0;34m,\u001b[0m\u001b[0;34m\u001b[0m\u001b[0;34m\u001b[0m\u001b[0m\n\u001b[1;32m    228\u001b[0m             \u001b[0mx0\u001b[0m\u001b[0;34m=\u001b[0m\u001b[0mx_init\u001b[0m\u001b[0;34m,\u001b[0m\u001b[0;34m\u001b[0m\u001b[0;34m\u001b[0m\u001b[0m\n",
      "\u001b[0;32m~/workspace/pyqumo/.venv/lib/python3.8/site-packages/scipy/optimize/_minimize.py\u001b[0m in \u001b[0;36mminimize\u001b[0;34m(fun, x0, args, method, jac, hess, hessp, bounds, constraints, tol, callback, options)\u001b[0m\n\u001b[1;32m    625\u001b[0m         \u001b[0;32mreturn\u001b[0m \u001b[0m_minimize_cobyla\u001b[0m\u001b[0;34m(\u001b[0m\u001b[0mfun\u001b[0m\u001b[0;34m,\u001b[0m \u001b[0mx0\u001b[0m\u001b[0;34m,\u001b[0m \u001b[0margs\u001b[0m\u001b[0;34m,\u001b[0m \u001b[0mconstraints\u001b[0m\u001b[0;34m,\u001b[0m \u001b[0;34m**\u001b[0m\u001b[0moptions\u001b[0m\u001b[0;34m)\u001b[0m\u001b[0;34m\u001b[0m\u001b[0;34m\u001b[0m\u001b[0m\n\u001b[1;32m    626\u001b[0m     \u001b[0;32melif\u001b[0m \u001b[0mmeth\u001b[0m \u001b[0;34m==\u001b[0m \u001b[0;34m'slsqp'\u001b[0m\u001b[0;34m:\u001b[0m\u001b[0;34m\u001b[0m\u001b[0;34m\u001b[0m\u001b[0m\n\u001b[0;32m--> 627\u001b[0;31m         return _minimize_slsqp(fun, x0, args, jac, bounds,\n\u001b[0m\u001b[1;32m    628\u001b[0m                                constraints, callback=callback, **options)\n\u001b[1;32m    629\u001b[0m     \u001b[0;32melif\u001b[0m \u001b[0mmeth\u001b[0m \u001b[0;34m==\u001b[0m \u001b[0;34m'trust-constr'\u001b[0m\u001b[0;34m:\u001b[0m\u001b[0;34m\u001b[0m\u001b[0;34m\u001b[0m\u001b[0m\n",
      "\u001b[0;32m~/workspace/pyqumo/.venv/lib/python3.8/site-packages/scipy/optimize/slsqp.py\u001b[0m in \u001b[0;36m_minimize_slsqp\u001b[0;34m(func, x0, args, jac, bounds, constraints, maxiter, ftol, iprint, disp, eps, callback, finite_diff_rel_step, **unknown_options)\u001b[0m\n\u001b[1;32m    425\u001b[0m     \u001b[0;32mwhile\u001b[0m \u001b[0;36m1\u001b[0m\u001b[0;34m:\u001b[0m\u001b[0;34m\u001b[0m\u001b[0;34m\u001b[0m\u001b[0m\n\u001b[1;32m    426\u001b[0m         \u001b[0;31m# Call SLSQP\u001b[0m\u001b[0;34m\u001b[0m\u001b[0;34m\u001b[0m\u001b[0;34m\u001b[0m\u001b[0m\n\u001b[0;32m--> 427\u001b[0;31m         slsqp(m, meq, x, xl, xu, fx, c, g, a, acc, majiter, mode, w, jw,\n\u001b[0m\u001b[1;32m    428\u001b[0m               \u001b[0malpha\u001b[0m\u001b[0;34m,\u001b[0m \u001b[0mf0\u001b[0m\u001b[0;34m,\u001b[0m \u001b[0mgs\u001b[0m\u001b[0;34m,\u001b[0m \u001b[0mh1\u001b[0m\u001b[0;34m,\u001b[0m \u001b[0mh2\u001b[0m\u001b[0;34m,\u001b[0m \u001b[0mh3\u001b[0m\u001b[0;34m,\u001b[0m \u001b[0mh4\u001b[0m\u001b[0;34m,\u001b[0m \u001b[0mt\u001b[0m\u001b[0;34m,\u001b[0m \u001b[0mt0\u001b[0m\u001b[0;34m,\u001b[0m \u001b[0mtol\u001b[0m\u001b[0;34m,\u001b[0m\u001b[0;34m\u001b[0m\u001b[0;34m\u001b[0m\u001b[0m\n\u001b[1;32m    429\u001b[0m               \u001b[0miexact\u001b[0m\u001b[0;34m,\u001b[0m \u001b[0mincons\u001b[0m\u001b[0;34m,\u001b[0m \u001b[0mireset\u001b[0m\u001b[0;34m,\u001b[0m \u001b[0mitermx\u001b[0m\u001b[0;34m,\u001b[0m \u001b[0mline\u001b[0m\u001b[0;34m,\u001b[0m\u001b[0;34m\u001b[0m\u001b[0;34m\u001b[0m\u001b[0m\n",
      "\u001b[0;31mKeyboardInterrupt\u001b[0m: "
     ]
    }
   ],
   "source": [
    "lowest = [[optimize_lag1(ph, optype='min', n_iters=3).fun if ph and ph.order < 30 else None for ph in tqdm(row, leave=False)] for row in tqdm(phs)]"
   ]
  },
  {
   "cell_type": "code",
   "execution_count": 18,
   "id": "silver-recognition",
   "metadata": {},
   "outputs": [
    {
     "data": {
      "application/vnd.jupyter.widget-view+json": {
       "model_id": "c703096a897948308c4d0f3ef340a787",
       "version_major": 2,
       "version_minor": 0
      },
      "text/plain": [
       "  0%|          | 0/20 [00:00<?, ?it/s]"
      ]
     },
     "metadata": {},
     "output_type": "display_data"
    }
   ],
   "source": [
    "highest = [[optimize_lag1(ph, optype='max', n_iters=3).fun if ph and ph.order < 30 else None for ph in row] for row in tqdm(phs)]"
   ]
  },
  {
   "cell_type": "code",
   "execution_count": 19,
   "id": "straight-service",
   "metadata": {},
   "outputs": [
    {
     "name": "stderr",
     "output_type": "stream",
     "text": [
      "<ipython-input-19-71fdb0f296e8>:13: MatplotlibDeprecationWarning: shading='flat' when X and Y have the same dimensions as C is deprecated since 3.3.  Either specify the corners of the quadrilaterals with X and Y, or pass shading='auto', 'nearest' or 'gouraud', or set rcParams['pcolor.shading'].  This will become an error two minor releases later.\n",
      "  im1 = ax1.pcolormesh(X, Y, lowest)\n",
      "<ipython-input-19-71fdb0f296e8>:14: MatplotlibDeprecationWarning: shading='flat' when X and Y have the same dimensions as C is deprecated since 3.3.  Either specify the corners of the quadrilaterals with X and Y, or pass shading='auto', 'nearest' or 'gouraud', or set rcParams['pcolor.shading'].  This will become an error two minor releases later.\n",
      "  im2 = ax2.pcolormesh(X, Y, highest)\n"
     ]
    },
    {
     "data": {
      "image/png": "[encoded data removed]",
      "text/plain": [
       "<Figure size 936x252 with 4 Axes>"
      ]
     },
     "metadata": {
      "needs_background": "light"
     },
     "output_type": "display_data"
    }
   ],
   "source": [
    "def plot_corr(lowest, highest, title=\"\", y_size=5):\n",
    "    orders = np.zeros(shape=PLANE_SHAPE)\n",
    "    for (i, j) in COORDS:\n",
    "        orders[i][j] = phs[i][j].order\n",
    "        if lowest[i][j] is None:\n",
    "            lowest[i][j] = np.nan\n",
    "        if highest[i][j] is None:\n",
    "            highest[i][j] = np.nan\n",
    "\n",
    "    fig, (ax1, ax2, ax3) = plt.subplots(figsize=(13, y_size), ncols=3, nrows=1, sharey=True)\n",
    "    im1 = ax1.pcolormesh(X, Y, orders)\n",
    "    im2 = ax2.pcolormesh(X, Y, lowest)\n",
    "    im3 = ax3.pcolormesh(X, Y, highest)\n",
    "    \n",
    "    fig.suptitle(title, fontsize=16) \n",
    "    ax1.set_title('MAP order')\n",
    "    ax2.set_title('Minimum lag-1 autocorr.')\n",
    "    ax3.set_title('Maximum lag-1 autocorr.')\n",
    "    \n",
    "    ax1.set_ylabel('Skewness (gamma)')\n",
    "    \n",
    "    for im, ax in zip((im1, im2, im3), (ax1, ax2, ax3)):\n",
    "        fig.colorbar(im, ax=ax)\n",
    "        ax.set_xlabel('c - 1/c')\n",
    "        ax.grid()\n",
    "        \n",
    "    plt.tight_layout()    \n",
    "\n",
    "#\n",
    "# Plot original hyper-Erlang distributions without optimizations of ratios or probabilities.\n",
    "#\n",
    "plot_corr(lowest, highest, \"Minimum and maximum lag-1 autocorrelations\", y_size=3.5)\n",
    "# plt.savefig('image.png')"
   ]
  }
 ],
 "metadata": {
  "kernelspec": {
   "display_name": "Python 3",
   "language": "python",
   "name": "python3"
  },
  "language_info": {
   "codemirror_mode": {
    "name": "ipython",
    "version": 3
   },
   "file_extension": ".py",
   "mimetype": "text/x-python",
   "name": "python",
   "nbconvert_exporter": "python",
   "pygments_lexer": "ipython3",
   "version": "3.8.5"
  }
 },
 "nbformat": 4,
 "nbformat_minor": 5
}
