{
 "cells": [
  {
   "cell_type": "code",
   "execution_count": 1,
   "id": "rental-action",
   "metadata": {},
   "outputs": [],
   "source": [
    "import os\n",
    "from itertools import product\n",
    "from collections import namedtuple\n",
    "import time\n",
    "from typing import Tuple\n",
    "import random\n",
    "\n",
    "from tabulate import tabulate\n",
    "from tqdm.notebook import tqdm\n",
    "import matplotlib\n",
    "import matplotlib.pyplot as plt\n",
    "from matplotlib import cm\n",
    "from matplotlib import patches\n",
    "import numpy as np\n",
    "import pandas as pd\n",
    "\n",
    "# Подключаем локальные пакеты\n",
    "from pyqumo.random import Distribution, Exponential, HyperExponential, Erlang\n",
    "from pyqumo.cqumo.sim import simulate_tandem\n",
    "\n",
    "\n",
    "from pyqumo.fitting.johnson89 import fit_mern2\n",
    "from pyqumo.stats import get_cv, get_skewness, get_noncentral_m2, get_noncentral_m3\n",
    "from pyqumo.random import HyperErlang\n",
    "\n",
    "# Поключаем пакеты для ML\n",
    "import math\n",
    "from sklearn.metrics import r2_score, mean_squared_error, precision_score, recall_score, f1_score\n",
    "from sklearn.tree import DecisionTreeRegressor\n",
    "from sklearn.tree import DecisionTreeClassifier\n",
    "from sklearn import tree\n",
    "from sklearn.ensemble import GradientBoostingRegressor\n",
    "from sklearn.model_selection import train_test_split\n",
    "from sklearn.model_selection import GridSearchCV\n",
    "from sklearn.neural_network import MLPClassifier\n",
    "from sklearn.linear_model import LinearRegression, LogisticRegression\n",
    "from catboost import CatBoostClassifier\n",
    "import tensorflow as tf\n",
    "from tensorflow import keras\n",
    "from tensorflow import keras\n",
    "from tensorflow.python.keras import engine\n",
    "from tensorflow.keras import layers\n",
    "import seaborn as sns\n",
    "from scipy import stats"
   ]
  },
  {
   "cell_type": "code",
   "execution_count": 2,
   "id": "patient-weapon",
   "metadata": {},
   "outputs": [],
   "source": [
    "def get_std(m1, m2):\n",
    "    return (m2 - m1**2)**0.5"
   ]
  },
  {
   "cell_type": "code",
   "execution_count": 3,
   "id": "internal-manhattan",
   "metadata": {},
   "outputs": [],
   "source": [
    "# Нужно ли пересчитывать все, или можно использовать результаты из файлов\n",
    "FORCE_SIMULATION = True\n",
    "# SIM_FILE_NAME = '01_tandem_simulation.csv'\n",
    "SIM_FILE_NAME = 'Tandem_network_with_m_ph_1_n_distribution.csv'\n",
    "SIM_FILE_DIR = 'data'\n",
    "SIM_FILE_PATH = os.path.join(SIM_FILE_DIR, SIM_FILE_NAME)\n",
    "\n",
    "# Зададим число пакетов, передачу которых по сети мы будем моделировать.\n",
    "# Чем выше это число, тем точнее результаты, но на их получение нужно больше времени.\n",
    "NUM_PACKETS = 100000\n",
    "\n",
    "# Цветовая схема для графиков\n",
    "CMAP_NAME = 'viridis'"
   ]
  },
  {
   "cell_type": "code",
   "execution_count": 4,
   "id": "systematic-retailer",
   "metadata": {},
   "outputs": [
    {
     "name": "stdout",
     "output_type": "stream",
     "text": [
      "<class 'pandas.core.frame.DataFrame'>\n",
      "Int64Index: 10010 entries, 0 to 10009\n",
      "Data columns (total 16 columns):\n",
      " #   Column        Non-Null Count  Dtype  \n",
      "---  ------        --------------  -----  \n",
      " 0   ArrM1         10010 non-null  float64\n",
      " 1   ArrAvg        10010 non-null  float64\n",
      " 2   SrvM1         10010 non-null  float64\n",
      " 3   SrvM2         10010 non-null  float64\n",
      " 4   SrvM3         10010 non-null  float64\n",
      " 5   SrvAvg        10010 non-null  float64\n",
      " 6   SrvStd        10010 non-null  float64\n",
      " 7   SrvCv         10010 non-null  float64\n",
      " 8   SrvSkewness   10010 non-null  float64\n",
      " 9   Rho           10010 non-null  float64\n",
      " 10  NetSize       10010 non-null  float64\n",
      " 11  Capacity      10010 non-null  float64\n",
      " 12  NumPackets    10010 non-null  float64\n",
      " 13  DelayAvg      10010 non-null  float64\n",
      " 14  DelayStd      10010 non-null  float64\n",
      " 15  DeliveryProb  10010 non-null  float64\n",
      "dtypes: float64(16)\n",
      "memory usage: 1.3 MB\n"
     ]
    }
   ],
   "source": [
    "COLUMNS = (\n",
    "    'ArrM1',\n",
    "    'ArrAvg',\n",
    "    'SrvM1',\n",
    "    'SrvM2',\n",
    "    'SrvM3',\n",
    "    'SrvAvg', \n",
    "    'SrvStd', \n",
    "    'SrvCv',\n",
    "    'SrvSkewness', \n",
    "    'Rho', \n",
    "    'NetSize', \n",
    "    'Capacity', \n",
    "    'NumPackets',\n",
    "    'DelayAvg', \n",
    "    'DelayStd', \n",
    "    'DeliveryProb',\n",
    ")\n",
    "\n",
    "\n",
    "def save_sim_data(df: pd.DataFrame, ):\n",
    "    \"\"\"\n",
    "    Сохранить в файл данные о результатах имитационного моделирования.\n",
    "    \"\"\"\n",
    "    if not os.path.exists(SIM_FILE_DIR):\n",
    "        os.makedirs(SIM_FILE_DIR)\n",
    "    df.to_csv(SIM_FILE_PATH, index_label='Id')\n",
    "\n",
    "    \n",
    "def load_sim_data() -> pd.DataFrame:\n",
    "    \"\"\"\n",
    "    Загрузить данные о резулдьтатах имитационного моделирования.\n",
    "    \"\"\"       \n",
    "    if os.path.exists(SIM_FILE_PATH):\n",
    "        return pd.read_csv(SIM_FILE_PATH, index_col='Id')\n",
    "    return pd.DataFrame(columns=COLUMNS, index_col='Id')\n",
    "\n",
    "sim_data = load_sim_data()\n",
    "sim_data.info()"
   ]
  },
  {
   "cell_type": "code",
   "execution_count": 5,
   "id": "material-bradley",
   "metadata": {},
   "outputs": [],
   "source": [
    "# Simulation of queueing model M/PH/1/N -> ... -> ./PH/1/N.\n",
    "def simulate(\n",
    "    df: pd.DataFrame, *,\n",
    "    arr_m1: float,        \n",
    "    srv_m1: float,\n",
    "    srv_m2: float,\n",
    "    srv_m3: float,\n",
    "    net_size: int,\n",
    "    capacity: int,\n",
    "    num_packets: int,\n",
    "    force: bool = False\n",
    ") -> pd.DataFrame:\n",
    "    \"\"\"\n",
    "    Выполнить симуляцию, если результатов нет в `df` или требуется их пересчитать, и вернуть новый `DataFrame`.\n",
    "    \"\"\"\n",
    "    row_df = df[\n",
    "        (df.ArrM1 == arr_m1) &\n",
    "        (df.ArrAvg == arr_m1) &\n",
    "        (df.SrvM1 == srv_m1) &\n",
    "        (df.SrvM2 == srv_m2) &\n",
    "        (df.SrvM3 == srv_m3) &\n",
    "        (df.NetSize == net_size) &\n",
    "        (df.Capacity == capacity)]\n",
    "    \n",
    "    # Вычислим признаки, которые говорят о необходимости пересчета:\n",
    "    no_row = len(row_df) == 0\n",
    "    not_enough_packets = (not no_row) and (row_df.NumPackets.iloc[0] < num_packets)\n",
    "\n",
    "    # Проверим, нужно ли пересчитать результаты:\n",
    "    if force or no_row or not_enough_packets: \n",
    "        # Exponential distribution of interarrival packet time. \n",
    "        arr = Exponential(1/arr_m1)\n",
    "        \n",
    "        # Phase-type distribution of service time distribution.\n",
    "        srv,_ = fit_mern2(moments=[srv_m1, srv_m2, srv_m3])\n",
    "        \n",
    "        ret = simulate_tandem([arr] * net_size, [srv] * net_size, capacity, num_packets)\n",
    "\n",
    "        row_data = {\n",
    "            'ArrM1': arr_m1,\n",
    "            'ArrAvg': arr_m1,\n",
    "            'SrvM1': srv_m1,\n",
    "            'SrvM2': srv_m2,\n",
    "            'SrvM3': srv_m3,\n",
    "            'SrvAvg': srv_m1,\n",
    "            'SrvStd': get_std(srv_m1, srv_m2),\n",
    "            'SrvCv': get_cv(srv_m1, srv_m2),\n",
    "            'SrvSkewness': get_skewness(srv_m1, srv_m2, srv_m3),\n",
    "            'Rho': ret.get_utilization(net_size-1),\n",
    "            'NetSize': net_size,\n",
    "            'Capacity': capacity,\n",
    "            'NumPackets': num_packets,\n",
    "            'DelayAvg': ret.delivery_delays[0].avg,\n",
    "            'DelayStd': ret.delivery_delays[0].std,\n",
    "            'DeliveryProb': ret.delivery_prob[0],\n",
    "        }\n",
    "        # Если строки еще вообще не было, добавляем ее, а если была - обновляем:\n",
    "        if no_row:\n",
    "            df = df.append(row_data, ignore_index=True)\n",
    "        else:\n",
    "            df.update(pd.DataFrame(row_data, index=[row_df.index[0]]))\n",
    "\n",
    "    return df"
   ]
  },
  {
   "cell_type": "code",
   "execution_count": 6,
   "id": "closing-watch",
   "metadata": {},
   "outputs": [],
   "source": [
    "SAMPLE_NUM = 100_000\n",
    "arr_m1 = np.zeros(SAMPLE_NUM)\n",
    "\n",
    "srv_m1 = np.zeros(SAMPLE_NUM)\n",
    "srv_cv = np.zeros(SAMPLE_NUM)\n",
    "srv_m2 = np.zeros(SAMPLE_NUM)\n",
    "srv_skewness = np.zeros(SAMPLE_NUM)\n",
    "srv_m3 = np.zeros(SAMPLE_NUM)\n",
    "\n",
    "net_size = np.zeros(SAMPLE_NUM)\n",
    "\n",
    "# time_scale = 1000\n",
    "\n",
    "for i in range(SAMPLE_NUM):\n",
    "#     arr_m1[i] = np.random.uniform(0.01 * time_scale, 0.05* time_scale)\n",
    "    arr_m1[i] = np.random.uniform(10, 50)\n",
    "\n",
    "    srv_m1[i] = np.random.uniform(0.5, 1)\n",
    "    srv_cv[i] = np.random.uniform(4.45, 8)\n",
    "    srv_m2[i] = get_noncentral_m2(srv_m1[i], srv_cv[i])\n",
    "    srv_skewness[i] = np.random.uniform(srv_cv[i] - 1/srv_cv[i], 150)\n",
    "    srv_m3[i] = get_noncentral_m3(srv_m1[i], srv_cv[i], srv_skewness[i])\n",
    "\n",
    "    net_size[i] = np.random.randint(1, 20+1)\n",
    "    \n",
    "capacity = 20"
   ]
  },
  {
   "cell_type": "code",
   "execution_count": 7,
   "id": "durable-platinum",
   "metadata": {},
   "outputs": [
    {
     "data": {
      "text/plain": [
       "0.9323114375119901"
      ]
     },
     "execution_count": 7,
     "metadata": {},
     "output_type": "execute_result"
    }
   ],
   "source": [
    "  srv_m1[0]"
   ]
  },
  {
   "cell_type": "code",
   "execution_count": 8,
   "id": "revolutionary-columbia",
   "metadata": {},
   "outputs": [
    {
     "data": {
      "text/plain": [
       "0.0319058807784896"
      ]
     },
     "execution_count": 8,
     "metadata": {},
     "output_type": "execute_result"
    }
   ],
   "source": [
    "    srv_m1[0]/srv_m2[0]"
   ]
  },
  {
   "cell_type": "code",
   "execution_count": 9,
   "id": "noted-beverage",
   "metadata": {},
   "outputs": [
    {
     "data": {
      "text/plain": [
       "(0.49140462553574354, 5.043670174278639)"
      ]
     },
     "execution_count": 9,
     "metadata": {},
     "output_type": "execute_result"
    }
   ],
   "source": [
    "time_scale = 10\n",
    "m1 = 0.49140462553574354\n",
    "m2 = 5.043670174278639\n",
    "m1, m2\n"
   ]
  },
  {
   "cell_type": "code",
   "execution_count": 10,
   "id": "terminal-quilt",
   "metadata": {},
   "outputs": [
    {
     "data": {
      "text/plain": [
       "4.45944184614579"
      ]
     },
     "execution_count": 10,
     "metadata": {},
     "output_type": "execute_result"
    }
   ],
   "source": [
    "get_cv(m1, m2)"
   ]
  },
  {
   "cell_type": "code",
   "execution_count": 11,
   "id": "seventh-unemployment",
   "metadata": {
    "scrolled": false
   },
   "outputs": [
    {
     "data": {
      "application/vnd.jupyter.widget-view+json": {
       "model_id": "1bbde4828d214c9d9eae236bfa0aabfd",
       "version_major": 2,
       "version_minor": 0
      },
      "text/plain": [
       "  0%|          | 0/100000 [00:00<?, ?it/s]"
      ]
     },
     "metadata": {},
     "output_type": "display_data"
    },
    {
     "ename": "AttributeError",
     "evalue": "'list' object has no attribute 'rnd'",
     "output_type": "error",
     "traceback": [
      "\u001b[0;31m---------------------------------------------------------------------------\u001b[0m",
      "\u001b[0;31mAttributeError\u001b[0m                            Traceback (most recent call last)",
      "\u001b[0;32m<ipython-input-11-def43c169c73>\u001b[0m in \u001b[0;36m<module>\u001b[0;34m\u001b[0m\n\u001b[1;32m      1\u001b[0m \u001b[0;32mif\u001b[0m \u001b[0mFORCE_SIMULATION\u001b[0m\u001b[0;34m:\u001b[0m\u001b[0;34m\u001b[0m\u001b[0;34m\u001b[0m\u001b[0m\n\u001b[1;32m      2\u001b[0m     \u001b[0;32mfor\u001b[0m \u001b[0mi\u001b[0m \u001b[0;32min\u001b[0m \u001b[0mtqdm\u001b[0m\u001b[0;34m(\u001b[0m\u001b[0mrange\u001b[0m\u001b[0;34m(\u001b[0m\u001b[0mSAMPLE_NUM\u001b[0m\u001b[0;34m)\u001b[0m\u001b[0;34m)\u001b[0m\u001b[0;34m:\u001b[0m\u001b[0;34m\u001b[0m\u001b[0;34m\u001b[0m\u001b[0m\n\u001b[0;32m----> 3\u001b[0;31m         sim_data = simulate(\n\u001b[0m\u001b[1;32m      4\u001b[0m             \u001b[0msim_data\u001b[0m\u001b[0;34m,\u001b[0m\u001b[0;34m\u001b[0m\u001b[0;34m\u001b[0m\u001b[0m\n\u001b[1;32m      5\u001b[0m             \u001b[0marr_m1\u001b[0m\u001b[0;34m=\u001b[0m\u001b[0marr_m1\u001b[0m\u001b[0;34m[\u001b[0m\u001b[0mi\u001b[0m\u001b[0;34m]\u001b[0m\u001b[0;34m,\u001b[0m\u001b[0;34m\u001b[0m\u001b[0;34m\u001b[0m\u001b[0m\n",
      "\u001b[0;32m<ipython-input-5-1d5564908154>\u001b[0m in \u001b[0;36msimulate\u001b[0;34m(df, arr_m1, srv_m1, srv_m2, srv_m3, net_size, capacity, num_packets, force)\u001b[0m\n\u001b[1;32m     35\u001b[0m         \u001b[0msrv\u001b[0m\u001b[0;34m,\u001b[0m\u001b[0m_\u001b[0m \u001b[0;34m=\u001b[0m \u001b[0mfit_mern2\u001b[0m\u001b[0;34m(\u001b[0m\u001b[0mmoments\u001b[0m\u001b[0;34m=\u001b[0m\u001b[0;34m[\u001b[0m\u001b[0msrv_m1\u001b[0m\u001b[0;34m,\u001b[0m \u001b[0msrv_m2\u001b[0m\u001b[0;34m,\u001b[0m \u001b[0msrv_m3\u001b[0m\u001b[0;34m]\u001b[0m\u001b[0;34m)\u001b[0m\u001b[0;34m\u001b[0m\u001b[0;34m\u001b[0m\u001b[0m\n\u001b[1;32m     36\u001b[0m \u001b[0;34m\u001b[0m\u001b[0m\n\u001b[0;32m---> 37\u001b[0;31m         \u001b[0mret\u001b[0m \u001b[0;34m=\u001b[0m \u001b[0msimulate_tandem\u001b[0m\u001b[0;34m(\u001b[0m\u001b[0;34m[\u001b[0m\u001b[0marr\u001b[0m\u001b[0;34m]\u001b[0m \u001b[0;34m*\u001b[0m \u001b[0mnet_size\u001b[0m\u001b[0;34m,\u001b[0m \u001b[0;34m[\u001b[0m\u001b[0msrv\u001b[0m\u001b[0;34m]\u001b[0m \u001b[0;34m*\u001b[0m \u001b[0mnet_size\u001b[0m\u001b[0;34m,\u001b[0m \u001b[0mcapacity\u001b[0m\u001b[0;34m,\u001b[0m \u001b[0mnum_packets\u001b[0m\u001b[0;34m)\u001b[0m\u001b[0;34m\u001b[0m\u001b[0;34m\u001b[0m\u001b[0m\n\u001b[0m\u001b[1;32m     38\u001b[0m \u001b[0;34m\u001b[0m\u001b[0m\n\u001b[1;32m     39\u001b[0m         row_data = {\n",
      "\u001b[0;32m~/Projects/pyqumo/pyqumo/cqumo/sim.pyx\u001b[0m in \u001b[0;36mpyqumo.cqumo.sim.simulate_tandem\u001b[0;34m()\u001b[0m\n",
      "\u001b[0;31mAttributeError\u001b[0m: 'list' object has no attribute 'rnd'"
     ]
    }
   ],
   "source": [
    "if FORCE_SIMULATION:\n",
    "    for i in tqdm(range(SAMPLE_NUM)):\n",
    "        sim_data = simulate(\n",
    "            sim_data,\n",
    "            arr_m1=arr_m1[i],\n",
    "            srv_m1=srv_m1[i],\n",
    "            srv_m2=srv_m2[i],\n",
    "            srv_m3=srv_m3[i],\n",
    "            net_size=int(net_size[i]),\n",
    "            capacity=capacity,\n",
    "            num_packets=NUM_PACKETS,\n",
    "            force=FORCE_SIMULATION\n",
    "        )\n",
    "\n",
    "    print(sim_data.info())\n",
    "    print(sim_data)\n",
    "\n",
    "    # Сохраняем результат:\n",
    "    save_sim_data(sim_data)\n",
    "else:\n",
    "    print(\"Going to use previously computed results. To re-run simulation, set FORCE_SIMULATION = True\")"
   ]
  },
  {
   "cell_type": "code",
   "execution_count": null,
   "id": "structural-brick",
   "metadata": {},
   "outputs": [],
   "source": [
    "1/ 0.02"
   ]
  },
  {
   "cell_type": "code",
   "execution_count": 114,
   "id": "vulnerable-target",
   "metadata": {},
   "outputs": [
    {
     "data": {
      "text/plain": [
       "2000.0"
      ]
     },
     "execution_count": 114,
     "metadata": {},
     "output_type": "execute_result"
    }
   ],
   "source": [
    "1 / 0.0005"
   ]
  },
  {
   "cell_type": "code",
   "execution_count": 115,
   "id": "identified-integer",
   "metadata": {},
   "outputs": [
    {
     "data": {
      "text/plain": [
       "0.25"
      ]
     },
     "execution_count": 115,
     "metadata": {},
     "output_type": "execute_result"
    }
   ],
   "source": [
    "0.0005/ 0.002"
   ]
  },
  {
   "cell_type": "code",
   "execution_count": 110,
   "id": "superb-outdoors",
   "metadata": {},
   "outputs": [
    {
     "data": {
      "text/plain": [
       "array([0.00023479, 0.00028875, 0.00027234, 0.00025786, 0.00041654,\n",
       "       0.0002624 , 0.0004242 , 0.00028743, 0.00027334, 0.00034382])"
      ]
     },
     "execution_count": 110,
     "metadata": {},
     "output_type": "execute_result"
    }
   ],
   "source": [
    "arr_m1\n",
    "srv_m1"
   ]
  },
  {
   "cell_type": "code",
   "execution_count": 20,
   "id": "inner-august",
   "metadata": {},
   "outputs": [],
   "source": [
    "m1 = 0.0004914046255357437\n",
    "m2 = 5.043670174278637e-06\n",
    "m3 = 1.2319950843773457e-06"
   ]
  },
  {
   "cell_type": "code",
   "execution_count": 54,
   "id": "dying-serbia",
   "metadata": {},
   "outputs": [
    {
     "data": {
      "text/plain": [
       "4.459441846145787"
      ]
     },
     "execution_count": 54,
     "metadata": {},
     "output_type": "execute_result"
    }
   ],
   "source": [
    "c= get_cv(m1, m2)\n",
    "get_cv(m1, m2)"
   ]
  },
  {
   "cell_type": "code",
   "execution_count": 22,
   "id": "photographic-watershed",
   "metadata": {},
   "outputs": [
    {
     "data": {
      "text/plain": [
       "116.3871050683068"
      ]
     },
     "execution_count": 22,
     "metadata": {},
     "output_type": "execute_result"
    }
   ],
   "source": [
    "get_skewness(m1, m2, m3)"
   ]
  },
  {
   "cell_type": "code",
   "execution_count": 24,
   "id": "indoor-concentration",
   "metadata": {},
   "outputs": [
    {
     "data": {
      "text/plain": [
       "4.23519853622029"
      ]
     },
     "execution_count": 24,
     "metadata": {},
     "output_type": "execute_result"
    }
   ],
   "source": [
    "c - 1/c\n"
   ]
  },
  {
   "cell_type": "code",
   "execution_count": 53,
   "id": "ideal-mineral",
   "metadata": {},
   "outputs": [
    {
     "data": {
      "text/plain": [
       "0.00036939742346539837"
      ]
     },
     "execution_count": 53,
     "metadata": {},
     "output_type": "execute_result"
    }
   ],
   "source": [
    "np.random.uniform(0, 0.0005)"
   ]
  },
  {
   "cell_type": "code",
   "execution_count": 17,
   "id": "labeled-missouri",
   "metadata": {},
   "outputs": [
    {
     "data": {
      "text/plain": [
       "11936"
      ]
     },
     "execution_count": 17,
     "metadata": {},
     "output_type": "execute_result"
    }
   ],
   "source": [
    "1492 * 8\n"
   ]
  },
  {
   "cell_type": "code",
   "execution_count": 22,
   "id": "abandoned-tender",
   "metadata": {},
   "outputs": [
    {
     "data": {
      "text/plain": [
       "54000000"
      ]
     },
     "execution_count": 22,
     "metadata": {},
     "output_type": "execute_result"
    }
   ],
   "source": [
    "54 * 10**6"
   ]
  },
  {
   "cell_type": "code",
   "execution_count": 23,
   "id": "continuing-carpet",
   "metadata": {},
   "outputs": [
    {
     "data": {
      "text/plain": [
       "4524.128686327078"
      ]
     },
     "execution_count": 23,
     "metadata": {},
     "output_type": "execute_result"
    }
   ],
   "source": [
    "54000000/11936"
   ]
  },
  {
   "cell_type": "code",
   "execution_count": 34,
   "id": "disabled-mexico",
   "metadata": {},
   "outputs": [
    {
     "data": {
      "text/plain": [
       "0.00022104332449160034"
      ]
     },
     "execution_count": 34,
     "metadata": {},
     "output_type": "execute_result"
    }
   ],
   "source": [
    "1/4524."
   ]
  }
 ],
 "metadata": {
  "kernelspec": {
   "display_name": "Python 3",
   "language": "python",
   "name": "python3"
  },
  "language_info": {
   "codemirror_mode": {
    "name": "ipython",
    "version": 3
   },
   "file_extension": ".py",
   "mimetype": "text/x-python",
   "name": "python",
   "nbconvert_exporter": "python",
   "pygments_lexer": "ipython3",
   "version": "3.8.0"
  }
 },
 "nbformat": 4,
 "nbformat_minor": 5
}
