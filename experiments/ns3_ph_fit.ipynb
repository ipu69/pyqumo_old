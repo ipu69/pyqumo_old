{
 "cells": [
  {
   "cell_type": "markdown",
   "metadata": {},
   "source": [
    "# The calibrartion method of $M/PH/N/1 \\longrightarrow  \\ldots \\longrightarrow ./PH/N/1$ queueing model with NS-3"
   ]
  },
  {
   "cell_type": "markdown",
   "metadata": {},
   "source": [
    "This experiment consists of a calibration method of queueing model. We consider a tandem model of a wireless network with  𝑀/𝑃𝐻/𝑁/1⟶…⟶./𝑃𝐻/𝑁/1  nodes. The exponential distribution is used to model an arrival distribution. A service time distribution is obtained by PH fitting methods. Approximation of a service time distribution is implemented with Network Simulation 3 NS-3. We researched IEEE 802.11n wireless broadband network."
   ]
  },
  {
   "cell_type": "markdown",
   "metadata": {},
   "source": [
    "Queueing model is built with the simulation model of Open Source project in Python `https://github.com/ipu69/pyqumo`."
   ]
  },
  {
   "cell_type": "code",
   "execution_count": 1,
   "metadata": {},
   "outputs": [],
   "source": [
    "import json\n",
    "from dataclasses import dataclass\n",
    "\n",
    "import matplotlib\n",
    "import matplotlib.pyplot as plt\n",
    "from matplotlib import cm\n",
    "from matplotlib import patches\n",
    "import numpy as np\n",
    "import pandas as pd\n",
    "import scipy\n",
    "import seaborn as sns\n",
    "from tabulate import tabulate\n",
    "\n",
    "from pyqumo.fitting.johnson89 import fit_mern2\n",
    "from pyqumo.fitting.acph2 import fit_acph2\n",
    "from pyqumo.stats import get_cv, get_skewness, get_noncentral_m2, get_noncentral_m3\n",
    "from pyqumo.random import HyperErlang, Exponential\n",
    "from pyqumo.cqumo.sim import simulate_tandem"
   ]
  },
  {
   "cell_type": "markdown",
   "metadata": {},
   "source": [
    "## Loading of datasets from NS-3 model.\n",
    "\n",
    "In our study, we consider a wireless broadband network with 3 base stations and a gateway. All packets are forwarded from the first station through the station system $S_1 \\rightarrow S_2 \\rightarrow S_3$ to the gateway $S_g$. \n",
    "\n",
    "The base station has the following technical parameters:\n",
    "* protocol 802.11n;\n",
    "* MAC layer's buffer size is equal to 500 (default value).\n",
    "* (and also some characteristics).\n",
    "\n",
    "NS-3 generated 1 000 000 packets. We collected three data samples. They are response times between sta $S_1$ and sta $S_2$, response times between sta $S_2$ and sta $S_3$, and response times between sta $S_4$ and gateway $S_g$. Also, we piled up a network end-to-delay that is equal to an average time spent by packets on the network.\n",
    "\n",
    "`JSON-files` include response times between stations in a wireless network. \n",
    "\n",
    "The sample size is equal to the count of generated packets. In our case, there are 1 000 000 samples in each case."
   ]
  },
  {
   "cell_type": "code",
   "execution_count": 2,
   "metadata": {},
   "outputs": [],
   "source": [
    "''' LOADING NS-3 DATA ''' \n",
    "interval_1 = pd.read_json(r'data/ns3_dataset/intervals_1.json')\n",
    "interval_2 = pd.read_json(r'data/ns3_dataset/intervals_2.json')\n",
    "interval_3 = pd.read_json(r'data/ns3_dataset/intervals_3.json')\n",
    "# interval_1 = pd.read_json(r'data/ns3_dataset/intervals_g_1.json')\n",
    "# interval_2 = pd.read_json(r'data/ns3_dataset/intervals_g_2.json')\n",
    "# interval_3 = pd.read_json(r'data/ns3_dataset/intervals_g_3.json')"
   ]
  },
  {
   "cell_type": "markdown",
   "metadata": {},
   "source": [
    "So, we have response time data sets. We need to fit a service time distribution. First of all, it is necessary to get the first three noncentral moments.\n",
    "\n",
    "**So, k-th non central moment is calculated as**\n",
    "\n",
    "\\begin{equation}\n",
    "\\mu^{\\left( k\\right) }\\equiv\\mathbb{E}\\{X^{k}\\},\\quad k=1,2,\\ldots \\,\\text{,}\n",
    "\\end{equation}"
   ]
  },
  {
   "cell_type": "code",
   "execution_count": 3,
   "metadata": {},
   "outputs": [],
   "source": [
    "def get_non_central_moment(sample: pd.DataFrame, k:int=1) -> np.float64:\n",
    "    \"Calculating of k-th non central moment\"\n",
    "    return np.mean(sample[0] ** k)"
   ]
  },
  {
   "cell_type": "code",
   "execution_count": 4,
   "metadata": {},
   "outputs": [],
   "source": [
    "''' \n",
    "Dataclass of commincation link. \n",
    "It is consists NS-3 data and 1st, 2nd, and 3rd moments\n",
    "'''\n",
    "@dataclass\n",
    "class S2SLink:\n",
    "    dataset: pd.DataFrame\n",
    "    m1: float\n",
    "    m2: float\n",
    "    m3: float"
   ]
  },
  {
   "cell_type": "markdown",
   "metadata": {},
   "source": [
    "We need to prepare service time distribution. It can be solve with PH fitting methods. In our exploration we used fitting algorithms designed by Johnson and `Mary A. Johnson & Michael R. Taaffe (1989) Matching moments to phase distributions: Mixtures of erlang distributions of common order, Communications in Statistics. Stochastic Models, 5:4, 711-743, DOI: 10.1080/15326348908807131`"
   ]
  },
  {
   "cell_type": "code",
   "execution_count": 5,
   "metadata": {},
   "outputs": [],
   "source": [
    "def get_service_dist(e2e_link: dataclass) -> list:\n",
    "    srv_dist = [None]*len(e2e_link)\n",
    "    for i in range(len(e2e_link)):\n",
    "        srv, _ = fit_mern2(moments=[e2e_link[i].m1, \n",
    "                                  e2e_link[i].m2, \n",
    "                                  e2e_link[i].m3])\n",
    "#         srv, _ = fit_acph2(moments=[e2e_link[i].m1, \n",
    "#                                     e2e_link[i].m2, \n",
    "#                                     e2e_link[i].m3], strict=False)\n",
    "        srv_dist[i] = srv\n",
    "    \n",
    "    return srv_dist"
   ]
  },
  {
   "cell_type": "code",
   "execution_count": 6,
   "metadata": {},
   "outputs": [
    {
     "data": {
      "text/plain": [
       "array([[0.00176414],\n",
       "       [0.00180407],\n",
       "       [0.00180407],\n",
       "       ...,\n",
       "       [0.00195865],\n",
       "       [0.00028477],\n",
       "       [0.00028429]])"
      ]
     },
     "execution_count": 6,
     "metadata": {},
     "output_type": "execute_result"
    }
   ],
   "source": [
    "interval_1.values\n"
   ]
  },
  {
   "cell_type": "code",
   "execution_count": 7,
   "metadata": {},
   "outputs": [
    {
     "data": {
      "text/plain": [
       "<AxesSubplot:>"
      ]
     },
     "execution_count": 7,
     "metadata": {},
     "output_type": "execute_result"
    },
    {
     "data": {
      "image/png": "[encoded data removed]",
      "text/plain": [
       "<Figure size 432x288 with 1 Axes>"
      ]
     },
     "metadata": {
      "needs_background": "light"
     },
     "output_type": "display_data"
    }
   ],
   "source": [
    "plt.ylim([0, .1]);\n",
    "sns.boxplot(data=interval_1.values)"
   ]
  },
  {
   "cell_type": "code",
   "execution_count": 8,
   "metadata": {},
   "outputs": [
    {
     "data": {
      "text/plain": [
       "[<matplotlib.lines.Line2D at 0x7f941965d190>]"
      ]
     },
     "execution_count": 8,
     "metadata": {},
     "output_type": "execute_result"
    },
    {
     "data": {
      "image/png": "[encoded data removed]",
      "text/plain": [
       "<Figure size 432x288 with 1 Axes>"
      ]
     },
     "metadata": {
      "needs_background": "light"
     },
     "output_type": "display_data"
    }
   ],
   "source": [
    "# plt.hist(interval_1, density=True, bins=20)\n",
    "plt.ylim([0, .6]);\n",
    "plt.plot(interval_1, 'x')"
   ]
  },
  {
   "cell_type": "code",
   "execution_count": 9,
   "metadata": {},
   "outputs": [
    {
     "data": {
      "text/plain": [
       "['T',\n",
       " '_AXIS_LEN',\n",
       " '_AXIS_ORDERS',\n",
       " '_AXIS_REVERSED',\n",
       " '_AXIS_TO_AXIS_NUMBER',\n",
       " '_HANDLED_TYPES',\n",
       " '__abs__',\n",
       " '__add__',\n",
       " '__and__',\n",
       " '__annotations__',\n",
       " '__array__',\n",
       " '__array_priority__',\n",
       " '__array_ufunc__',\n",
       " '__array_wrap__',\n",
       " '__bool__',\n",
       " '__class__',\n",
       " '__contains__',\n",
       " '__copy__',\n",
       " '__deepcopy__',\n",
       " '__delattr__',\n",
       " '__delitem__',\n",
       " '__dict__',\n",
       " '__dir__',\n",
       " '__divmod__',\n",
       " '__doc__',\n",
       " '__eq__',\n",
       " '__finalize__',\n",
       " '__floordiv__',\n",
       " '__format__',\n",
       " '__ge__',\n",
       " '__getattr__',\n",
       " '__getattribute__',\n",
       " '__getitem__',\n",
       " '__getstate__',\n",
       " '__gt__',\n",
       " '__hash__',\n",
       " '__iadd__',\n",
       " '__iand__',\n",
       " '__ifloordiv__',\n",
       " '__imod__',\n",
       " '__imul__',\n",
       " '__init__',\n",
       " '__init_subclass__',\n",
       " '__invert__',\n",
       " '__ior__',\n",
       " '__ipow__',\n",
       " '__isub__',\n",
       " '__iter__',\n",
       " '__itruediv__',\n",
       " '__ixor__',\n",
       " '__le__',\n",
       " '__len__',\n",
       " '__lt__',\n",
       " '__matmul__',\n",
       " '__mod__',\n",
       " '__module__',\n",
       " '__mul__',\n",
       " '__ne__',\n",
       " '__neg__',\n",
       " '__new__',\n",
       " '__nonzero__',\n",
       " '__or__',\n",
       " '__pos__',\n",
       " '__pow__',\n",
       " '__radd__',\n",
       " '__rand__',\n",
       " '__rdivmod__',\n",
       " '__reduce__',\n",
       " '__reduce_ex__',\n",
       " '__repr__',\n",
       " '__rfloordiv__',\n",
       " '__rmatmul__',\n",
       " '__rmod__',\n",
       " '__rmul__',\n",
       " '__ror__',\n",
       " '__round__',\n",
       " '__rpow__',\n",
       " '__rsub__',\n",
       " '__rtruediv__',\n",
       " '__rxor__',\n",
       " '__setattr__',\n",
       " '__setitem__',\n",
       " '__setstate__',\n",
       " '__sizeof__',\n",
       " '__str__',\n",
       " '__sub__',\n",
       " '__subclasshook__',\n",
       " '__truediv__',\n",
       " '__weakref__',\n",
       " '__xor__',\n",
       " '_accessors',\n",
       " '_accum_func',\n",
       " '_add_numeric_operations',\n",
       " '_agg_by_level',\n",
       " '_agg_examples_doc',\n",
       " '_agg_summary_and_see_also_doc',\n",
       " '_aggregate',\n",
       " '_align_frame',\n",
       " '_align_series',\n",
       " '_arith_method',\n",
       " '_attrs',\n",
       " '_box_col_values',\n",
       " '_builtin_table',\n",
       " '_can_fast_transpose',\n",
       " '_check_inplace_and_allows_duplicate_labels',\n",
       " '_check_inplace_setting',\n",
       " '_check_is_chained_assignment_possible',\n",
       " '_check_label_or_level_ambiguity',\n",
       " '_check_setitem_copy',\n",
       " '_clear_item_cache',\n",
       " '_clip_with_one_bound',\n",
       " '_clip_with_scalar',\n",
       " '_cmp_method',\n",
       " '_combine_frame',\n",
       " '_consolidate',\n",
       " '_consolidate_inplace',\n",
       " '_construct_axes_dict',\n",
       " '_construct_axes_from_arguments',\n",
       " '_construct_result',\n",
       " '_constructor',\n",
       " '_constructor_expanddim',\n",
       " '_constructor_sliced',\n",
       " '_convert',\n",
       " '_count_level',\n",
       " '_cython_table',\n",
       " '_data',\n",
       " '_dir_additions',\n",
       " '_dir_deletions',\n",
       " '_dispatch_frame_op',\n",
       " '_drop_axis',\n",
       " '_drop_labels_or_levels',\n",
       " '_ensure_valid_index',\n",
       " '_find_valid_index',\n",
       " '_flags',\n",
       " '_from_arrays',\n",
       " '_get_agg_axis',\n",
       " '_get_axis',\n",
       " '_get_axis_name',\n",
       " '_get_axis_number',\n",
       " '_get_axis_resolvers',\n",
       " '_get_block_manager_axis',\n",
       " '_get_bool_data',\n",
       " '_get_cacher',\n",
       " '_get_cleaned_column_resolvers',\n",
       " '_get_column_array',\n",
       " '_get_cython_func',\n",
       " '_get_index_resolvers',\n",
       " '_get_item_cache',\n",
       " '_get_label_or_level_values',\n",
       " '_get_numeric_data',\n",
       " '_get_value',\n",
       " '_getitem_bool_array',\n",
       " '_getitem_multilevel',\n",
       " '_gotitem',\n",
       " '_hidden_attrs',\n",
       " '_indexed_same',\n",
       " '_info_axis',\n",
       " '_info_axis_name',\n",
       " '_info_axis_number',\n",
       " '_info_repr',\n",
       " '_init_mgr',\n",
       " '_inplace_method',\n",
       " '_internal_names',\n",
       " '_internal_names_set',\n",
       " '_is_builtin_func',\n",
       " '_is_cached',\n",
       " '_is_copy',\n",
       " '_is_homogeneous_type',\n",
       " '_is_label_or_level_reference',\n",
       " '_is_label_reference',\n",
       " '_is_level_reference',\n",
       " '_is_mixed_type',\n",
       " '_is_view',\n",
       " '_iset_item',\n",
       " '_item_cache',\n",
       " '_iter_column_arrays',\n",
       " '_ix',\n",
       " '_ixs',\n",
       " '_join_compat',\n",
       " '_logical_func',\n",
       " '_logical_method',\n",
       " '_maybe_cache_changed',\n",
       " '_maybe_update_cacher',\n",
       " '_metadata',\n",
       " '_mgr',\n",
       " '_min_count_stat_function',\n",
       " '_needs_reindex_multi',\n",
       " '_obj_with_exclusions',\n",
       " '_protect_consolidate',\n",
       " '_reduce',\n",
       " '_reindex_axes',\n",
       " '_reindex_columns',\n",
       " '_reindex_index',\n",
       " '_reindex_multi',\n",
       " '_reindex_with_indexers',\n",
       " '_replace_columnwise',\n",
       " '_repr_data_resource_',\n",
       " '_repr_fits_horizontal_',\n",
       " '_repr_fits_vertical_',\n",
       " '_repr_html_',\n",
       " '_repr_latex_',\n",
       " '_reset_cache',\n",
       " '_reset_cacher',\n",
       " '_sanitize_column',\n",
       " '_selected_obj',\n",
       " '_selection',\n",
       " '_selection_list',\n",
       " '_selection_name',\n",
       " '_series',\n",
       " '_set_as_cached',\n",
       " '_set_axis',\n",
       " '_set_axis_name',\n",
       " '_set_axis_nocheck',\n",
       " '_set_is_copy',\n",
       " '_set_item',\n",
       " '_set_value',\n",
       " '_setitem_array',\n",
       " '_setitem_frame',\n",
       " '_setitem_slice',\n",
       " '_slice',\n",
       " '_stat_axis',\n",
       " '_stat_axis_name',\n",
       " '_stat_axis_number',\n",
       " '_stat_function',\n",
       " '_stat_function_ddof',\n",
       " '_take_with_is_copy',\n",
       " '_to_dict_of_blocks',\n",
       " '_try_aggregate_string_function',\n",
       " '_typ',\n",
       " '_update_inplace',\n",
       " '_validate_dtype',\n",
       " '_values',\n",
       " '_where',\n",
       " 'abs',\n",
       " 'add',\n",
       " 'add_prefix',\n",
       " 'add_suffix',\n",
       " 'agg',\n",
       " 'aggregate',\n",
       " 'align',\n",
       " 'all',\n",
       " 'any',\n",
       " 'append',\n",
       " 'apply',\n",
       " 'applymap',\n",
       " 'asfreq',\n",
       " 'asof',\n",
       " 'assign',\n",
       " 'astype',\n",
       " 'at',\n",
       " 'at_time',\n",
       " 'attrs',\n",
       " 'axes',\n",
       " 'backfill',\n",
       " 'between_time',\n",
       " 'bfill',\n",
       " 'bool',\n",
       " 'boxplot',\n",
       " 'clip',\n",
       " 'columns',\n",
       " 'combine',\n",
       " 'combine_first',\n",
       " 'compare',\n",
       " 'convert_dtypes',\n",
       " 'copy',\n",
       " 'corr',\n",
       " 'corrwith',\n",
       " 'count',\n",
       " 'cov',\n",
       " 'cummax',\n",
       " 'cummin',\n",
       " 'cumprod',\n",
       " 'cumsum',\n",
       " 'describe',\n",
       " 'diff',\n",
       " 'div',\n",
       " 'divide',\n",
       " 'dot',\n",
       " 'drop',\n",
       " 'drop_duplicates',\n",
       " 'droplevel',\n",
       " 'dropna',\n",
       " 'dtypes',\n",
       " 'duplicated',\n",
       " 'empty',\n",
       " 'eq',\n",
       " 'equals',\n",
       " 'eval',\n",
       " 'ewm',\n",
       " 'expanding',\n",
       " 'explode',\n",
       " 'ffill',\n",
       " 'fillna',\n",
       " 'filter',\n",
       " 'first',\n",
       " 'first_valid_index',\n",
       " 'flags',\n",
       " 'floordiv',\n",
       " 'from_dict',\n",
       " 'from_records',\n",
       " 'ge',\n",
       " 'get',\n",
       " 'groupby',\n",
       " 'gt',\n",
       " 'head',\n",
       " 'hist',\n",
       " 'iat',\n",
       " 'idxmax',\n",
       " 'idxmin',\n",
       " 'iloc',\n",
       " 'index',\n",
       " 'infer_objects',\n",
       " 'info',\n",
       " 'insert',\n",
       " 'interpolate',\n",
       " 'isin',\n",
       " 'isna',\n",
       " 'isnull',\n",
       " 'items',\n",
       " 'iteritems',\n",
       " 'iterrows',\n",
       " 'itertuples',\n",
       " 'join',\n",
       " 'keys',\n",
       " 'kurt',\n",
       " 'kurtosis',\n",
       " 'last',\n",
       " 'last_valid_index',\n",
       " 'le',\n",
       " 'loc',\n",
       " 'lookup',\n",
       " 'lt',\n",
       " 'mad',\n",
       " 'mask',\n",
       " 'max',\n",
       " 'mean',\n",
       " 'median',\n",
       " 'melt',\n",
       " 'memory_usage',\n",
       " 'merge',\n",
       " 'min',\n",
       " 'mod',\n",
       " 'mode',\n",
       " 'mul',\n",
       " 'multiply',\n",
       " 'ndim',\n",
       " 'ne',\n",
       " 'nlargest',\n",
       " 'notna',\n",
       " 'notnull',\n",
       " 'nsmallest',\n",
       " 'nunique',\n",
       " 'pad',\n",
       " 'pct_change',\n",
       " 'pipe',\n",
       " 'pivot',\n",
       " 'pivot_table',\n",
       " 'plot',\n",
       " 'pop',\n",
       " 'pow',\n",
       " 'prod',\n",
       " 'product',\n",
       " 'quantile',\n",
       " 'query',\n",
       " 'radd',\n",
       " 'rank',\n",
       " 'rdiv',\n",
       " 'reindex',\n",
       " 'reindex_like',\n",
       " 'rename',\n",
       " 'rename_axis',\n",
       " 'reorder_levels',\n",
       " 'replace',\n",
       " 'resample',\n",
       " 'reset_index',\n",
       " 'rfloordiv',\n",
       " 'rmod',\n",
       " 'rmul',\n",
       " 'rolling',\n",
       " 'round',\n",
       " 'rpow',\n",
       " 'rsub',\n",
       " 'rtruediv',\n",
       " 'sample',\n",
       " 'select_dtypes',\n",
       " 'sem',\n",
       " 'set_axis',\n",
       " 'set_flags',\n",
       " 'set_index',\n",
       " 'shape',\n",
       " 'shift',\n",
       " 'size',\n",
       " 'skew',\n",
       " 'slice_shift',\n",
       " 'sort_index',\n",
       " 'sort_values',\n",
       " 'squeeze',\n",
       " 'stack',\n",
       " 'std',\n",
       " 'style',\n",
       " 'sub',\n",
       " 'subtract',\n",
       " 'sum',\n",
       " 'swapaxes',\n",
       " 'swaplevel',\n",
       " 'tail',\n",
       " 'take',\n",
       " 'to_clipboard',\n",
       " 'to_csv',\n",
       " 'to_dict',\n",
       " 'to_excel',\n",
       " 'to_feather',\n",
       " 'to_gbq',\n",
       " 'to_hdf',\n",
       " 'to_html',\n",
       " 'to_json',\n",
       " 'to_latex',\n",
       " 'to_markdown',\n",
       " 'to_numpy',\n",
       " 'to_parquet',\n",
       " 'to_period',\n",
       " 'to_pickle',\n",
       " 'to_records',\n",
       " 'to_sql',\n",
       " 'to_stata',\n",
       " 'to_string',\n",
       " 'to_timestamp',\n",
       " 'to_xarray',\n",
       " 'transform',\n",
       " 'transpose',\n",
       " 'truediv',\n",
       " 'truncate',\n",
       " 'tz_convert',\n",
       " 'tz_localize',\n",
       " 'unstack',\n",
       " 'update',\n",
       " 'value_counts',\n",
       " 'values',\n",
       " 'var',\n",
       " 'where',\n",
       " 'xs']"
      ]
     },
     "execution_count": 9,
     "metadata": {},
     "output_type": "execute_result"
    }
   ],
   "source": [
    "dir(interval_1)"
   ]
  },
  {
   "cell_type": "markdown",
   "metadata": {},
   "source": [
    "Let each link will be approximated especial **Phase Type distribution**:"
   ]
  },
  {
   "cell_type": "code",
   "execution_count": 10,
   "metadata": {},
   "outputs": [],
   "source": [
    "s12_link = S2SLink(dataset=interval_1, \n",
    "                   m1=get_non_central_moment(interval_1, k=1),\n",
    "                   m2=get_non_central_moment(interval_1, k=2),\n",
    "                   m3=get_non_central_moment(interval_1, k=3))\n",
    "\n",
    "s23_link = S2SLink(dataset=interval_1, \n",
    "                   m1=get_non_central_moment(interval_2, k=1),\n",
    "                   m2=get_non_central_moment(interval_2, k=2),\n",
    "                   m3=get_non_central_moment(interval_2, k=3))\n",
    "\n",
    "s34_link = S2SLink(dataset=interval_1, \n",
    "                   m1=get_non_central_moment(interval_3, k=1),\n",
    "                   m2=get_non_central_moment(interval_3, k=2),\n",
    "                   m3=get_non_central_moment(interval_3, k=3))\n",
    "e2e_link = [s12_link, s23_link, s34_link]\n",
    "\n",
    "service_dist = get_service_dist(e2e_link) "
   ]
  },
  {
   "cell_type": "code",
   "execution_count": 11,
   "metadata": {},
   "outputs": [
    {
     "data": {
      "text/plain": [
       "[Statistics(avg=0.5688737354321275, var=0.48717656594584985, std=0.697980347822093, count=99999),\n",
       " Statistics(avg=0.0, var=0.0, std=0.0, count=0),\n",
       " Statistics(avg=0.0, var=0.0, std=0.0, count=0)]"
      ]
     },
     "execution_count": 11,
     "metadata": {},
     "output_type": "execute_result"
    }
   ],
   "source": [
    "arr = Exponential(100)\n",
    "ret = simulate_tandem(arr, service_dist, 500, 1_000_000)\n",
    "ret.delivery_delays"
   ]
  },
  {
   "cell_type": "code",
   "execution_count": 12,
   "metadata": {},
   "outputs": [],
   "source": [
    "samples = 100\n",
    "e2et = np.zeros(samples)\n",
    "\n",
    "for i in range(samples):\n",
    "    ret = simulate_tandem(arr, service_dist, 500, 1_000_000)\n",
    "    e2et[i] = ret.delivery_delays[0].avg"
   ]
  },
  {
   "cell_type": "code",
   "execution_count": 13,
   "metadata": {},
   "outputs": [
    {
     "data": {
      "image/png": "[encoded data removed]",
      "text/plain": [
       "<Figure size 720x432 with 1 Axes>"
      ]
     },
     "metadata": {
      "needs_background": "light"
     },
     "output_type": "display_data"
    }
   ],
   "source": [
    "plt.figure(figsize=(10,6))\n",
    "plt.title(f'End to end delay, $E(T)$ = {e2et.mean():.6f} seconds');\n",
    "plt.plot(e2et, '-');\n",
    "plt.grid();\n",
    "plt.xlabel(r'$Samples$');\n",
    "plt.xlim([0, samples]);\n",
    "plt.xticks(np.arange(0, 110, 10));"
   ]
  },
  {
   "cell_type": "markdown",
   "metadata": {},
   "source": [
    "## Detection and excluding outliers in data sets of responce time"
   ]
  },
  {
   "cell_type": "code",
   "execution_count": 14,
   "metadata": {},
   "outputs": [],
   "source": [
    "interval_1_filter = interval_1[interval_1[0] <.5]\n",
    "interval_2_filter = interval_2[interval_2[0] <.5]\n",
    "interval_3_filter = interval_3[interval_3[0] <.5]\n",
    "\n",
    "s12_link_filter = S2SLink(dataset=interval_1, \n",
    "                          m1=get_non_central_moment(interval_1_filter, k=1),\n",
    "                          m2=get_non_central_moment(interval_1_filter, k=2),\n",
    "                          m3=get_non_central_moment(interval_1_filter, k=3))\n",
    "\n",
    "s23_link_filter = S2SLink(dataset=interval_1, \n",
    "                          m1=get_non_central_moment(interval_2_filter, k=1),\n",
    "                          m2=get_non_central_moment(interval_2_filter, k=2),\n",
    "                          m3=get_non_central_moment(interval_2_filter, k=3))\n",
    "\n",
    "s34_link_filter = S2SLink(dataset=interval_1, \n",
    "                          m1=get_non_central_moment(interval_3_filter, k=1),\n",
    "                          m2=get_non_central_moment(interval_3_filter, k=2),\n",
    "                          m3=get_non_central_moment(interval_3_filter, k=3))\n",
    "e2e_link_filter = [s12_link_filter, s23_link_filter, s34_link_filter]\n",
    "\n",
    "service_dist_filter = get_service_dist(e2e_link_filter)\n",
    "\n",
    "samples = 100\n",
    "e2et_filter = np.zeros(samples)\n",
    "\n",
    "for i in range(samples):\n",
    "    ret_filter = simulate_tandem(arr, service_dist_filter, 500, 1_000_000)\n",
    "    e2et_filter[i] = ret_filter.delivery_delays[0].avg"
   ]
  },
  {
   "cell_type": "code",
   "execution_count": 26,
   "metadata": {},
   "outputs": [],
   "source": [
    "delay_sim = [0.00387008,\n",
    "0.00364331,\n",
    "0.00354825,\n",
    "0.00454046,\n",
    "0.00364631,\n",
    "0.0038975,\n",
    "0.00374635,\n",
    "0.00361165,\n",
    "0.00406019,\n",
    "0.00375125]\n",
    "\n",
    "delay100k = [0.00251827,\n",
    "0.00488137,\n",
    "0.00430713,\n",
    "0.00422884,\n",
    "0.00361939,\n",
    "0.00324406,\n",
    "0.00397321,\n",
    "0.00302057,\n",
    "0.00210678,\n",
    "0.00274328,\n",
    "0.00304363,\n",
    "0.00354029,\n",
    "0.00432225,\n",
    "0.00297623]"
   ]
  },
  {
   "cell_type": "code",
   "execution_count": 31,
   "metadata": {},
   "outputs": [
    {
     "data": {
      "image/png": "[encoded data removed]",
      "text/plain": [
       "<Figure size 720x432 with 1 Axes>"
      ]
     },
     "metadata": {
      "needs_background": "light"
     },
     "output_type": "display_data"
    }
   ],
   "source": [
    "plt.figure(figsize=(10,6))\n",
    "plt.title(f'End to end delay, $E(T)$ = {e2et_filter.mean():.6f} seconds');\n",
    "plt.plot(e2et_filter, '-');\n",
    "plt.plot(delay_sim, '-kx')\n",
    "plt.plot(delay100k, '-rx')\n",
    "plt.grid();\n",
    "plt.xlabel(r'$Samples$');\n",
    "plt.ylim([0, .02]);\n",
    "plt.xlim([0, 10]);\n",
    "# plt.xticks(np.arange(0, 110, 10));\n",
    "\n"
   ]
  },
  {
   "cell_type": "markdown",
   "metadata": {},
   "source": [
    "## &#11015;  DRAW &#11015;"
   ]
  },
  {
   "cell_type": "code",
   "execution_count": 17,
   "metadata": {},
   "outputs": [
    {
     "data": {
      "text/plain": [
       "12.028030041280097"
      ]
     },
     "execution_count": 17,
     "metadata": {},
     "output_type": "execute_result"
    }
   ],
   "source": [
    "service_dist[0].cv"
   ]
  },
  {
   "cell_type": "code",
   "execution_count": 53,
   "metadata": {},
   "outputs": [
    {
     "data": {
      "text/plain": [
       "((PH: s=[[-4.17, 4.17], [0, -3.33e+03]], p=[0.0111, 0.989]),\n",
       " array([1.34571208e-14, 3.01417050e-14, 2.67181127e-01]))"
      ]
     },
     "execution_count": 53,
     "metadata": {},
     "output_type": "execute_result"
    }
   ],
   "source": [
    "fit_acph2(moments=[s12_link.m1, s12_link.m2, s12_link.m3], strict=False)"
   ]
  },
  {
   "cell_type": "code",
   "execution_count": 401,
   "metadata": {},
   "outputs": [
    {
     "data": {
      "text/plain": [
       "0.0"
      ]
     },
     "execution_count": 401,
     "metadata": {},
     "output_type": "execute_result"
    }
   ],
   "source": [
    "from scipy.stats import moment\n",
    "moment(interval_1[0], moment=1)"
   ]
  },
  {
   "cell_type": "code",
   "execution_count": 402,
   "metadata": {},
   "outputs": [
    {
     "data": {
      "text/plain": [
       "3.972574084473947e-07"
      ]
     },
     "execution_count": 402,
     "metadata": {},
     "output_type": "execute_result"
    }
   ],
   "source": [
    "moment(interval_1[0], moment=2)"
   ]
  },
  {
   "cell_type": "code",
   "execution_count": 403,
   "metadata": {},
   "outputs": [
    {
     "data": {
      "text/plain": [
       "8.512203897993635e-10"
      ]
     },
     "execution_count": 403,
     "metadata": {},
     "output_type": "execute_result"
    }
   ],
   "source": [
    "moment(interval_1[0], moment=3)"
   ]
  },
  {
   "cell_type": "code",
   "execution_count": 404,
   "metadata": {},
   "outputs": [
    {
     "data": {
      "text/plain": [
       "0.0005901638095384341"
      ]
     },
     "execution_count": 404,
     "metadata": {},
     "output_type": "execute_result"
    }
   ],
   "source": [
    "s12_link.m1"
   ]
  },
  {
   "cell_type": "code",
   "execution_count": 405,
   "metadata": {},
   "outputs": [
    {
     "data": {
      "text/plain": [
       "7.455507305363119e-07"
      ]
     },
     "execution_count": 405,
     "metadata": {},
     "output_type": "execute_result"
    }
   ],
   "source": [
    "s12_link.m2"
   ]
  },
  {
   "cell_type": "code",
   "execution_count": 406,
   "metadata": {},
   "outputs": [
    {
     "data": {
      "text/plain": [
       "1.760111340210196e-09"
      ]
     },
     "execution_count": 406,
     "metadata": {},
     "output_type": "execute_result"
    }
   ],
   "source": [
    "s12_link.m3"
   ]
  },
  {
   "cell_type": "code",
   "execution_count": 407,
   "metadata": {},
   "outputs": [
    {
     "data": {
      "text/plain": [
       "3.3996484530335733"
      ]
     },
     "execution_count": 407,
     "metadata": {},
     "output_type": "execute_result"
    }
   ],
   "source": [
    "get_skewness(s12_link.m1, s12_link.m2, s12_link.m3)"
   ]
  },
  {
   "cell_type": "code",
   "execution_count": 19,
   "metadata": {},
   "outputs": [
    {
     "data": {
      "text/plain": [
       "(array([1.70047297e+01, 3.47932010e-04, 0.00000000e+00, 0.00000000e+00,\n",
       "        0.00000000e+00, 0.00000000e+00, 0.00000000e+00, 0.00000000e+00,\n",
       "        4.97045729e-04, 6.68195142e-02]),\n",
       " array([1.56072000e-04, 5.87301648e-02, 1.17304258e-01, 1.75878350e-01,\n",
       "        2.34452443e-01, 2.93026536e-01, 3.51600629e-01, 4.10174722e-01,\n",
       "        4.68748814e-01, 5.27322907e-01, 5.85897000e-01]),\n",
       " <BarContainer object of 10 artists>)"
      ]
     },
     "execution_count": 19,
     "metadata": {},
     "output_type": "execute_result"
    },
    {
     "data": {
      "image/png": "[encoded data removed]",
      "text/plain": [
       "<Figure size 432x288 with 1 Axes>"
      ]
     },
     "metadata": {
      "needs_background": "light"
     },
     "output_type": "display_data"
    }
   ],
   "source": [
    "plt.hist(interval_1, density=True)"
   ]
  },
  {
   "cell_type": "code",
   "execution_count": 20,
   "metadata": {},
   "outputs": [
    {
     "data": {
      "text/plain": [
       "(array([1.74371717e+01, 3.29505229e-04, 1.18283928e-04, 9.29373724e-05,\n",
       "        3.37954081e-05, 5.06931122e-05, 1.26732781e-04, 6.75908163e-05,\n",
       "        1.01386224e-04, 7.60396683e-05]),\n",
       " array([9.82880000e-05, 5.74437592e-02, 1.14789230e-01, 1.72134702e-01,\n",
       "        2.29480173e-01, 2.86825644e-01, 3.44171115e-01, 4.01516586e-01,\n",
       "        4.58862058e-01, 5.16207529e-01, 5.73553000e-01]),\n",
       " <BarContainer object of 10 artists>)"
      ]
     },
     "execution_count": 20,
     "metadata": {},
     "output_type": "execute_result"
    },
    {
     "data": {
      "image/png": "[encoded data removed]",
      "text/plain": [
       "<Figure size 432x288 with 1 Axes>"
      ]
     },
     "metadata": {
      "needs_background": "light"
     },
     "output_type": "display_data"
    }
   ],
   "source": [
    "plt.hist(interval_2, density=True)"
   ]
  },
  {
   "cell_type": "code",
   "execution_count": 21,
   "metadata": {},
   "outputs": [
    {
     "data": {
      "text/plain": [
       "(array([1.52761567e+01, 1.66445616e-03, 2.01954014e-03, 7.10167961e-04,\n",
       "        6.95372795e-04, 1.58308275e-03, 1.35375768e-03, 7.24963127e-04,\n",
       "        9.46890614e-04, 7.39758292e-06]),\n",
       " array([9.87280000e-05, 6.55186552e-02, 1.30938582e-01, 1.96358510e-01,\n",
       "        2.61778437e-01, 3.27198364e-01, 3.92618291e-01, 4.58038218e-01,\n",
       "        5.23458146e-01, 5.88878073e-01, 6.54298000e-01]),\n",
       " <BarContainer object of 10 artists>)"
      ]
     },
     "execution_count": 21,
     "metadata": {},
     "output_type": "execute_result"
    },
    {
     "data": {
      "image/png": "[encoded data removed]",
      "text/plain": [
       "<Figure size 432x288 with 1 Axes>"
      ]
     },
     "metadata": {
      "needs_background": "light"
     },
     "output_type": "display_data"
    }
   ],
   "source": [
    "plt.hist(interval_3, density=True)"
   ]
  },
  {
   "cell_type": "code",
   "execution_count": 29,
   "metadata": {},
   "outputs": [
    {
     "data": {
      "text/plain": [
       "0.6628420361390814"
      ]
     },
     "execution_count": 29,
     "metadata": {},
     "output_type": "execute_result"
    }
   ],
   "source": [
    "service_dist[2].cv"
   ]
  },
  {
   "cell_type": "code",
   "execution_count": 32,
   "metadata": {},
   "outputs": [
    {
     "data": {
      "text/plain": [
       "0    0.002583\n",
       "Name: 0.95, dtype: float64"
      ]
     },
     "execution_count": 32,
     "metadata": {},
     "output_type": "execute_result"
    }
   ],
   "source": [
    "interval_1.quantile(q=0.95, axis=0)\n"
   ]
  },
  {
   "cell_type": "code",
   "execution_count": 33,
   "metadata": {},
   "outputs": [
    {
     "data": {
      "text/html": [
       "<div>\n",
       "<style scoped>\n",
       "    .dataframe tbody tr th:only-of-type {\n",
       "        vertical-align: middle;\n",
       "    }\n",
       "\n",
       "    .dataframe tbody tr th {\n",
       "        vertical-align: top;\n",
       "    }\n",
       "\n",
       "    .dataframe thead th {\n",
       "        text-align: right;\n",
       "    }\n",
       "</style>\n",
       "<table border=\"1\" class=\"dataframe\">\n",
       "  <thead>\n",
       "    <tr style=\"text-align: right;\">\n",
       "      <th></th>\n",
       "      <th>a</th>\n",
       "      <th>b</th>\n",
       "    </tr>\n",
       "  </thead>\n",
       "  <tbody>\n",
       "    <tr>\n",
       "      <th>0</th>\n",
       "      <td>1</td>\n",
       "      <td>1</td>\n",
       "    </tr>\n",
       "    <tr>\n",
       "      <th>1</th>\n",
       "      <td>2</td>\n",
       "      <td>10</td>\n",
       "    </tr>\n",
       "    <tr>\n",
       "      <th>2</th>\n",
       "      <td>3</td>\n",
       "      <td>100</td>\n",
       "    </tr>\n",
       "    <tr>\n",
       "      <th>3</th>\n",
       "      <td>4</td>\n",
       "      <td>100</td>\n",
       "    </tr>\n",
       "  </tbody>\n",
       "</table>\n",
       "</div>"
      ],
      "text/plain": [
       "   a    b\n",
       "0  1    1\n",
       "1  2   10\n",
       "2  3  100\n",
       "3  4  100"
      ]
     },
     "execution_count": 33,
     "metadata": {},
     "output_type": "execute_result"
    }
   ],
   "source": [
    "df = pd.DataFrame(np.array([[1, 1], [2, 10], [3, 100], [4, 100]]),\n",
    "                  columns=['a', 'b'])\n",
    "df"
   ]
  },
  {
   "cell_type": "code",
   "execution_count": 39,
   "metadata": {},
   "outputs": [
    {
     "data": {
      "text/html": [
       "<div>\n",
       "<style scoped>\n",
       "    .dataframe tbody tr th:only-of-type {\n",
       "        vertical-align: middle;\n",
       "    }\n",
       "\n",
       "    .dataframe tbody tr th {\n",
       "        vertical-align: top;\n",
       "    }\n",
       "\n",
       "    .dataframe thead th {\n",
       "        text-align: right;\n",
       "    }\n",
       "</style>\n",
       "<table border=\"1\" class=\"dataframe\">\n",
       "  <thead>\n",
       "    <tr style=\"text-align: right;\">\n",
       "      <th></th>\n",
       "      <th>0</th>\n",
       "    </tr>\n",
       "  </thead>\n",
       "  <tbody>\n",
       "    <tr>\n",
       "      <th>11209</th>\n",
       "      <td>0.574999</td>\n",
       "    </tr>\n",
       "    <tr>\n",
       "      <th>11210</th>\n",
       "      <td>0.574999</td>\n",
       "    </tr>\n",
       "    <tr>\n",
       "      <th>11211</th>\n",
       "      <td>0.574999</td>\n",
       "    </tr>\n",
       "    <tr>\n",
       "      <th>11212</th>\n",
       "      <td>0.574999</td>\n",
       "    </tr>\n",
       "    <tr>\n",
       "      <th>11213</th>\n",
       "      <td>0.574999</td>\n",
       "    </tr>\n",
       "    <tr>\n",
       "      <th>...</th>\n",
       "      <td>...</td>\n",
       "    </tr>\n",
       "    <tr>\n",
       "      <th>1017582</th>\n",
       "      <td>0.562499</td>\n",
       "    </tr>\n",
       "    <tr>\n",
       "      <th>1017583</th>\n",
       "      <td>0.562499</td>\n",
       "    </tr>\n",
       "    <tr>\n",
       "      <th>1017584</th>\n",
       "      <td>0.562499</td>\n",
       "    </tr>\n",
       "    <tr>\n",
       "      <th>1017585</th>\n",
       "      <td>0.562499</td>\n",
       "    </tr>\n",
       "    <tr>\n",
       "      <th>1017586</th>\n",
       "      <td>0.562499</td>\n",
       "    </tr>\n",
       "  </tbody>\n",
       "</table>\n",
       "<p>4063 rows × 1 columns</p>\n",
       "</div>"
      ],
      "text/plain": [
       "                0\n",
       "11209    0.574999\n",
       "11210    0.574999\n",
       "11211    0.574999\n",
       "11212    0.574999\n",
       "11213    0.574999\n",
       "...           ...\n",
       "1017582  0.562499\n",
       "1017583  0.562499\n",
       "1017584  0.562499\n",
       "1017585  0.562499\n",
       "1017586  0.562499\n",
       "\n",
       "[4063 rows x 1 columns]"
      ]
     },
     "execution_count": 39,
     "metadata": {},
     "output_type": "execute_result"
    }
   ],
   "source": [
    "interval_1[interval_1[0] >.1]"
   ]
  },
  {
   "cell_type": "code",
   "execution_count": 40,
   "metadata": {},
   "outputs": [
    {
     "data": {
      "text/html": [
       "<div>\n",
       "<style scoped>\n",
       "    .dataframe tbody tr th:only-of-type {\n",
       "        vertical-align: middle;\n",
       "    }\n",
       "\n",
       "    .dataframe tbody tr th {\n",
       "        vertical-align: top;\n",
       "    }\n",
       "\n",
       "    .dataframe thead th {\n",
       "        text-align: right;\n",
       "    }\n",
       "</style>\n",
       "<table border=\"1\" class=\"dataframe\">\n",
       "  <thead>\n",
       "    <tr style=\"text-align: right;\">\n",
       "      <th></th>\n",
       "      <th>0</th>\n",
       "    </tr>\n",
       "  </thead>\n",
       "  <tbody>\n",
       "    <tr>\n",
       "      <th>22490</th>\n",
       "      <td>0.251458</td>\n",
       "    </tr>\n",
       "    <tr>\n",
       "      <th>39390</th>\n",
       "      <td>0.437954</td>\n",
       "    </tr>\n",
       "    <tr>\n",
       "      <th>71580</th>\n",
       "      <td>0.378841</td>\n",
       "    </tr>\n",
       "    <tr>\n",
       "      <th>120107</th>\n",
       "      <td>0.148333</td>\n",
       "    </tr>\n",
       "    <tr>\n",
       "      <th>132031</th>\n",
       "      <td>0.126102</td>\n",
       "    </tr>\n",
       "    <tr>\n",
       "      <th>...</th>\n",
       "      <td>...</td>\n",
       "    </tr>\n",
       "    <tr>\n",
       "      <th>1920992</th>\n",
       "      <td>0.423508</td>\n",
       "    </tr>\n",
       "    <tr>\n",
       "      <th>1966347</th>\n",
       "      <td>0.412127</td>\n",
       "    </tr>\n",
       "    <tr>\n",
       "      <th>1984603</th>\n",
       "      <td>0.372251</td>\n",
       "    </tr>\n",
       "    <tr>\n",
       "      <th>1985564</th>\n",
       "      <td>0.459197</td>\n",
       "    </tr>\n",
       "    <tr>\n",
       "      <th>2035999</th>\n",
       "      <td>0.171883</td>\n",
       "    </tr>\n",
       "  </tbody>\n",
       "</table>\n",
       "<p>85 rows × 1 columns</p>\n",
       "</div>"
      ],
      "text/plain": [
       "                0\n",
       "22490    0.251458\n",
       "39390    0.437954\n",
       "71580    0.378841\n",
       "120107   0.148333\n",
       "132031   0.126102\n",
       "...           ...\n",
       "1920992  0.423508\n",
       "1966347  0.412127\n",
       "1984603  0.372251\n",
       "1985564  0.459197\n",
       "2035999  0.171883\n",
       "\n",
       "[85 rows x 1 columns]"
      ]
     },
     "execution_count": 40,
     "metadata": {},
     "output_type": "execute_result"
    }
   ],
   "source": [
    "interval_2[interval_2[0] >.1]"
   ]
  },
  {
   "cell_type": "code",
   "execution_count": 41,
   "metadata": {},
   "outputs": [
    {
     "data": {
      "text/html": [
       "<div>\n",
       "<style scoped>\n",
       "    .dataframe tbody tr th:only-of-type {\n",
       "        vertical-align: middle;\n",
       "    }\n",
       "\n",
       "    .dataframe tbody tr th {\n",
       "        vertical-align: top;\n",
       "    }\n",
       "\n",
       "    .dataframe thead th {\n",
       "        text-align: right;\n",
       "    }\n",
       "</style>\n",
       "<table border=\"1\" class=\"dataframe\">\n",
       "  <thead>\n",
       "    <tr style=\"text-align: right;\">\n",
       "      <th></th>\n",
       "      <th>0</th>\n",
       "    </tr>\n",
       "  </thead>\n",
       "  <tbody>\n",
       "    <tr>\n",
       "      <th>22494</th>\n",
       "      <td>0.199946</td>\n",
       "    </tr>\n",
       "    <tr>\n",
       "      <th>39301</th>\n",
       "      <td>0.569384</td>\n",
       "    </tr>\n",
       "    <tr>\n",
       "      <th>39302</th>\n",
       "      <td>0.569384</td>\n",
       "    </tr>\n",
       "    <tr>\n",
       "      <th>39303</th>\n",
       "      <td>0.569384</td>\n",
       "    </tr>\n",
       "    <tr>\n",
       "      <th>39304</th>\n",
       "      <td>0.569384</td>\n",
       "    </tr>\n",
       "    <tr>\n",
       "      <th>...</th>\n",
       "      <td>...</td>\n",
       "    </tr>\n",
       "    <tr>\n",
       "      <th>1987863</th>\n",
       "      <td>0.485857</td>\n",
       "    </tr>\n",
       "    <tr>\n",
       "      <th>1987864</th>\n",
       "      <td>0.485857</td>\n",
       "    </tr>\n",
       "    <tr>\n",
       "      <th>1987865</th>\n",
       "      <td>0.485857</td>\n",
       "    </tr>\n",
       "    <tr>\n",
       "      <th>1987866</th>\n",
       "      <td>0.485857</td>\n",
       "    </tr>\n",
       "    <tr>\n",
       "      <th>2038355</th>\n",
       "      <td>0.170203</td>\n",
       "    </tr>\n",
       "  </tbody>\n",
       "</table>\n",
       "<p>1241 rows × 1 columns</p>\n",
       "</div>"
      ],
      "text/plain": [
       "                0\n",
       "22494    0.199946\n",
       "39301    0.569384\n",
       "39302    0.569384\n",
       "39303    0.569384\n",
       "39304    0.569384\n",
       "...           ...\n",
       "1987863  0.485857\n",
       "1987864  0.485857\n",
       "1987865  0.485857\n",
       "1987866  0.485857\n",
       "2038355  0.170203\n",
       "\n",
       "[1241 rows x 1 columns]"
      ]
     },
     "execution_count": 41,
     "metadata": {},
     "output_type": "execute_result"
    }
   ],
   "source": [
    "interval_3[interval_3[0] >.1]"
   ]
  }
 ],
 "metadata": {
  "kernelspec": {
   "display_name": "Python 3",
   "language": "python",
   "name": "python3"
  },
  "language_info": {
   "codemirror_mode": {
    "name": "ipython",
    "version": 3
   },
   "file_extension": ".py",
   "mimetype": "text/x-python",
   "name": "python",
   "nbconvert_exporter": "python",
   "pygments_lexer": "ipython3",
   "version": "3.8.5"
  }
 },
 "nbformat": 4,
 "nbformat_minor": 2
}
