{
 "cells": [
  {
   "cell_type": "markdown",
   "metadata": {},
   "source": [
    "# The calibration method of $M/PH/N/1 \\longrightarrow  \\ldots \\longrightarrow ./PH/N/1$ queueing model with NS-3 simulation"
   ]
  },
  {
   "cell_type": "markdown",
   "metadata": {},
   "source": [
    "This experiment consists of a calibration method of queueing model. We consider a tandem model of a wireless network with  𝑀/𝑃𝐻/𝑁/1⟶…⟶./𝑃𝐻/𝑁/1  nodes. The exponential distribution is used to model an arrival distribution. A service time distribution is obtained by PH fitting methods. Approximation of a service time distribution is implemented with Network Simulation 3 NS-3. We researched IEEE 802.11n wireless broadband network."
   ]
  },
  {
   "cell_type": "markdown",
   "metadata": {},
   "source": [
    "Queueing model is built with the simulation model of Open Source project in Python `https://github.com/ipu69/pyqumo`."
   ]
  },
  {
   "cell_type": "code",
   "execution_count": 25,
   "metadata": {},
   "outputs": [],
   "source": [
    "import json\n",
    "from dataclasses import dataclass\n",
    "\n",
    "import matplotlib\n",
    "import matplotlib.pyplot as plt\n",
    "from matplotlib import cm\n",
    "from matplotlib import patches\n",
    "import numpy as np\n",
    "import pandas as pd\n",
    "import scipy\n",
    "import seaborn as sns\n",
    "from tabulate import tabulate\n",
    "\n",
    "from pyqumo.fitting.johnson89 import fit_mern2\n",
    "from pyqumo.fitting.acph2 import fit_acph2\n",
    "from pyqumo.stats import get_cv, get_skewness, get_noncentral_m2, get_noncentral_m3\n",
    "from pyqumo.random import HyperErlang, Exponential\n",
    "from pyqumo.cqumo.sim import simulate_tandem"
   ]
  },
  {
   "cell_type": "markdown",
   "metadata": {},
   "source": [
    "## Loading of datasets from NS-3 model.\n",
    "\n",
    "In our study, we consider a wireless broadband network with 3 base stations and a gateway. All packets are forwarded from the first station through the station system $S_1 \\rightarrow S_2 \\rightarrow S_3$ to the gateway $S_g$. \n",
    "\n",
    "The base station has the following technical parameters:\n",
    "* protocol 802.11n;\n",
    "* MAC layer's buffer size is equal to 500 (default value).\n",
    "* (and also some characteristics).\n",
    "\n",
    "NS-3 generated 1 000 000 packets. We collected three data samples. They are response times between sta $S_1$ and sta $S_2$, response times between sta $S_2$ and sta $S_3$, and response times between sta $S_4$ and gateway $S_g$. Also, we piled up a network end-to-delay that is equal to an average time spent by packets on the network.\n",
    "\n",
    "`JSON-files` include response times between stations in a wireless network. \n",
    "\n",
    "The sample size is equal to the count of generated packets. In our case, there are 1 000 000 samples in each case."
   ]
  },
  {
   "cell_type": "code",
   "execution_count": 32,
   "metadata": {},
   "outputs": [],
   "source": [
    "''' LOADING NS-3 DATA ''' \n",
    "interval_1 = pd.read_json(r'data/ns3_dataset/intervals_1.json')\n",
    "interval_2 = pd.read_json(r'data/ns3_dataset/intervals_2.json')\n",
    "interval_3 = pd.read_json(r'data/ns3_dataset/intervals_3.json')\n",
    "# interval_1 = pd.read_json(r'data/ns3_dataset/intervals_g_1.json')\n",
    "# interval_2 = pd.read_json(r'data/ns3_dataset/intervals_g_2.json')\n",
    "# interval_3 = pd.read_json(r'data/ns3_dataset/intervals_g_3.json')"
   ]
  },
  {
   "cell_type": "code",
   "execution_count": 33,
   "metadata": {},
   "outputs": [
    {
     "data": {
      "text/html": [
       "<div>\n",
       "<style scoped>\n",
       "    .dataframe tbody tr th:only-of-type {\n",
       "        vertical-align: middle;\n",
       "    }\n",
       "\n",
       "    .dataframe tbody tr th {\n",
       "        vertical-align: top;\n",
       "    }\n",
       "\n",
       "    .dataframe thead th {\n",
       "        text-align: right;\n",
       "    }\n",
       "</style>\n",
       "<table border=\"1\" class=\"dataframe\">\n",
       "  <thead>\n",
       "    <tr style=\"text-align: right;\">\n",
       "      <th></th>\n",
       "      <th>0</th>\n",
       "    </tr>\n",
       "  </thead>\n",
       "  <tbody>\n",
       "    <tr>\n",
       "      <th>0</th>\n",
       "      <td>0.001764</td>\n",
       "    </tr>\n",
       "    <tr>\n",
       "      <th>1</th>\n",
       "      <td>0.001804</td>\n",
       "    </tr>\n",
       "    <tr>\n",
       "      <th>2</th>\n",
       "      <td>0.001804</td>\n",
       "    </tr>\n",
       "    <tr>\n",
       "      <th>3</th>\n",
       "      <td>0.001804</td>\n",
       "    </tr>\n",
       "    <tr>\n",
       "      <th>4</th>\n",
       "      <td>0.001804</td>\n",
       "    </tr>\n",
       "    <tr>\n",
       "      <th>...</th>\n",
       "      <td>...</td>\n",
       "    </tr>\n",
       "    <tr>\n",
       "      <th>1030427</th>\n",
       "      <td>0.000280</td>\n",
       "    </tr>\n",
       "    <tr>\n",
       "      <th>1030428</th>\n",
       "      <td>0.000279</td>\n",
       "    </tr>\n",
       "    <tr>\n",
       "      <th>1030429</th>\n",
       "      <td>0.001959</td>\n",
       "    </tr>\n",
       "    <tr>\n",
       "      <th>1030430</th>\n",
       "      <td>0.000285</td>\n",
       "    </tr>\n",
       "    <tr>\n",
       "      <th>1030431</th>\n",
       "      <td>0.000284</td>\n",
       "    </tr>\n",
       "  </tbody>\n",
       "</table>\n",
       "<p>1030432 rows × 1 columns</p>\n",
       "</div>"
      ],
      "text/plain": [
       "                0\n",
       "0        0.001764\n",
       "1        0.001804\n",
       "2        0.001804\n",
       "3        0.001804\n",
       "4        0.001804\n",
       "...           ...\n",
       "1030427  0.000280\n",
       "1030428  0.000279\n",
       "1030429  0.001959\n",
       "1030430  0.000285\n",
       "1030431  0.000284\n",
       "\n",
       "[1030432 rows x 1 columns]"
      ]
     },
     "execution_count": 33,
     "metadata": {},
     "output_type": "execute_result"
    }
   ],
   "source": [
    "interval_1"
   ]
  },
  {
   "cell_type": "code",
   "execution_count": 34,
   "metadata": {},
   "outputs": [
    {
     "data": {
      "text/html": [
       "<div>\n",
       "<style scoped>\n",
       "    .dataframe tbody tr th:only-of-type {\n",
       "        vertical-align: middle;\n",
       "    }\n",
       "\n",
       "    .dataframe tbody tr th {\n",
       "        vertical-align: top;\n",
       "    }\n",
       "\n",
       "    .dataframe thead th {\n",
       "        text-align: right;\n",
       "    }\n",
       "</style>\n",
       "<table border=\"1\" class=\"dataframe\">\n",
       "  <thead>\n",
       "    <tr style=\"text-align: right;\">\n",
       "      <th></th>\n",
       "      <th>0</th>\n",
       "    </tr>\n",
       "  </thead>\n",
       "  <tbody>\n",
       "    <tr>\n",
       "      <th>0</th>\n",
       "      <td>1.764140</td>\n",
       "    </tr>\n",
       "    <tr>\n",
       "      <th>1</th>\n",
       "      <td>1.804070</td>\n",
       "    </tr>\n",
       "    <tr>\n",
       "      <th>2</th>\n",
       "      <td>1.804070</td>\n",
       "    </tr>\n",
       "    <tr>\n",
       "      <th>3</th>\n",
       "      <td>1.804070</td>\n",
       "    </tr>\n",
       "    <tr>\n",
       "      <th>4</th>\n",
       "      <td>1.804070</td>\n",
       "    </tr>\n",
       "    <tr>\n",
       "      <th>...</th>\n",
       "      <td>...</td>\n",
       "    </tr>\n",
       "    <tr>\n",
       "      <th>1030427</th>\n",
       "      <td>0.280320</td>\n",
       "    </tr>\n",
       "    <tr>\n",
       "      <th>1030428</th>\n",
       "      <td>0.279147</td>\n",
       "    </tr>\n",
       "    <tr>\n",
       "      <th>1030429</th>\n",
       "      <td>1.958650</td>\n",
       "    </tr>\n",
       "    <tr>\n",
       "      <th>1030430</th>\n",
       "      <td>0.284766</td>\n",
       "    </tr>\n",
       "    <tr>\n",
       "      <th>1030431</th>\n",
       "      <td>0.284294</td>\n",
       "    </tr>\n",
       "  </tbody>\n",
       "</table>\n",
       "<p>1030432 rows × 1 columns</p>\n",
       "</div>"
      ],
      "text/plain": [
       "                0\n",
       "0        1.764140\n",
       "1        1.804070\n",
       "2        1.804070\n",
       "3        1.804070\n",
       "4        1.804070\n",
       "...           ...\n",
       "1030427  0.280320\n",
       "1030428  0.279147\n",
       "1030429  1.958650\n",
       "1030430  0.284766\n",
       "1030431  0.284294\n",
       "\n",
       "[1030432 rows x 1 columns]"
      ]
     },
     "execution_count": 34,
     "metadata": {},
     "output_type": "execute_result"
    }
   ],
   "source": [
    "interval_1 = pd.read_json(r'data/ns3_dataset/intervals_1.json')\n",
    "interval_2 = pd.read_json(r'data/ns3_dataset/intervals_2.json')\n",
    "interval_3 = pd.read_json(r'data/ns3_dataset/intervals_3.json')\n",
    "interval_1 = interval_1 * 1000\n",
    "interval_2 = interval_2 * 1000\n",
    "interval_3 = interval_3 * 1000\n",
    "interval_1"
   ]
  },
  {
   "cell_type": "markdown",
   "metadata": {},
   "source": [
    "So, we have response time data sets. We need to fit a service time distribution. First of all, it is necessary to get the first three noncentral moments.\n",
    "\n",
    "**So, k-th non central moment is calculated as**\n",
    "\n",
    "\\begin{equation}\n",
    "\\mu^{\\left( k\\right) }\\equiv\\mathbb{E}\\{X^{k}\\},\\quad k=1,2,\\ldots \\,\\text{,}\n",
    "\\end{equation}"
   ]
  },
  {
   "cell_type": "code",
   "execution_count": 35,
   "metadata": {},
   "outputs": [],
   "source": [
    "def get_non_central_moment(sample: pd.DataFrame, k:int=1) -> np.float64:\n",
    "    \"Calculating of k-th non central moment\"\n",
    "    return np.mean(sample[0] ** k)"
   ]
  },
  {
   "cell_type": "code",
   "execution_count": 36,
   "metadata": {},
   "outputs": [],
   "source": [
    "''' \n",
    "Dataclass of commincation link. \n",
    "It is consists NS-3 data and 1st, 2nd, and 3rd moments\n",
    "'''\n",
    "@dataclass\n",
    "class S2SLink:\n",
    "    dataset: pd.DataFrame\n",
    "    m1: float\n",
    "    m2: float\n",
    "    m3: float"
   ]
  },
  {
   "cell_type": "markdown",
   "metadata": {},
   "source": [
    "We need to prepare service time distribution. It can be solve with PH fitting methods. In our exploration we used fitting algorithms designed by Johnson and `Mary A. Johnson & Michael R. Taaffe (1989) Matching moments to phase distributions: Mixtures of erlang distributions of common order, Communications in Statistics. Stochastic Models, 5:4, 711-743, DOI: 10.1080/15326348908807131`"
   ]
  },
  {
   "cell_type": "code",
   "execution_count": 37,
   "metadata": {},
   "outputs": [],
   "source": [
    "def get_service_dist(e2e_link: dataclass) -> list:\n",
    "    srv_dist = [None]*len(e2e_link)\n",
    "    for i in range(len(e2e_link)):\n",
    "        srv, _ = fit_mern2(moments=[e2e_link[i].m1, \n",
    "                                  e2e_link[i].m2, \n",
    "                                  e2e_link[i].m3])\n",
    "#         srv, _ = fit_acph2(moments=[e2e_link[i].m1, \n",
    "#                                     e2e_link[i].m2, \n",
    "#                                     e2e_link[i].m3], strict=False)\n",
    "        srv_dist[i] = srv\n",
    "    \n",
    "    return srv_dist"
   ]
  },
  {
   "cell_type": "code",
   "execution_count": 38,
   "metadata": {},
   "outputs": [
    {
     "data": {
      "text/plain": [
       "[<matplotlib.lines.Line2D at 0x7f08b9b57490>]"
      ]
     },
     "execution_count": 38,
     "metadata": {},
     "output_type": "execute_result"
    },
    {
     "data": {
      "image/png": "[encoded data removed]",
      "text/plain": [
       "<Figure size 432x288 with 1 Axes>"
      ]
     },
     "metadata": {
      "needs_background": "light"
     },
     "output_type": "display_data"
    }
   ],
   "source": [
    "# plt.hist(interval_1, density=True, bins=20)\n",
    "# plt.ylim([0, .6]);\n",
    "plt.plot(interval_1, 'x')"
   ]
  },
  {
   "cell_type": "code",
   "execution_count": 39,
   "metadata": {},
   "outputs": [
    {
     "data": {
      "text/html": [
       "<div>\n",
       "<style scoped>\n",
       "    .dataframe tbody tr th:only-of-type {\n",
       "        vertical-align: middle;\n",
       "    }\n",
       "\n",
       "    .dataframe tbody tr th {\n",
       "        vertical-align: top;\n",
       "    }\n",
       "\n",
       "    .dataframe thead th {\n",
       "        text-align: right;\n",
       "    }\n",
       "</style>\n",
       "<table border=\"1\" class=\"dataframe\">\n",
       "  <thead>\n",
       "    <tr style=\"text-align: right;\">\n",
       "      <th></th>\n",
       "      <th>0</th>\n",
       "    </tr>\n",
       "  </thead>\n",
       "  <tbody>\n",
       "    <tr>\n",
       "      <th>0</th>\n",
       "      <td>1.764140</td>\n",
       "    </tr>\n",
       "    <tr>\n",
       "      <th>1</th>\n",
       "      <td>1.804070</td>\n",
       "    </tr>\n",
       "    <tr>\n",
       "      <th>2</th>\n",
       "      <td>1.804070</td>\n",
       "    </tr>\n",
       "    <tr>\n",
       "      <th>3</th>\n",
       "      <td>1.804070</td>\n",
       "    </tr>\n",
       "    <tr>\n",
       "      <th>4</th>\n",
       "      <td>1.804070</td>\n",
       "    </tr>\n",
       "    <tr>\n",
       "      <th>...</th>\n",
       "      <td>...</td>\n",
       "    </tr>\n",
       "    <tr>\n",
       "      <th>1030427</th>\n",
       "      <td>0.280320</td>\n",
       "    </tr>\n",
       "    <tr>\n",
       "      <th>1030428</th>\n",
       "      <td>0.279147</td>\n",
       "    </tr>\n",
       "    <tr>\n",
       "      <th>1030429</th>\n",
       "      <td>1.958650</td>\n",
       "    </tr>\n",
       "    <tr>\n",
       "      <th>1030430</th>\n",
       "      <td>0.284766</td>\n",
       "    </tr>\n",
       "    <tr>\n",
       "      <th>1030431</th>\n",
       "      <td>0.284294</td>\n",
       "    </tr>\n",
       "  </tbody>\n",
       "</table>\n",
       "<p>1030432 rows × 1 columns</p>\n",
       "</div>"
      ],
      "text/plain": [
       "                0\n",
       "0        1.764140\n",
       "1        1.804070\n",
       "2        1.804070\n",
       "3        1.804070\n",
       "4        1.804070\n",
       "...           ...\n",
       "1030427  0.280320\n",
       "1030428  0.279147\n",
       "1030429  1.958650\n",
       "1030430  0.284766\n",
       "1030431  0.284294\n",
       "\n",
       "[1030432 rows x 1 columns]"
      ]
     },
     "execution_count": 39,
     "metadata": {},
     "output_type": "execute_result"
    }
   ],
   "source": [
    "interval_1"
   ]
  },
  {
   "cell_type": "markdown",
   "metadata": {},
   "source": [
    "Let each link will be approximated especial **Phase Type distribution**:"
   ]
  },
  {
   "cell_type": "code",
   "execution_count": 40,
   "metadata": {},
   "outputs": [],
   "source": [
    "s12_link = S2SLink(dataset=interval_1, \n",
    "                   m1=get_non_central_moment(interval_1, k=1),\n",
    "                   m2=get_non_central_moment(interval_1, k=2),\n",
    "                   m3=get_non_central_moment(interval_1, k=3))\n",
    "\n",
    "s23_link = S2SLink(dataset=interval_1, \n",
    "                   m1=get_non_central_moment(interval_2, k=1),\n",
    "                   m2=get_non_central_moment(interval_2, k=2),\n",
    "                   m3=get_non_central_moment(interval_2, k=3))\n",
    "\n",
    "s34_link = S2SLink(dataset=interval_1, \n",
    "                   m1=get_non_central_moment(interval_3, k=1),\n",
    "                   m2=get_non_central_moment(interval_3, k=2),\n",
    "                   m3=get_non_central_moment(interval_3, k=3))\n",
    "e2e_link = [s12_link, s23_link, s34_link]\n",
    "\n",
    "service_dist = get_service_dist(e2e_link) "
   ]
  },
  {
   "cell_type": "code",
   "execution_count": 41,
   "metadata": {},
   "outputs": [
    {
     "data": {
      "text/plain": [
       "[2.9648719463322175, 0.495260959584664, 0.7198431195809779]"
      ]
     },
     "execution_count": 41,
     "metadata": {},
     "output_type": "execute_result"
    }
   ],
   "source": [
    "first_moments = [s12_link.m1,\n",
    "                 s23_link.m1,\n",
    "                 s34_link.m1]\n",
    "first_moments"
   ]
  },
  {
   "cell_type": "code",
   "execution_count": 42,
   "metadata": {},
   "outputs": [
    {
     "data": {
      "text/plain": [
       "[2.9648719463322175, 1280.537957719209, 727426.344382017]"
      ]
     },
     "execution_count": 42,
     "metadata": {},
     "output_type": "execute_result"
    }
   ],
   "source": [
    "[s12_link.m1, s12_link.m2, s12_link.m3]"
   ]
  },
  {
   "cell_type": "code",
   "execution_count": 43,
   "metadata": {},
   "outputs": [
    {
     "data": {
      "text/plain": [
       "8.790465658147789e-06"
      ]
     },
     "execution_count": 43,
     "metadata": {},
     "output_type": "execute_result"
    }
   ],
   "source": [
    "0.002964871946332217 **2"
   ]
  },
  {
   "cell_type": "code",
   "execution_count": 44,
   "metadata": {},
   "outputs": [
    {
     "data": {
      "text/plain": [
       "0    2.964872\n",
       "dtype: float64"
      ]
     },
     "execution_count": 44,
     "metadata": {},
     "output_type": "execute_result"
    }
   ],
   "source": [
    "np.mean(interval_1**1)"
   ]
  },
  {
   "cell_type": "code",
   "execution_count": 45,
   "metadata": {},
   "outputs": [
    {
     "data": {
      "text/plain": [
       "0    1280.537958\n",
       "dtype: float64"
      ]
     },
     "execution_count": 45,
     "metadata": {},
     "output_type": "execute_result"
    }
   ],
   "source": [
    "np.mean(interval_1**2)"
   ]
  },
  {
   "cell_type": "code",
   "execution_count": 46,
   "metadata": {},
   "outputs": [
    {
     "data": {
      "text/plain": [
       "0    727426.344382\n",
       "dtype: float64"
      ]
     },
     "execution_count": 46,
     "metadata": {},
     "output_type": "execute_result"
    }
   ],
   "source": [
    "np.mean(interval_1**3)"
   ]
  },
  {
   "cell_type": "code",
   "execution_count": 47,
   "metadata": {},
   "outputs": [
    {
     "data": {
      "text/plain": [
       "[(HyperErlang: probs=[0.992, 0.00827], shapes=[3, 3], params=[20.2, 0.0088]),\n",
       " (HyperErlang: probs=[1, 0.000246], shapes=[1, 1], params=[2.14, 0.00859]),\n",
       " (HyperErlang: probs=[0.998, 0.00181], shapes=[1, 1], params=[2.16, 0.00703])]"
      ]
     },
     "execution_count": 47,
     "metadata": {},
     "output_type": "execute_result"
    }
   ],
   "source": [
    "service_dist"
   ]
  },
  {
   "cell_type": "code",
   "execution_count": 59,
   "metadata": {},
   "outputs": [
    {
     "data": {
      "text/plain": [
       "[Statistics(avg=571.5771013873718, var=531979.0525666899, std=729.3689413230385, count=99885),\n",
       " Statistics(avg=0.0, var=0.0, std=0.0, count=0),\n",
       " Statistics(avg=0.0, var=0.0, std=0.0, count=0)]"
      ]
     },
     "execution_count": 59,
     "metadata": {},
     "output_type": "execute_result"
    }
   ],
   "source": [
    "arr = Exponential(100/1000)\n",
    "ret = simulate_tandem(arr, service_dist, 500, 1_000_000)\n",
    "ret.delivery_delays"
   ]
  },
  {
   "cell_type": "code",
   "execution_count": 60,
   "metadata": {},
   "outputs": [],
   "source": [
    "samples = 10\n",
    "e2et = np.zeros(samples)\n",
    "\n",
    "for i in range(samples):\n",
    "    ret = simulate_tandem(arr, service_dist, 500, 1_000_000)\n",
    "    e2et[i] = ret.delivery_delays[0].avg"
   ]
  },
  {
   "cell_type": "code",
   "execution_count": 61,
   "metadata": {},
   "outputs": [
    {
     "data": {
      "image/png": "[encoded data removed]",
      "text/plain": [
       "<Figure size 720x432 with 1 Axes>"
      ]
     },
     "metadata": {
      "needs_background": "light"
     },
     "output_type": "display_data"
    }
   ],
   "source": [
    "plt.figure(figsize=(10,6))\n",
    "plt.title(f'End to end delay, $E(T)$ = {e2et.mean():.6f} seconds');\n",
    "plt.plot(e2et, '-');\n",
    "plt.grid();\n",
    "plt.xlabel(r'$Samples$');\n",
    "plt.xlim([0, samples]);\n",
    "# plt.xticks(np.arange(0, 110, 10));"
   ]
  },
  {
   "cell_type": "markdown",
   "metadata": {},
   "source": [
    "## Detection and excluding outliers in data sets of responce time"
   ]
  },
  {
   "cell_type": "code",
   "execution_count": 62,
   "metadata": {},
   "outputs": [],
   "source": [
    "# interval_1_filter = interval_1[interval_1[0] < .5]\n",
    "# interval_2_filter = interval_2[interval_2[0] < .5]\n",
    "# interval_3_filter = interval_3[interval_3[0] < .5]\n",
    "\n",
    "interval_1_filter = interval_1[interval_1[0] < 500]\n",
    "interval_2_filter = interval_2[interval_2[0] < 500]\n",
    "interval_3_filter = interval_3[interval_3[0] < 500]\n",
    "\n",
    "# interval_1_filter = interval_1\n",
    "# interval_2_filter = interval_2\n",
    "# interval_3_filter = interval_3\n",
    "\n",
    "\n",
    "s12_link_filter = S2SLink(dataset=interval_1, \n",
    "                          m1=get_non_central_moment(interval_1_filter, k=1),\n",
    "                          m2=get_non_central_moment(interval_1_filter, k=2),\n",
    "                          m3=get_non_central_moment(interval_1_filter, k=3))\n",
    "\n",
    "s23_link_filter = S2SLink(dataset=interval_1, \n",
    "                          m1=get_non_central_moment(interval_2_filter, k=1),\n",
    "                          m2=get_non_central_moment(interval_2_filter, k=2),\n",
    "                          m3=get_non_central_moment(interval_2_filter, k=3))\n",
    "\n",
    "s34_link_filter = S2SLink(dataset=interval_1, \n",
    "                          m1=get_non_central_moment(interval_3_filter, k=1),\n",
    "                          m2=get_non_central_moment(interval_3_filter, k=2),\n",
    "                          m3=get_non_central_moment(interval_3_filter, k=3))\n",
    "e2e_link_filter = [s12_link_filter, s23_link_filter, s34_link_filter]\n",
    "\n",
    "service_dist_filter = get_service_dist(e2e_link_filter)\n",
    "\n",
    "samples = 10\n",
    "e2et_filter = np.zeros(samples)\n",
    "\n",
    "for i in range(samples):\n",
    "    ret_filter = simulate_tandem(arr, service_dist_filter, 2, 1_000_000)\n",
    "    e2et_filter[i] = ret_filter.delivery_delays[0].avg"
   ]
  },
  {
   "cell_type": "code",
   "execution_count": 63,
   "metadata": {},
   "outputs": [
    {
     "data": {
      "text/plain": [
       "0.49140462553574354"
      ]
     },
     "execution_count": 63,
     "metadata": {},
     "output_type": "execute_result"
    }
   ],
   "source": [
    "s23_link_filter.m1"
   ]
  },
  {
   "cell_type": "code",
   "execution_count": 64,
   "metadata": {},
   "outputs": [
    {
     "data": {
      "text/plain": [
       "5.043670174278639"
      ]
     },
     "execution_count": 64,
     "metadata": {},
     "output_type": "execute_result"
    }
   ],
   "source": [
    "s23_link_filter.m2"
   ]
  },
  {
   "cell_type": "code",
   "execution_count": 65,
   "metadata": {},
   "outputs": [
    {
     "data": {
      "text/plain": [
       "array([2.88907049, 2.80900867, 2.9311065 , 2.93276981, 2.86607348,\n",
       "       2.79694763, 2.88423132, 2.91288273, 2.92911875, 2.9007525 ])"
      ]
     },
     "execution_count": 65,
     "metadata": {},
     "output_type": "execute_result"
    }
   ],
   "source": [
    "delay_sim = [0.00387008,\n",
    "             0.00364331,\n",
    "             0.00354825,\n",
    "             0.00454046,\n",
    "             0.00364631,\n",
    "             0.0038975,\n",
    "             0.00374635,\n",
    "             0.00361165,\n",
    "             0.00406019,\n",
    "             0.00375125]\n",
    "\n",
    "delay100k = [0.00251827,\n",
    "             0.00488137,\n",
    "             0.00430713,\n",
    "             0.00422884,\n",
    "             0.00361939,\n",
    "             0.00324406,\n",
    "             0.00397321,\n",
    "             0.00302057,\n",
    "             0.00210678,\n",
    "             0.00274328,\n",
    "             0.00304363,\n",
    "             0.00354029,\n",
    "             0.00432225,\n",
    "             0.00297623]\n",
    "\n",
    "delay500k = [0.0035397,\n",
    "             0.0039882,\n",
    "             0.00394872,\n",
    "             0.0044488,\n",
    "             0.00448644,\n",
    "             0.00392004,\n",
    "             0.00336415,\n",
    "             0.00371099,\n",
    "             0.00313266,\n",
    "             0.0041309,\n",
    "             0.00460812,\n",
    "             0.00439093]\n",
    "delay500k = [i * 1000 for i in delay500k]\n",
    "e2et_filter\n",
    "# delay500k"
   ]
  },
  {
   "cell_type": "code",
   "execution_count": 66,
   "metadata": {},
   "outputs": [
    {
     "data": {
      "image/png": "[encoded data removed]",
      "text/plain": [
       "<Figure size 720x432 with 1 Axes>"
      ]
     },
     "metadata": {
      "needs_background": "light"
     },
     "output_type": "display_data"
    }
   ],
   "source": [
    "plt.figure(figsize=(10,6))\n",
    "plt.title(f'End to end delay, $E(T)$ = {e2et_filter.mean():.6f} seconds');\n",
    "plt.plot(e2et_filter, '-');\n",
    "plt.plot(delay_sim, '-kx')\n",
    "plt.plot(delay100k, '-rx')\n",
    "plt.plot(delay500k, '-gx')\n",
    "plt.grid();\n",
    "plt.xlabel(r'$Samples$');\n",
    "# plt.ylim([0, .01]);\n",
    "plt.xlim([0, 10]);\n",
    "# plt.xticks(np.arange(0, 110, 10));\n",
    "\n"
   ]
  },
  {
   "cell_type": "markdown",
   "metadata": {},
   "source": [
    "## &#11015;  DRAW &#11015;"
   ]
  },
  {
   "cell_type": "code",
   "execution_count": 80,
   "metadata": {},
   "outputs": [],
   "source": [
    "tandem5_interval_0 = pd.read_json(r'data/ns3_dataset/802_11_N_result_0.json')\n",
    "tandem5_interval_1 = pd.read_json(r'data/ns3_dataset/802_11_N_result_1.json')\n",
    "tandem5_interval_2 = pd.read_json(r'data/ns3_dataset/802_11_N_result_2.json')\n",
    "tandem5_interval_3 = pd.read_json(r'data/ns3_dataset/802_11_N_result_3.json')"
   ]
  },
  {
   "cell_type": "code",
   "execution_count": 16,
   "metadata": {},
   "outputs": [
    {
     "data": {
      "text/plain": [
       "[<matplotlib.lines.Line2D at 0x7f84e81690a0>]"
      ]
     },
     "execution_count": 16,
     "metadata": {},
     "output_type": "execute_result"
    },
    {
     "data": {
      "image/png": "[encoded data removed]",
      "text/plain": [
       "<Figure size 432x288 with 1 Axes>"
      ]
     },
     "metadata": {
      "needs_background": "light"
     },
     "output_type": "display_data"
    }
   ],
   "source": [
    "# plt.ylim([0, .6]);\n",
    "plt.plot(tandem5_interval_0, 'x')"
   ]
  },
  {
   "cell_type": "code",
   "execution_count": 17,
   "metadata": {},
   "outputs": [],
   "source": [
    "s12_link = S2SLink(dataset=interval_1, \n",
    "                   m1=get_non_central_moment(tandem5_interval_0, k=1),\n",
    "                   m2=get_non_central_moment(tandem5_interval_0, k=2),\n",
    "                   m3=get_non_central_moment(tandem5_interval_0, k=3))\n",
    "\n",
    "s23_link = S2SLink(dataset=interval_1, \n",
    "                   m1=get_non_central_moment(tandem5_interval_1, k=1),\n",
    "                   m2=get_non_central_moment(tandem5_interval_1, k=2),\n",
    "                   m3=get_non_central_moment(tandem5_interval_1, k=3))\n",
    "\n",
    "s34_link = S2SLink(dataset=interval_1, \n",
    "                   m1=get_non_central_moment(tandem5_interval_2, k=1),\n",
    "                   m2=get_non_central_moment(tandem5_interval_2, k=2),\n",
    "                   m3=get_non_central_moment(tandem5_interval_2, k=3))\n",
    "\n",
    "s45_link = S2SLink(dataset=interval_1, \n",
    "                   m1=get_non_central_moment(tandem5_interval_3, k=1),\n",
    "                   m2=get_non_central_moment(tandem5_interval_3, k=2),\n",
    "                   m3=get_non_central_moment(tandem5_interval_3, k=3))\n",
    "\n",
    "e2e_link = [s12_link, s23_link, s34_link, s45_link]\n",
    "\n",
    "service_dist = get_service_dist(e2e_link) "
   ]
  },
  {
   "cell_type": "code",
   "execution_count": 18,
   "metadata": {},
   "outputs": [
    {
     "data": {
      "text/plain": [
       "[0.00745780347343821,\n",
       " 0.0007589720847351541,\n",
       " 0.0010998633855556958,\n",
       " 0.001271105721515451]"
      ]
     },
     "execution_count": 18,
     "metadata": {},
     "output_type": "execute_result"
    }
   ],
   "source": [
    "first_moments = [s12_link.m1,\n",
    "                 s23_link.m1,\n",
    "                 s34_link.m1,\n",
    "                 s45_link.m1]\n",
    "first_moments"
   ]
  },
  {
   "cell_type": "code",
   "execution_count": 19,
   "metadata": {},
   "outputs": [
    {
     "data": {
      "text/plain": [
       "[(HyperErlang: probs=[0.985, 0.0154], shapes=[6, 6], params=[1.02e+06, 12.4]),\n",
       " (HyperErlang: probs=[0.999, 0.000522], shapes=[1, 1], params=[1.47e+03, 6.43]),\n",
       " (HyperErlang: probs=[0.997, 0.0032], shapes=[1, 1], params=[1.96e+03, 5.42]),\n",
       " (HyperErlang: probs=[0.996, 0.00414], shapes=[1, 1], params=[2.03e+03, 5.31])]"
      ]
     },
     "execution_count": 19,
     "metadata": {},
     "output_type": "execute_result"
    }
   ],
   "source": [
    "service_dist"
   ]
  },
  {
   "cell_type": "code",
   "execution_count": 20,
   "metadata": {},
   "outputs": [
    {
     "data": {
      "text/plain": [
       "205742"
      ]
     },
     "execution_count": 20,
     "metadata": {},
     "output_type": "execute_result"
    }
   ],
   "source": [
    "len(tandem5_interval_2)"
   ]
  },
  {
   "cell_type": "code",
   "execution_count": 21,
   "metadata": {},
   "outputs": [
    {
     "data": {
      "text/plain": [
       "8.650678917881338"
      ]
     },
     "execution_count": 21,
     "metadata": {},
     "output_type": "execute_result"
    }
   ],
   "source": [
    "service_dist[0].cv"
   ]
  },
  {
   "cell_type": "code",
   "execution_count": 22,
   "metadata": {},
   "outputs": [
    {
     "data": {
      "text/plain": [
       "((PH: s=[[-3.18, 3.18], [0, -1.31e+03]], p=[0.0213, 0.979]),\n",
       " array([4.18689265e-15, 9.25391557e-15, 4.57196832e-01]))"
      ]
     },
     "execution_count": 22,
     "metadata": {},
     "output_type": "execute_result"
    }
   ],
   "source": [
    "fit_acph2(moments=[s12_link.m1, s12_link.m2, s12_link.m3], strict=False)"
   ]
  },
  {
   "cell_type": "code",
   "execution_count": 23,
   "metadata": {},
   "outputs": [
    {
     "data": {
      "text/plain": [
       "0.0"
      ]
     },
     "execution_count": 23,
     "metadata": {},
     "output_type": "execute_result"
    }
   ],
   "source": [
    "from scipy.stats import moment\n",
    "moment(interval_1[0], moment=1)"
   ]
  },
  {
   "cell_type": "code",
   "execution_count": 24,
   "metadata": {},
   "outputs": [
    {
     "data": {
      "text/plain": [
       "0.0012717474920610615"
      ]
     },
     "execution_count": 24,
     "metadata": {},
     "output_type": "execute_result"
    }
   ],
   "source": [
    "moment(interval_1[0], moment=2)"
   ]
  },
  {
   "cell_type": "code",
   "execution_count": 25,
   "metadata": {},
   "outputs": [
    {
     "data": {
      "text/plain": [
       "0.0007160885763909009"
      ]
     },
     "execution_count": 25,
     "metadata": {},
     "output_type": "execute_result"
    }
   ],
   "source": [
    "moment(interval_1[0], moment=3)"
   ]
  },
  {
   "cell_type": "code",
   "execution_count": 26,
   "metadata": {},
   "outputs": [
    {
     "data": {
      "text/plain": [
       "0.00745780347343821"
      ]
     },
     "execution_count": 26,
     "metadata": {},
     "output_type": "execute_result"
    }
   ],
   "source": [
    "s12_link.m1"
   ]
  },
  {
   "cell_type": "code",
   "execution_count": 27,
   "metadata": {},
   "outputs": [
    {
     "data": {
      "text/plain": [
       "0.004217812222848122"
      ]
     },
     "execution_count": 27,
     "metadata": {},
     "output_type": "execute_result"
    }
   ],
   "source": [
    "s12_link.m2"
   ]
  },
  {
   "cell_type": "code",
   "execution_count": 28,
   "metadata": {},
   "outputs": [
    {
     "data": {
      "text/plain": [
       "0.002728312285347806"
      ]
     },
     "execution_count": 28,
     "metadata": {},
     "output_type": "execute_result"
    }
   ],
   "source": [
    "s12_link.m3"
   ]
  },
  {
   "cell_type": "code",
   "execution_count": 29,
   "metadata": {},
   "outputs": [
    {
     "data": {
      "text/plain": [
       "9.812059117316883"
      ]
     },
     "execution_count": 29,
     "metadata": {},
     "output_type": "execute_result"
    }
   ],
   "source": [
    "get_skewness(s12_link.m1, s12_link.m2, s12_link.m3)"
   ]
  },
  {
   "cell_type": "code",
   "execution_count": 19,
   "metadata": {},
   "outputs": [
    {
     "data": {
      "text/plain": [
       "(array([1.70047297e+01, 3.47932010e-04, 0.00000000e+00, 0.00000000e+00,\n",
       "        0.00000000e+00, 0.00000000e+00, 0.00000000e+00, 0.00000000e+00,\n",
       "        4.97045729e-04, 6.68195142e-02]),\n",
       " array([1.56072000e-04, 5.87301648e-02, 1.17304258e-01, 1.75878350e-01,\n",
       "        2.34452443e-01, 2.93026536e-01, 3.51600629e-01, 4.10174722e-01,\n",
       "        4.68748814e-01, 5.27322907e-01, 5.85897000e-01]),\n",
       " <BarContainer object of 10 artists>)"
      ]
     },
     "execution_count": 19,
     "metadata": {},
     "output_type": "execute_result"
    },
    {
     "data": {
      "image/png": "[encoded data removed]",
      "text/plain": [
       "<Figure size 432x288 with 1 Axes>"
      ]
     },
     "metadata": {
      "needs_background": "light"
     },
     "output_type": "display_data"
    }
   ],
   "source": [
    "plt.hist(interval_1, density=True)"
   ]
  },
  {
   "cell_type": "code",
   "execution_count": 20,
   "metadata": {},
   "outputs": [
    {
     "data": {
      "text/plain": [
       "(array([1.74371717e+01, 3.29505229e-04, 1.18283928e-04, 9.29373724e-05,\n",
       "        3.37954081e-05, 5.06931122e-05, 1.26732781e-04, 6.75908163e-05,\n",
       "        1.01386224e-04, 7.60396683e-05]),\n",
       " array([9.82880000e-05, 5.74437592e-02, 1.14789230e-01, 1.72134702e-01,\n",
       "        2.29480173e-01, 2.86825644e-01, 3.44171115e-01, 4.01516586e-01,\n",
       "        4.58862058e-01, 5.16207529e-01, 5.73553000e-01]),\n",
       " <BarContainer object of 10 artists>)"
      ]
     },
     "execution_count": 20,
     "metadata": {},
     "output_type": "execute_result"
    },
    {
     "data": {
      "image/png": "[encoded data removed]",
      "text/plain": [
       "<Figure size 432x288 with 1 Axes>"
      ]
     },
     "metadata": {
      "needs_background": "light"
     },
     "output_type": "display_data"
    }
   ],
   "source": [
    "plt.hist(interval_2, density=True)"
   ]
  },
  {
   "cell_type": "code",
   "execution_count": 21,
   "metadata": {},
   "outputs": [
    {
     "data": {
      "text/plain": [
       "(array([1.52761567e+01, 1.66445616e-03, 2.01954014e-03, 7.10167961e-04,\n",
       "        6.95372795e-04, 1.58308275e-03, 1.35375768e-03, 7.24963127e-04,\n",
       "        9.46890614e-04, 7.39758292e-06]),\n",
       " array([9.87280000e-05, 6.55186552e-02, 1.30938582e-01, 1.96358510e-01,\n",
       "        2.61778437e-01, 3.27198364e-01, 3.92618291e-01, 4.58038218e-01,\n",
       "        5.23458146e-01, 5.88878073e-01, 6.54298000e-01]),\n",
       " <BarContainer object of 10 artists>)"
      ]
     },
     "execution_count": 21,
     "metadata": {},
     "output_type": "execute_result"
    },
    {
     "data": {
      "image/png": "[encoded data removed]",
      "text/plain": [
       "<Figure size 432x288 with 1 Axes>"
      ]
     },
     "metadata": {
      "needs_background": "light"
     },
     "output_type": "display_data"
    }
   ],
   "source": [
    "plt.hist(interval_3, density=True)"
   ]
  },
  {
   "cell_type": "code",
   "execution_count": 29,
   "metadata": {},
   "outputs": [
    {
     "data": {
      "text/plain": [
       "0.6628420361390814"
      ]
     },
     "execution_count": 29,
     "metadata": {},
     "output_type": "execute_result"
    }
   ],
   "source": [
    "service_dist[2].cv"
   ]
  },
  {
   "cell_type": "code",
   "execution_count": 32,
   "metadata": {},
   "outputs": [
    {
     "data": {
      "text/plain": [
       "0    0.002583\n",
       "Name: 0.95, dtype: float64"
      ]
     },
     "execution_count": 32,
     "metadata": {},
     "output_type": "execute_result"
    }
   ],
   "source": [
    "interval_1.quantile(q=0.95, axis=0)\n"
   ]
  },
  {
   "cell_type": "code",
   "execution_count": 33,
   "metadata": {},
   "outputs": [
    {
     "data": {
      "text/html": [
       "<div>\n",
       "<style scoped>\n",
       "    .dataframe tbody tr th:only-of-type {\n",
       "        vertical-align: middle;\n",
       "    }\n",
       "\n",
       "    .dataframe tbody tr th {\n",
       "        vertical-align: top;\n",
       "    }\n",
       "\n",
       "    .dataframe thead th {\n",
       "        text-align: right;\n",
       "    }\n",
       "</style>\n",
       "<table border=\"1\" class=\"dataframe\">\n",
       "  <thead>\n",
       "    <tr style=\"text-align: right;\">\n",
       "      <th></th>\n",
       "      <th>a</th>\n",
       "      <th>b</th>\n",
       "    </tr>\n",
       "  </thead>\n",
       "  <tbody>\n",
       "    <tr>\n",
       "      <th>0</th>\n",
       "      <td>1</td>\n",
       "      <td>1</td>\n",
       "    </tr>\n",
       "    <tr>\n",
       "      <th>1</th>\n",
       "      <td>2</td>\n",
       "      <td>10</td>\n",
       "    </tr>\n",
       "    <tr>\n",
       "      <th>2</th>\n",
       "      <td>3</td>\n",
       "      <td>100</td>\n",
       "    </tr>\n",
       "    <tr>\n",
       "      <th>3</th>\n",
       "      <td>4</td>\n",
       "      <td>100</td>\n",
       "    </tr>\n",
       "  </tbody>\n",
       "</table>\n",
       "</div>"
      ],
      "text/plain": [
       "   a    b\n",
       "0  1    1\n",
       "1  2   10\n",
       "2  3  100\n",
       "3  4  100"
      ]
     },
     "execution_count": 33,
     "metadata": {},
     "output_type": "execute_result"
    }
   ],
   "source": [
    "df = pd.DataFrame(np.array([[1, 1], [2, 10], [3, 100], [4, 100]]),\n",
    "                  columns=['a', 'b'])\n",
    "df"
   ]
  },
  {
   "cell_type": "code",
   "execution_count": 39,
   "metadata": {},
   "outputs": [
    {
     "data": {
      "text/html": [
       "<div>\n",
       "<style scoped>\n",
       "    .dataframe tbody tr th:only-of-type {\n",
       "        vertical-align: middle;\n",
       "    }\n",
       "\n",
       "    .dataframe tbody tr th {\n",
       "        vertical-align: top;\n",
       "    }\n",
       "\n",
       "    .dataframe thead th {\n",
       "        text-align: right;\n",
       "    }\n",
       "</style>\n",
       "<table border=\"1\" class=\"dataframe\">\n",
       "  <thead>\n",
       "    <tr style=\"text-align: right;\">\n",
       "      <th></th>\n",
       "      <th>0</th>\n",
       "    </tr>\n",
       "  </thead>\n",
       "  <tbody>\n",
       "    <tr>\n",
       "      <th>11209</th>\n",
       "      <td>0.574999</td>\n",
       "    </tr>\n",
       "    <tr>\n",
       "      <th>11210</th>\n",
       "      <td>0.574999</td>\n",
       "    </tr>\n",
       "    <tr>\n",
       "      <th>11211</th>\n",
       "      <td>0.574999</td>\n",
       "    </tr>\n",
       "    <tr>\n",
       "      <th>11212</th>\n",
       "      <td>0.574999</td>\n",
       "    </tr>\n",
       "    <tr>\n",
       "      <th>11213</th>\n",
       "      <td>0.574999</td>\n",
       "    </tr>\n",
       "    <tr>\n",
       "      <th>...</th>\n",
       "      <td>...</td>\n",
       "    </tr>\n",
       "    <tr>\n",
       "      <th>1017582</th>\n",
       "      <td>0.562499</td>\n",
       "    </tr>\n",
       "    <tr>\n",
       "      <th>1017583</th>\n",
       "      <td>0.562499</td>\n",
       "    </tr>\n",
       "    <tr>\n",
       "      <th>1017584</th>\n",
       "      <td>0.562499</td>\n",
       "    </tr>\n",
       "    <tr>\n",
       "      <th>1017585</th>\n",
       "      <td>0.562499</td>\n",
       "    </tr>\n",
       "    <tr>\n",
       "      <th>1017586</th>\n",
       "      <td>0.562499</td>\n",
       "    </tr>\n",
       "  </tbody>\n",
       "</table>\n",
       "<p>4063 rows × 1 columns</p>\n",
       "</div>"
      ],
      "text/plain": [
       "                0\n",
       "11209    0.574999\n",
       "11210    0.574999\n",
       "11211    0.574999\n",
       "11212    0.574999\n",
       "11213    0.574999\n",
       "...           ...\n",
       "1017582  0.562499\n",
       "1017583  0.562499\n",
       "1017584  0.562499\n",
       "1017585  0.562499\n",
       "1017586  0.562499\n",
       "\n",
       "[4063 rows x 1 columns]"
      ]
     },
     "execution_count": 39,
     "metadata": {},
     "output_type": "execute_result"
    }
   ],
   "source": [
    "interval_1[interval_1[0] >.1]"
   ]
  },
  {
   "cell_type": "code",
   "execution_count": 40,
   "metadata": {},
   "outputs": [
    {
     "data": {
      "text/html": [
       "<div>\n",
       "<style scoped>\n",
       "    .dataframe tbody tr th:only-of-type {\n",
       "        vertical-align: middle;\n",
       "    }\n",
       "\n",
       "    .dataframe tbody tr th {\n",
       "        vertical-align: top;\n",
       "    }\n",
       "\n",
       "    .dataframe thead th {\n",
       "        text-align: right;\n",
       "    }\n",
       "</style>\n",
       "<table border=\"1\" class=\"dataframe\">\n",
       "  <thead>\n",
       "    <tr style=\"text-align: right;\">\n",
       "      <th></th>\n",
       "      <th>0</th>\n",
       "    </tr>\n",
       "  </thead>\n",
       "  <tbody>\n",
       "    <tr>\n",
       "      <th>22490</th>\n",
       "      <td>0.251458</td>\n",
       "    </tr>\n",
       "    <tr>\n",
       "      <th>39390</th>\n",
       "      <td>0.437954</td>\n",
       "    </tr>\n",
       "    <tr>\n",
       "      <th>71580</th>\n",
       "      <td>0.378841</td>\n",
       "    </tr>\n",
       "    <tr>\n",
       "      <th>120107</th>\n",
       "      <td>0.148333</td>\n",
       "    </tr>\n",
       "    <tr>\n",
       "      <th>132031</th>\n",
       "      <td>0.126102</td>\n",
       "    </tr>\n",
       "    <tr>\n",
       "      <th>...</th>\n",
       "      <td>...</td>\n",
       "    </tr>\n",
       "    <tr>\n",
       "      <th>1920992</th>\n",
       "      <td>0.423508</td>\n",
       "    </tr>\n",
       "    <tr>\n",
       "      <th>1966347</th>\n",
       "      <td>0.412127</td>\n",
       "    </tr>\n",
       "    <tr>\n",
       "      <th>1984603</th>\n",
       "      <td>0.372251</td>\n",
       "    </tr>\n",
       "    <tr>\n",
       "      <th>1985564</th>\n",
       "      <td>0.459197</td>\n",
       "    </tr>\n",
       "    <tr>\n",
       "      <th>2035999</th>\n",
       "      <td>0.171883</td>\n",
       "    </tr>\n",
       "  </tbody>\n",
       "</table>\n",
       "<p>85 rows × 1 columns</p>\n",
       "</div>"
      ],
      "text/plain": [
       "                0\n",
       "22490    0.251458\n",
       "39390    0.437954\n",
       "71580    0.378841\n",
       "120107   0.148333\n",
       "132031   0.126102\n",
       "...           ...\n",
       "1920992  0.423508\n",
       "1966347  0.412127\n",
       "1984603  0.372251\n",
       "1985564  0.459197\n",
       "2035999  0.171883\n",
       "\n",
       "[85 rows x 1 columns]"
      ]
     },
     "execution_count": 40,
     "metadata": {},
     "output_type": "execute_result"
    }
   ],
   "source": [
    "interval_2[interval_2[0] >.1]"
   ]
  },
  {
   "cell_type": "code",
   "execution_count": 41,
   "metadata": {},
   "outputs": [
    {
     "data": {
      "text/html": [
       "<div>\n",
       "<style scoped>\n",
       "    .dataframe tbody tr th:only-of-type {\n",
       "        vertical-align: middle;\n",
       "    }\n",
       "\n",
       "    .dataframe tbody tr th {\n",
       "        vertical-align: top;\n",
       "    }\n",
       "\n",
       "    .dataframe thead th {\n",
       "        text-align: right;\n",
       "    }\n",
       "</style>\n",
       "<table border=\"1\" class=\"dataframe\">\n",
       "  <thead>\n",
       "    <tr style=\"text-align: right;\">\n",
       "      <th></th>\n",
       "      <th>0</th>\n",
       "    </tr>\n",
       "  </thead>\n",
       "  <tbody>\n",
       "    <tr>\n",
       "      <th>22494</th>\n",
       "      <td>0.199946</td>\n",
       "    </tr>\n",
       "    <tr>\n",
       "      <th>39301</th>\n",
       "      <td>0.569384</td>\n",
       "    </tr>\n",
       "    <tr>\n",
       "      <th>39302</th>\n",
       "      <td>0.569384</td>\n",
       "    </tr>\n",
       "    <tr>\n",
       "      <th>39303</th>\n",
       "      <td>0.569384</td>\n",
       "    </tr>\n",
       "    <tr>\n",
       "      <th>39304</th>\n",
       "      <td>0.569384</td>\n",
       "    </tr>\n",
       "    <tr>\n",
       "      <th>...</th>\n",
       "      <td>...</td>\n",
       "    </tr>\n",
       "    <tr>\n",
       "      <th>1987863</th>\n",
       "      <td>0.485857</td>\n",
       "    </tr>\n",
       "    <tr>\n",
       "      <th>1987864</th>\n",
       "      <td>0.485857</td>\n",
       "    </tr>\n",
       "    <tr>\n",
       "      <th>1987865</th>\n",
       "      <td>0.485857</td>\n",
       "    </tr>\n",
       "    <tr>\n",
       "      <th>1987866</th>\n",
       "      <td>0.485857</td>\n",
       "    </tr>\n",
       "    <tr>\n",
       "      <th>2038355</th>\n",
       "      <td>0.170203</td>\n",
       "    </tr>\n",
       "  </tbody>\n",
       "</table>\n",
       "<p>1241 rows × 1 columns</p>\n",
       "</div>"
      ],
      "text/plain": [
       "                0\n",
       "22494    0.199946\n",
       "39301    0.569384\n",
       "39302    0.569384\n",
       "39303    0.569384\n",
       "39304    0.569384\n",
       "...           ...\n",
       "1987863  0.485857\n",
       "1987864  0.485857\n",
       "1987865  0.485857\n",
       "1987866  0.485857\n",
       "2038355  0.170203\n",
       "\n",
       "[1241 rows x 1 columns]"
      ]
     },
     "execution_count": 41,
     "metadata": {},
     "output_type": "execute_result"
    }
   ],
   "source": [
    "interval_3[interval_3[0] >.1]"
   ]
  }
 ],
 "metadata": {
  "kernelspec": {
   "display_name": "Python 3",
   "language": "python",
   "name": "python3"
  },
  "language_info": {
   "codemirror_mode": {
    "name": "ipython",
    "version": 3
   },
   "file_extension": ".py",
   "mimetype": "text/x-python",
   "name": "python",
   "nbconvert_exporter": "python",
   "pygments_lexer": "ipython3",
   "version": "3.8.5"
  }
 },
 "nbformat": 4,
 "nbformat_minor": 2
}
