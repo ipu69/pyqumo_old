{
 "cells": [
  {
   "cell_type": "markdown",
   "metadata": {},
   "source": [
    "# Эксперимент №2: расчет характеристик тандемной сети с узлами  MAP/PH/1/N по трём моментам с помощью имитационного моделирования и машинного обучения"
   ]
  },
  {
   "cell_type": "markdown",
   "metadata": {},
   "source": [
    "В этом эксперименте мы рассчитаем различные характеристики сетей с линейной топологией, в которой случайные величины интервалов поступления и времени обслуживания будут задавать фазовыми распределениями. \n",
    "\n",
    "Сначала мы рассчитаем характеристики на заданной сетке статистических параметров с помощью имитационного моделирования сети. Аппроксимацию функцию распределения будем проводить по трем моментов с помощью алгоритма [1]. Затем используем полученные результаты для обучения нейросетевых и других моделей ML, которые сможем использовать для очень быстрой оценки характеристик сетей. Например, такой подход полезен при нахождении решений задач оптимизации топологии, когда характеристики сетей с линейной топологией являются ограничениями в алгоритме ветвей и границ. \n",
    "\n",
    "\n",
    "[1] Mary A. Johnson & Michael R. Taaffe (1989) Matching moments to phase distributions: Mixtures of erlang distributions of common order, Communications in Statistics. Stochastic Models, 5:4, 711-743, DOI: 10.1080/15326348908807131\n"
   ]
  },
  {
   "cell_type": "code",
   "execution_count": 1,
   "metadata": {},
   "outputs": [],
   "source": [
    "import os\n",
    "from itertools import product\n",
    "from collections import namedtuple\n",
    "import time\n",
    "from typing import Tuple\n",
    "import random\n",
    "\n",
    "from tabulate import tabulate\n",
    "from tqdm.notebook import tqdm\n",
    "import matplotlib\n",
    "import matplotlib.pyplot as plt\n",
    "from matplotlib import cm\n",
    "from matplotlib import patches\n",
    "import numpy as np\n",
    "import pandas as pd\n",
    "\n",
    "# Подключаем локальные пакеты\n",
    "from pyqumo.random import Distribution, Exponential, HyperExponential, Erlang\n",
    "from pyqumo.cqumo.sim import simulate_tandem\n",
    "\n",
    "\n",
    "from pyqumo.fitting.johnson89 import fit_mern2\n",
    "from pyqumo.stats import get_cv, get_skewness, get_noncentral_m2, get_noncentral_m3\n",
    "from pyqumo.random import HyperErlang\n",
    "\n",
    "# Поключаем пакеты для ML\n",
    "import math\n",
    "from sklearn.metrics import r2_score, mean_squared_error, mean_absolute_percentage_error \n",
    "from sklearn.metrics import precision_score, recall_score, f1_score\n",
    "from sklearn.tree import DecisionTreeRegressor\n",
    "from sklearn.tree import DecisionTreeClassifier\n",
    "from sklearn import tree\n",
    "from sklearn.ensemble import GradientBoostingRegressor\n",
    "from sklearn.model_selection import train_test_split\n",
    "from sklearn.model_selection import GridSearchCV\n",
    "from sklearn.neural_network import MLPClassifier\n",
    "from sklearn.linear_model import LinearRegression, LogisticRegression\n",
    "from catboost import CatBoostClassifier\n",
    "import tensorflow as tf\n",
    "from tensorflow import keras\n",
    "from tensorflow import keras\n",
    "from tensorflow.python.keras import engine\n",
    "from tensorflow.keras import layers\n",
    "import seaborn as sns\n",
    "from scipy import stats"
   ]
  },
  {
   "cell_type": "code",
   "execution_count": 2,
   "metadata": {},
   "outputs": [],
   "source": [
    "# Настраиваем matplotlib\n",
    "%matplotlib inline\n",
    "matplotlib.rcParams.update({'font.size': 25})\n",
    "# matplotlib.rcParams.update({'font.weight': 'bold'})"
   ]
  },
  {
   "cell_type": "code",
   "execution_count": null,
   "metadata": {},
   "outputs": [],
   "source": []
  },
  {
   "cell_type": "code",
   "execution_count": 3,
   "metadata": {},
   "outputs": [],
   "source": [
    "def get_std(m1, m2):\n",
    "    return (m2 - m1**2)**0.5"
   ]
  },
  {
   "cell_type": "markdown",
   "metadata": {},
   "source": [
    "## ПОСТРОЕНИЕ ПРОГНОЗНОЙ МОДЕЛИ ВРЕМЕНИ МЕЖКОНЦЕВОЙ ЗАДЕРЖКИ МНОГОФАЗНОЙ СЕТИ МАСОВОГО ОБСЛУЖИВАНИЯ С ЛИНЕЙНОЙ ТОПОЛОГИЕЙ\n",
    "\n",
    "Для оценки времени задержек построим _регрессионную модель_."
   ]
  },
  {
   "cell_type": "markdown",
   "metadata": {},
   "source": [
    "## ТАБЛИЦА ТРЕНИРОЧНЫХ ДАННЫХ\n",
    "Мы получили данные симуляции для различных входных параметров. В общей сложности объем выборки составил 101424 строк. Данную выборку будем использовать для обучения будущих моделей."
   ]
  },
  {
   "cell_type": "code",
   "execution_count": 2,
   "metadata": {},
   "outputs": [],
   "source": [
    "pd.options.mode.chained_assignment = None\n",
    "data = pd.read_csv('data/Tandem_network_with_ph_distribution.csv', index_col='Id')\n",
    "COLUMNS = [\n",
    "    'ArrM1',\n",
    "    'ArrStd',\n",
    "    'ArrSkewness',\n",
    "    'SrvM1',\n",
    "    'SrvStd',\n",
    "    'SrvSkewness',\n",
    "    'NetSize', \n",
    "    'Capacity',\n",
    "    ]"
   ]
  },
  {
   "cell_type": "code",
   "execution_count": 26,
   "metadata": {},
   "outputs": [],
   "source": [
    "plt.ylim([0, 25000])\n",
    "plt.title('Utilization server ' r'$\\rho$' '\\n of generated data', fontsize=22)\n",
    "plt.plot(data['Rho'], 'or')\n",
    "plt.xlabel(r'Samples', fontsize=20);\n",
    "plt.ylabel(r'$m_s$ \\ $m_a$', fontsize=20);\n",
    "plt.xticks(color='w')\n",
    "plt.grid()\n",
    "plt.savefig('data/images/samples_rho.jpeg', bbox_inches = 'tight')"
   ]
  },
  {
   "cell_type": "code",
   "execution_count": 25,
   "metadata": {},
   "outputs": [],
   "source": [
    "fig = plt.figure(figsize=(20, 8))\n",
    "ax = fig.add_subplot(1,2,1)\n",
    "plt.ylim([0, 25000])\n",
    "plt.title('Utilization server ' r'$\\rho$' '\\n of generated data',fontweight=\"bold\")\n",
    "plt.plot(data['Rho'], 'or')\n",
    "plt.xlabel(r'Samples', fontweight=\"bold\");\n",
    "plt.ylabel(r'$m_s$ \\ $m_a$');\n",
    "plt.xticks(color='w')\n",
    "plt.grid()\n",
    "\n",
    "ax = fig.add_subplot(1,2,2)\n",
    "plt.ylim([0, 25])\n",
    "plt.title('Utilization server ' r'$\\rho$' '\\n of generated data',fontweight=\"bold\")\n",
    "plt.plot(simulation_data['Rho'], 'or')\n",
    "plt.xlabel(r'Samples', fontweight=\"bold\");\n",
    "plt.ylabel(r'$m_s$ \\ $m_a$');\n",
    "plt.xticks(color='w')\n",
    "plt.grid()\n",
    "\n",
    "plt.savefig('data/images/samples_rho.pdf', bbox_inches = 'tight')"
   ]
  },
  {
   "cell_type": "markdown",
   "metadata": {},
   "source": [
    "Как видно из графиков мы имеем значения $\\rho$ сильно превышающие диапазон $(0, 1)$. Нецелесообразно использовать такие данные для дальнейшего обучения моделей. Перед тем как начать отсекать строки, вспомни, что узлы нашей многофазной очереди имеют конечный буфер и пакеты при загруженном узле могут теряться. Значит загрузка на первом узле может быть $\\rho >> 1$. Поэтому ограничемся  диапазоном $\\rho \\in (0, 10]$"
   ]
  },
  {
   "cell_type": "code",
   "execution_count": 8,
   "metadata": {},
   "outputs": [],
   "source": [
    "simulation_data = data[data['Rho'] <= 10]"
   ]
  },
  {
   "cell_type": "markdown",
   "metadata": {},
   "source": [
    "Приступим к тренировке моделей"
   ]
  },
  {
   "cell_type": "code",
   "execution_count": 10,
   "metadata": {},
   "outputs": [],
   "source": [
    "train_data, test_data, y_train, y_test = train_test_split(\n",
    "    simulation_data, simulation_data.loc[:, ['DelayAvg', 'DeliveryProb']], \n",
    "    test_size=0.33, \n",
    "    random_state=42)\n",
    "x_train = train_data.loc[:, COLUMNS]\n",
    "x_test = test_data.loc[:, COLUMNS]"
   ]
  },
  {
   "cell_type": "markdown",
   "metadata": {},
   "source": [
    "### МЕТРИКИ\n",
    "Для оценки полученных моделей нам будут необходимы метрики, а именно:"
   ]
  },
  {
   "cell_type": "markdown",
   "metadata": {},
   "source": [
    "- Стандартное отклонение"
   ]
  },
  {
   "cell_type": "code",
   "execution_count": 11,
   "metadata": {},
   "outputs": [],
   "source": [
    "def std(x: np.ndarray, y: np.ndarray) -> float:\n",
    "    \"\"\"\n",
    "    Standard deviation between simulation model \n",
    "    values and estimates\n",
    "    \"\"\"\n",
    "    return math.sqrt(np.sum((x-y)**2) / (len(x) - 1))"
   ]
  },
  {
   "cell_type": "markdown",
   "metadata": {},
   "source": [
    "- Коэффициент корреляции"
   ]
  },
  {
   "cell_type": "code",
   "execution_count": 12,
   "metadata": {},
   "outputs": [],
   "source": [
    "def corr(x: np.ndarray, y: np.ndarray) -> float:\n",
    "    \"\"\"\n",
    "    Correlation coefficient between simulation model \n",
    "    values and estimate \n",
    "    \"\"\"\n",
    "    r = np.corrcoef(x, y)\n",
    "    return r[0,1]"
   ]
  },
  {
   "cell_type": "markdown",
   "metadata": {},
   "source": [
    "- среднеквадратичная ошибка;\n",
    "\n",
    "```sklearn.metrics.mean_squared_error ```."
   ]
  },
  {
   "cell_type": "markdown",
   "metadata": {},
   "source": [
    "- и коэффициент детерминации.\n",
    "\n",
    "```sklearn.metrics.r2_score```."
   ]
  },
  {
   "cell_type": "markdown",
   "metadata": {},
   "source": [
    "### Приступим непосредственно к обучению\n",
    "\n",
    "-  ## Задача регресии МНК"
   ]
  },
  {
   "cell_type": "code",
   "execution_count": 13,
   "metadata": {},
   "outputs": [],
   "source": [
    "\"\"\"Prepare regression model using Least Squares algorithm\"\"\"\n",
    "def get_ls_regression_model(x_train, x_test, \n",
    "                            y_train, y_test) -> (np.ndarray, LinearRegression):\n",
    "    ls = LinearRegression()\n",
    "    # ls = Ridge(alpha=.5)\n",
    "    ls.fit(x_train, y_train)\n",
    "    ls_y = ls.predict(x_test)\n",
    "\n",
    "    return ls_y, ls\n"
   ]
  },
  {
   "cell_type": "code",
   "execution_count": 14,
   "metadata": {},
   "outputs": [],
   "source": [
    "ls_delay_estimate, ls = get_ls_regression_model(x_train, x_test, \n",
    "                                                y_train['DelayAvg'], \n",
    "                                                y_test['DelayAvg'])"
   ]
  },
  {
   "cell_type": "code",
   "execution_count": 398,
   "metadata": {},
   "outputs": [
    {
     "output_type": "stream",
     "name": "stdout",
     "text": [
      "R = 0.925\nSTD = 66.541\nMSE = 4427.539\nR2 = 0.856\nMAPE = 2.712\n"
     ]
    }
   ],
   "source": [
    "print(f'R = {corr(y_test[\"DelayAvg\"], ls_delay_estimate):.3f}')\n",
    "print(f'STD = {std(y_test[\"DelayAvg\"], ls_delay_estimate):.3f}')\n",
    "print(f'MSE = {mean_squared_error(y_test[\"DelayAvg\"], ls_delay_estimate):.3f}')\n",
    "print(f'R2 = {r2_score(y_test[\"DelayAvg\"], ls_delay_estimate):.3f}')\n",
    "print(f'MAPE = {mean_absolute_percentage_error(y_test[\"DelayAvg\"], ls_delay_estimate):.3f}')"
   ]
  },
  {
   "cell_type": "code",
   "execution_count": 16,
   "metadata": {},
   "outputs": [],
   "source": [
    "# DataFrame для отриосвки графиков\n",
    "draw_data = test_data\n",
    "draw_data.loc[:,'DelayAvgTest'] = y_test.loc[:,'DelayAvg']\n",
    "draw_data.loc[:, 'LsDelayEst'] = ls_delay_estimate"
   ]
  },
  {
   "cell_type": "code",
   "execution_count": 17,
   "metadata": {},
   "outputs": [],
   "source": [
    "# fig, ax = plt.subplots(figsize=(8, 8))\n",
    "# plt.grid()\n",
    "# cm = plt.get_cmap('Greens')\n",
    "# col = [cm(float(i)/(len(y_test))) for i in range((len(y_test)))]\n",
    "# ax.scatter(draw_data['LsDelayEst'], draw_data['DelayAvgTest'], c=col)\n",
    "# x = np.linspace(0,800,1000)\n",
    "# ax.plot(x, x, linestyle='-', linewidth=2.4, color='aquamarine')\n",
    "# ax.set_title('Least Squares model \\n SCATTER DIAGRAM \\n  e2e delay estimate', fontweight='bold')\n",
    "\n",
    "# plt.xlim([0, 800])\n",
    "# plt.ylim([0, 800])\n",
    "\n",
    "# plt.xlabel(r'$Test \\ Samples$');\n",
    "# plt.ylabel(r'$Least \\ Squares \\ Estimates$');\n",
    "# plt.savefig('data/images/ls_scatter_diagram.pdf')"
   ]
  },
  {
   "cell_type": "code",
   "execution_count": 18,
   "metadata": {},
   "outputs": [],
   "source": [
    "# net_size = draw_data['NetSize'].unique()\n",
    "# net_size.sort()\n",
    "# fig = plt.figure(figsize=(30, 35))\n",
    "# fig.suptitle('Least Squares \\n End2end delay estimates \\n',fontweight=\"bold\", fontsize=25)\n",
    "# plt.subplots_adjust(top=0.92)\n",
    "\n",
    "# for i in net_size:\n",
    "#     draw_hist = draw_data.loc[draw_data['NetSize']==i]\n",
    "#     ax = fig.add_subplot(5, 4, int(i))\n",
    "#     ax.title.set_text('Network size is ' + str(int(i)))\n",
    "#     ax = sns.histplot(draw_hist.loc[:,'LsDelayEst'], \n",
    "#                       color=\"mediumseagreen\", \n",
    "#                       label=\"Least squares model\", kde=True)\n",
    "#     ax = sns.histplot(draw_hist.loc[:,'DelayAvgTest'], \n",
    "#                       color=\"orangered\", \n",
    "#                       label=\"Delay test\", kde=True)\n",
    "#     plt.legend()\n",
    "   "
   ]
  },
  {
   "cell_type": "code",
   "execution_count": 27,
   "metadata": {},
   "outputs": [],
   "source": [
    "net_size = draw_data['NetSize'].unique()\n",
    "net_size.sort()\n",
    "fig = plt.figure(figsize=(20, 21))\n",
    "fig.suptitle('Least Squares \\n End2end delay estimates \\n', \n",
    "             fontsize=40,\n",
    "             fontweight='bold')\n",
    "# plt.subplots_adjust(top=0.92)\n",
    "k = 1\n",
    "for i in net_size:\n",
    "    size = [1, 5, 10, 20]\n",
    "   \n",
    "    if i in size:\n",
    "        draw_hist = draw_data.loc[draw_data['NetSize']==i]\n",
    "        ax = fig.add_subplot(2, 2, k)\n",
    "        plt.title('Network size is ' + str(int(i)), fontweight='bold')\n",
    "        ax = sns.histplot(draw_hist.loc[:,'LsDelayEst'], \n",
    "                          color=\"mediumseagreen\", \n",
    "                          label=\"Least squares model\", kde=True)\n",
    "        ax = sns.histplot(draw_hist.loc[:,'DelayAvgTest'], \n",
    "                          color=\"orangered\", \n",
    "                          label=\"Delay test\", kde=True)\n",
    "        \n",
    "        k += 1\n",
    "        plt.xlabel('Delays')\n",
    "plt.legend()\n",
    "plt.savefig('data/images/ls_histogram.pdf')"
   ]
  },
  {
   "cell_type": "markdown",
   "metadata": {},
   "source": [
    "-  ## Задача регресии на дереве решений"
   ]
  },
  {
   "cell_type": "code",
   "execution_count": 20,
   "metadata": {},
   "outputs": [],
   "source": [
    "\"\"\"Prepare regression model using Decision Tree algorithm\"\"\"\n",
    "def get_tree_regression_model(x_train, x_test, \n",
    "                              y_train, y_test, \n",
    "                              max_depth=36, \n",
    "                              splitter='best') -> (np.ndarray, DecisionTreeRegressor):\n",
    "    tree_reg = DecisionTreeRegressor(max_depth=max_depth, splitter=splitter)\n",
    "    tree_reg.fit(x_train, y_train)\n",
    "    tree_y = tree_reg.predict(x_test)\n",
    "    \n",
    "    # print(f'R = {corr(y_test, tree_y):.3f}')\n",
    "    # print(f'STD = {std(y_test, tree_y):.3f}')\n",
    "    # print(f'MSE = {mean_squared_error(y_test, tree_y):.3f}')\n",
    "\n",
    "    return tree_y, tree_reg"
   ]
  },
  {
   "cell_type": "code",
   "execution_count": 21,
   "metadata": {},
   "outputs": [],
   "source": [
    "tree_delay_estimate, tree_reg = get_tree_regression_model(x_train, x_test, \n",
    "                                                        y_train['DelayAvg'], \n",
    "                                                        y_test['DelayAvg'])"
   ]
  },
  {
   "cell_type": "code",
   "execution_count": 399,
   "metadata": {},
   "outputs": [
    {
     "output_type": "stream",
     "name": "stdout",
     "text": [
      "R = 0.991\nSTD = 23.527\nMSE = 553.488\nR2 = 0.982\nMAPE = 0.103\n"
     ]
    }
   ],
   "source": [
    "print(f'R = {corr(y_test[\"DelayAvg\"], tree_delay_estimate,):.3f}')\n",
    "print(f'STD = {std(y_test[\"DelayAvg\"], tree_delay_estimate,):.3f}')\n",
    "print(f'MSE = {mean_squared_error(y_test[\"DelayAvg\"], tree_delay_estimate,):.3f}')\n",
    "print(f'R2 = {r2_score(y_test[\"DelayAvg\"], tree_delay_estimate,):.3f}')\n",
    "print(f'MAPE = {mean_absolute_percentage_error(y_test[\"DelayAvg\"], tree_delay_estimate):.3f}')"
   ]
  },
  {
   "cell_type": "code",
   "execution_count": 23,
   "metadata": {},
   "outputs": [],
   "source": [
    "draw_data.loc[:, 'TreeDelayEst'] = tree_delay_estimate "
   ]
  },
  {
   "cell_type": "markdown",
   "metadata": {},
   "source": [
    "На рисунке представлена **диаграмма рассеивания**"
   ]
  },
  {
   "cell_type": "code",
   "execution_count": 24,
   "metadata": {},
   "outputs": [],
   "source": [
    "# fig, ax = plt.subplots(figsize=(6, 6))\n",
    "# # plt.subplots_adjust(top=0.5)\n",
    "# plt.grid()\n",
    "# cm = plt.get_cmap('autumn')\n",
    "# col = [cm(float(i)/(len(y_test))) for i in range((len(y_test)))]\n",
    "# ax.scatter(draw_data['TreeDelayEst'], draw_data['DelayAvgTest'], c=col)\n",
    "# x = np.linspace(0,800,1000)\n",
    "# ax.plot(x, x, linestyle='-', linewidth=2.4, color='red')\n",
    "# ax.set_title('Tree model \\n SCATTER DIAGRAM \\n  e2e delay estimate', fontweight='bold')\n",
    "\n",
    "# plt.xlim([0, 800])\n",
    "# plt.ylim([0, 800])\n",
    "\n",
    "# plt.xlabel(r'$Test \\ Samples$');\n",
    "# plt.ylabel(r'$Tree \\ estimates$');\n",
    "# plt.savefig('data/images/tree_scatter_diagram.pdf', bbox_inches = 'tight')"
   ]
  },
  {
   "cell_type": "markdown",
   "metadata": {},
   "source": [
    " Для различных длин тандема сетей представлены гистограммы оценок времени межконцевых задержек тестовой выборки."
   ]
  },
  {
   "cell_type": "code",
   "execution_count": 25,
   "metadata": {},
   "outputs": [],
   "source": [
    "# net_size = draw_data['NetSize'].unique()\n",
    "# net_size.sort()\n",
    "# fig = plt.figure(figsize=(22, 35))\n",
    "# fig.suptitle('Tree decision \\n End2end delay estimates \\n', fontsize=16)\n",
    "# plt.subplots_adjust(top=0.92)\n",
    "\n",
    "# for i in net_size:\n",
    "#     draw_hist = draw_data.loc[draw_data['NetSize']==i]\n",
    "#     ax = fig.add_subplot(5, 4, int(i))\n",
    "#     ax.title.set_text('Network size is ' + str(int(i)))\n",
    "#     ax = sns.histplot(draw_hist.loc[:,'TreeDelayEst'], \n",
    "#                       color=\"gold\", \n",
    "#                       label=\"Tree model\", kde=True)\n",
    "#     ax = sns.histplot(draw_hist.loc[:,'DelayAvgTest'], \n",
    "#                       color=\"orangered\", \n",
    "#                       label=\"Delay test\", kde=True)\n",
    "#     plt.legend()"
   ]
  },
  {
   "cell_type": "code",
   "execution_count": 28,
   "metadata": {},
   "outputs": [],
   "source": [
    "net_size = draw_data['NetSize'].unique()\n",
    "net_size.sort()\n",
    "fig = plt.figure(figsize=(20, 21))\n",
    "fig.suptitle('Decision Tree \\n End2end delay estimates \\n', \n",
    "             fontsize=40,\n",
    "             fontweight='bold')\n",
    "# plt.subplots_adjust(top=0.92)\n",
    "k = 1\n",
    "for i in net_size:\n",
    "    size = [1, 5, 10, 20]\n",
    "   \n",
    "    if i in size:\n",
    "        draw_hist = draw_data.loc[draw_data['NetSize']==i]\n",
    "        ax = fig.add_subplot(2, 2, k)\n",
    "        plt.title('Network size is ' + str(int(i)), fontweight='bold')\n",
    "        ax = sns.histplot(draw_hist.loc[:,'TreeDelayEst'], \n",
    "                          color=\"gold\", \n",
    "                          label=\"Tree model\", kde=True)\n",
    "        ax = sns.histplot(draw_hist.loc[:,'DelayAvgTest'], \n",
    "                          color=\"orangered\", \n",
    "                          label=\"Delay test\", kde=True)\n",
    "        \n",
    "        k += 1\n",
    "        plt.xlabel('Delays')\n",
    "plt.legend()\n",
    "plt.savefig('data/images/tree_histogram.pdf')"
   ]
  },
  {
   "cell_type": "markdown",
   "metadata": {},
   "source": [
    "-  ## Задача регрессии с помощью градиентного бустинга на деревьях решений"
   ]
  },
  {
   "cell_type": "code",
   "execution_count": 27,
   "metadata": {},
   "outputs": [],
   "source": [
    "\"\"\"Prepare regression model using Gradient Boosting algorithm\"\"\"\n",
    "def get_gtb_regression_model(x_train, x_test, \n",
    "                             y_train, y_test, \n",
    "                             n_estimators=100, \n",
    "                             learning_rate=.1,\n",
    "                             max_depth=10) -> (np.ndarray, GradientBoostingRegressor):\n",
    "    gtb = GradientBoostingRegressor(n_estimators=n_estimators, \n",
    "                                    learning_rate=learning_rate, \n",
    "                                    max_depth=max_depth)\n",
    "    gtb.fit(x_train, y_train)\n",
    "    gtb_y = gtb.predict(x_test)\n",
    "\n",
    "    return gtb_y, gtb"
   ]
  },
  {
   "cell_type": "code",
   "execution_count": 28,
   "metadata": {},
   "outputs": [],
   "source": [
    "gtb_delay_estimate, gtb = get_tree_regression_model(x_train, x_test, \n",
    "                                               y_train['DelayAvg'], \n",
    "                                               y_test['DelayAvg'])"
   ]
  },
  {
   "cell_type": "code",
   "execution_count": 403,
   "metadata": {},
   "outputs": [
    {
     "output_type": "stream",
     "name": "stdout",
     "text": [
      "R = 0.991\nSTD = 23.439\nMSE = 549.355\nR2 = 0.982\nMAPE = 0.103\n"
     ]
    }
   ],
   "source": [
    "print(f'R = {corr(y_test[\"DelayAvg\"], gtb_delay_estimate,):.3f}')\n",
    "print(f'STD = {std(y_test[\"DelayAvg\"], gtb_delay_estimate,):.3f}')\n",
    "print(f'MSE = {mean_squared_error(y_test[\"DelayAvg\"], gtb_delay_estimate,):.3f}')\n",
    "print(f'R2 = {r2_score(y_test[\"DelayAvg\"], gtb_delay_estimate,):.3f}')\n",
    "print(f'MAPE = {mean_absolute_percentage_error(y_test[\"DelayAvg\"], gtb_delay_estimate):.3f}')"
   ]
  },
  {
   "cell_type": "code",
   "execution_count": 30,
   "metadata": {},
   "outputs": [],
   "source": [
    "draw_data.loc[:, 'GTBDelayEst'] = gtb_delay_estimate "
   ]
  },
  {
   "cell_type": "code",
   "execution_count": 31,
   "metadata": {},
   "outputs": [],
   "source": [
    "# fig, ax = plt.subplots(figsize=(6, 6))\n",
    "# plt.grid()\n",
    "# cm = plt.get_cmap('Blues')\n",
    "# col = [cm(float(i)/(len(y_test))) for i in range((len(y_test)))]\n",
    "# ax.scatter(draw_data['TreeDelayEst'], draw_data['DelayAvgTest'], c=col)\n",
    "# x = np.linspace(0,800,1000)\n",
    "# ax.plot(x, x, linestyle='-', linewidth=2.4, color='dodgerblue')\n",
    "# ax.set_title('Gradient Tree Boosting model \\n SCATTER DIAGRAM \\n  e2e delay estimate', fontweight='bold')\n",
    "\n",
    "# plt.xlim([0, 800])\n",
    "# plt.ylim([0, 800])\n",
    "\n",
    "# plt.xlabel(r'$Test \\ Samples$');\n",
    "# plt.ylabel(r'$GTB \\ estimates$');\n",
    "# plt.savefig('data/images/gtb_scatter_diagram.pdf', bbox_inches = 'tight')"
   ]
  },
  {
   "cell_type": "markdown",
   "metadata": {},
   "source": [
    " Для различных длин тандема сетей представлены гистограммы оценок времени межконцевых задержек тестовой выборки."
   ]
  },
  {
   "cell_type": "code",
   "execution_count": 32,
   "metadata": {},
   "outputs": [],
   "source": [
    "# net_size = draw_data['NetSize'].unique()\n",
    "# net_size.sort()\n",
    "# fig = plt.figure(figsize=(22, 35))\n",
    "# fig.suptitle('Gradient Tree Boosting \\n End2end delay estimates \\n', fontsize=16)\n",
    "# plt.subplots_adjust(top=0.92)\n",
    "\n",
    "# for i in net_size:\n",
    "#     draw_hist = draw_data.loc[draw_data['NetSize']==i]\n",
    "#     ax = fig.add_subplot(5, 4, int(i))\n",
    "#     ax.title.set_text('Network size is ' + str(int(i)))\n",
    "#     ax = sns.histplot(draw_hist.loc[:,'GTBDelayEst'], \n",
    "#                       color=\"mediumblue\", \n",
    "#                       label=\"Gradient Boosting model\", kde=True)\n",
    "#     ax = sns.histplot(draw_hist.loc[:,'DelayAvgTest'], \n",
    "#                       color=\"orangered\", \n",
    "#                       label=\"Delay test\", kde=True)\n",
    "#     plt.legend()"
   ]
  },
  {
   "cell_type": "code",
   "execution_count": 33,
   "metadata": {},
   "outputs": [],
   "source": [
    "# net_size = draw_data['NetSize'].unique()\n",
    "# net_size.sort()\n",
    "# fig = plt.figure(figsize=(20, 28))\n",
    "# fig.suptitle('Least Squares \\n End2end delay estimates \\n', \n",
    "#              fontsize=30,\n",
    "#              fontweight='bold')\n",
    "# plt.subplots_adjust(top=0.92)\n",
    "# k = 1\n",
    "# for i in net_size:\n",
    "#     size = [1, 5, 10, 20]\n",
    "   \n",
    "#     if i in size:\n",
    "#         draw_hist = draw_data.loc[draw_data['NetSize']==i]\n",
    "#         ax = fig.add_subplot(3, 2, k)\n",
    "#         plt.title('Network size is ' + str(int(i)), fontweight='bold')\n",
    "#         ax = sns.histplot(draw_hist.loc[:,'LsDelayEst'], \n",
    "#                           color=\"mediumseagreen\", \n",
    "#                           label=\"Least squares model\", kde=True)\n",
    "#         ax = sns.histplot(draw_hist.loc[:,'DelayAvgTest'], \n",
    "#                           color=\"orangered\", \n",
    "#                           label=\"Delay test\", kde=True)\n",
    "        \n",
    "#         k += 1\n",
    "#         plt.xlabel('Delays')\n",
    "# plt.legend()"
   ]
  },
  {
   "cell_type": "code",
   "execution_count": 29,
   "metadata": {},
   "outputs": [],
   "source": [
    "net_size = draw_data['NetSize'].unique()\n",
    "net_size.sort()\n",
    "fig = plt.figure(figsize=(20, 21))\n",
    "fig.suptitle('Gradient Tree Boosting \\n End2end delay estimates \\n', \n",
    "             fontsize=40,\n",
    "             fontweight='bold')\n",
    "# plt.subplots_adjust(top=0.92)\n",
    "k = 1\n",
    "for i in net_size:\n",
    "    size = [1, 5, 10, 20]\n",
    "   \n",
    "    if i in size:\n",
    "        draw_hist = draw_data.loc[draw_data['NetSize']==i]\n",
    "        ax = fig.add_subplot(2, 2, k)\n",
    "        plt.title('Network size is ' + str(int(i)), fontweight='bold')\n",
    "        ax = sns.histplot(draw_hist.loc[:,'TreeDelayEst'], \n",
    "                          color=\"mediumblue\", \n",
    "                          label=\"Gradient Boosting model\", kde=True)\n",
    "        ax = sns.histplot(draw_hist.loc[:,'DelayAvgTest'], \n",
    "                          color=\"orangered\", \n",
    "                          label=\"Delay test\", kde=True)\n",
    "        \n",
    "        \n",
    "        k += 1\n",
    "        plt.xlabel('Delays')\n",
    "plt.legend()\n",
    "plt.savefig('data/images/gtb_histogram.pdf')"
   ]
  },
  {
   "cell_type": "markdown",
   "metadata": {},
   "source": [
    "-  ## Задача регрессии с помощью искуственной нейронной сети на алгоритме Adam"
   ]
  },
  {
   "cell_type": "code",
   "execution_count": 35,
   "metadata": {},
   "outputs": [],
   "source": [
    "def normalize(table, stat) -> pd.core.frame.DataFrame:\n",
    "    \"\"\"Prepare data for ANN\"\"\"\n",
    "    return (table - stat.loc['mean',:].transpose()) / stat.loc['std',:].transpose()"
   ]
  },
  {
   "cell_type": "markdown",
   "metadata": {},
   "source": [
    "Необходимо провести нормализацию входных данных перед тем, как непосредственно приступить к обучению нейронной сети "
   ]
  },
  {
   "cell_type": "code",
   "execution_count": 404,
   "metadata": {},
   "outputs": [],
   "source": [
    "train_normalize = normalize(x_train, simulation_data.loc[:,COLUMNS].describe())\n",
    "train_normalize.to_numpy();\n",
    "test_normalize = normalize(x_test, simulation_data.loc[:,COLUMNS].describe())\n",
    "test_normalize.to_numpy();"
   ]
  },
  {
   "cell_type": "markdown",
   "metadata": {},
   "source": [
    "Построем модель будущей сети. Наша сеть состоит из одного скрытого слоя. Для обучения будем использовать алгоритм Адама."
   ]
  },
  {
   "cell_type": "code",
   "execution_count": 405,
   "metadata": {},
   "outputs": [],
   "source": [
    "def build_model(size, activation='sigmoid') -> np.ndarray:\n",
    "    model = keras.Sequential([\n",
    "        # Input Layer\n",
    "#         layers.Dense(18, activation=activation, \n",
    "#                      use_bias=True, input_shape=[size]),\n",
    "        layers.Flatten(input_shape=[size]),\n",
    "        # Hidden Layer\n",
    "        layers.Dense(40, activation=activation, use_bias=True),\n",
    "        # Output layer\n",
    "        layers.Dense(1)])\n",
    "\n",
    "    optimizer = tf.keras.optimizers.Adam(0.01)\n",
    "\n",
    "    model.compile(loss='mse',\n",
    "                  optimizer=optimizer,\n",
    "                  metrics=['mse'])\n",
    "    print(model.summary())\n",
    "    return model\n",
    "\n",
    "\n",
    "def get_ann_regression_model(train_normalize, \n",
    "                             test_normalize, \n",
    "                             y_train_ann, y_test_ann, \n",
    "                             size,\n",
    "                             epochs=1000,\n",
    "                             activation='sigmoid') -> Tuple[np.ndarray, \n",
    "                                                            engine.sequential.Sequential]:\n",
    "    \n",
    "    ann = build_model(size=size)\n",
    "   \n",
    "    early_stop = keras.callbacks.EarlyStopping(monitor='val_loss', patience=10)\n",
    "    EPOCHS = epochs\n",
    "    keras.callbacks.EarlyStopping(monitor='val_loss', patience=10)\n",
    "    \n",
    "    ann.fit(train_normalize, y_train_ann, epochs=EPOCHS, validation_split=0.3, verbose=0, \n",
    "            callbacks=[keras.callbacks.EarlyStopping(monitor='val_loss', patience=10)])\n",
    "\n",
    "    ann_y = ann.predict(test_normalize).flatten();\n",
    "    \n",
    "    return ann_y, ann\n"
   ]
  },
  {
   "cell_type": "code",
   "execution_count": 406,
   "metadata": {},
   "outputs": [
    {
     "output_type": "stream",
     "name": "stdout",
     "text": [
      "Model: \"sequential_1\"\n",
      "_________________________________________________________________\n",
      "Layer (type)                 Output Shape              Param #   \n",
      "=================================================================\n",
      "flatten_1 (Flatten)          (None, 8)                 0         \n",
      "_________________________________________________________________\n",
      "dense_2 (Dense)              (None, 40)                360       \n",
      "_________________________________________________________________\n",
      "dense_3 (Dense)              (None, 1)                 41        \n",
      "=================================================================\n",
      "Total params: 401\n",
      "Trainable params: 401\n",
      "Non-trainable params: 0\n",
      "_________________________________________________________________\n",
      "None\n",
      "CPU times: user 4min 7s, sys: 34 s, total: 4min 41s\n",
      "Wall time: 2min 21s\n"
     ]
    }
   ],
   "source": [
    "%%time\n",
    "ann_delay_estimate, ann = get_ann_regression_model(train_normalize, test_normalize,\n",
    "                                                   y_train['DelayAvg'], y_test['DelayAvg'],\n",
    "                                                   size=len(simulation_data.loc[:,COLUMNS].keys()))"
   ]
  },
  {
   "cell_type": "code",
   "execution_count": 408,
   "metadata": {},
   "outputs": [
    {
     "output_type": "stream",
     "name": "stdout",
     "text": [
      "R = 0.998\nSTD = 12.184\nMSE = 148.436\nR2 = 0.995\nMAPE = 0.158\n"
     ]
    }
   ],
   "source": [
    "print(f'R = {corr(y_test[\"DelayAvg\"], ann_delay_estimate):.3f}')\n",
    "print(f'STD = {std(y_test[\"DelayAvg\"], ann_delay_estimate):.3f}')\n",
    "print(f'MSE = {mean_squared_error(y_test[\"DelayAvg\"], ann_delay_estimate):.3f}')\n",
    "print(f'R2 = {r2_score(y_test[\"DelayAvg\"], ann_delay_estimate):.3f}')\n",
    "print(f'MAPE = {mean_absolute_percentage_error(y_test[\"DelayAvg\"], ann_delay_estimate):.3f}')"
   ]
  },
  {
   "cell_type": "markdown",
   "metadata": {},
   "source": [
    "На рисунке представлена диаграмма рассеивания полученной модели с помощью нейронной сети"
   ]
  },
  {
   "cell_type": "code",
   "execution_count": 40,
   "metadata": {},
   "outputs": [],
   "source": [
    "# Добавим в draw_data оценку ann_y \n",
    "draw_data['AnnDelayEst'] = ann_delay_estimate"
   ]
  },
  {
   "cell_type": "code",
   "execution_count": 48,
   "metadata": {},
   "outputs": [],
   "source": [
    "# plt.subplots(figsize=(6, 6))\n",
    "# cm = plt.get_cmap('PuRd')\n",
    "# col = [cm(float(i)/(len(ann_delay_estimate))) for i in range((len(ann_delay_estimate)))]\n",
    "# ax = plt.scatter(draw_data['AnnDelayEst'], \n",
    "#                  draw_data['DelayAvgTest'], \n",
    "#                  c=col)\n",
    "# plt.subplots_adjust(top=0.95)\n",
    "# x = np.linspace(0,800,1000)\n",
    "# plt.plot(x, x, \n",
    "#          linestyle='-', \n",
    "#          linewidth=2.4, \n",
    "#          color='pink')\n",
    "# plt.title('ANN model \\n SCATTER DIAGRAM \\n  e2e delay estimate', fontweight='bold')\n",
    "\n",
    "# plt.xticks(color='w')\n",
    "# plt.yticks(color='w')\n",
    "\n",
    "# plt.xlim([0, 800])\n",
    "# plt.ylim([0, 800])\n",
    "\n",
    "# plt.xlabel(r'$Test \\ Samples$')\n",
    "# plt.ylabel(r'$ANN \\ estimates$')\n",
    "\n",
    "# plt.grid()\n"
   ]
  },
  {
   "cell_type": "code",
   "execution_count": 49,
   "metadata": {},
   "outputs": [],
   "source": [
    "# net_size = draw_data['NetSize'].unique()\n",
    "# net_size.sort()\n",
    "# fig = plt.figure(figsize=(22, 35))\n",
    "# fig.suptitle('Neural Network \\n End2end delay estimates \\n', fontsize=16)\n",
    "# plt.subplots_adjust(top=0.92)\n",
    "\n",
    "# for i in net_size:\n",
    "#     draw_hist = draw_data.loc[draw_data['NetSize']==i]\n",
    "#     ax = fig.add_subplot(5, 4, int(i))\n",
    "#     ax.title.set_text('Network size is ' + str(int(i)))\n",
    "#     ax = sns.histplot(draw_hist.loc[:,'GTBDelayEst'], \n",
    "#                       color=\"fuchsia\", \n",
    "#                       label=\"Neural Networ model\", kde=True)\n",
    "#     ax = sns.histplot(draw_hist.loc[:,'DelayAvgTest'], \n",
    "#                       color=\"orangered\", \n",
    "#                       label=\"Delay test\", kde=True)\n",
    "#     plt.legend()"
   ]
  },
  {
   "cell_type": "code",
   "execution_count": 30,
   "metadata": {},
   "outputs": [],
   "source": [
    "net_size = draw_data['NetSize'].unique()\n",
    "net_size.sort()\n",
    "fig = plt.figure(figsize=(20, 21))\n",
    "fig.suptitle('Neural Network \\n End2end delay estimates \\n', \n",
    "             fontsize=40,\n",
    "             fontweight='bold')\n",
    "# plt.subplots_adjust(top=0.92)\n",
    "k = 1\n",
    "for i in net_size:\n",
    "    size = [1, 5, 10, 20]\n",
    "   \n",
    "    if i in size:\n",
    "        draw_hist = draw_data.loc[draw_data['NetSize']==i]\n",
    "        ax = fig.add_subplot(2, 2, k)\n",
    "        plt.title('Network size is ' + str(int(i)), fontweight='bold')\n",
    "        ax = sns.histplot(draw_hist.loc[:,'AnnDelayEst'], \n",
    "                          color=\"fuchsia\", \n",
    "                          label=\"Neural Network model\", kde=True)\n",
    "        ax = sns.histplot(draw_hist.loc[:,'DelayAvgTest'], \n",
    "                          color=\"orangered\", \n",
    "                          label=\"Delay test\", kde=True)\n",
    "        \n",
    "        \n",
    "        k += 1\n",
    "        plt.xlabel('Delays')\n",
    "plt.legend()\n",
    "plt.savefig('data/images/ann_histogram.pdf')"
   ]
  },
  {
   "cell_type": "code",
   "execution_count": 31,
   "metadata": {},
   "outputs": [
    {
     "output_type": "error",
     "ename": "NameError",
     "evalue": "name 'draw_data' is not defined",
     "traceback": [
      "\u001b[0;31m---------------------------------------------------------------------------\u001b[0m",
      "\u001b[0;31mNameError\u001b[0m                                 Traceback (most recent call last)",
      "\u001b[0;32m<ipython-input-31-0988404dcbf9>\u001b[0m in \u001b[0;36m<module>\u001b[0;34m\u001b[0m\n\u001b[0;32m----> 1\u001b[0;31m \u001b[0mnet_size\u001b[0m \u001b[0;34m=\u001b[0m \u001b[0mdraw_data\u001b[0m\u001b[0;34m[\u001b[0m\u001b[0;34m'NetSize'\u001b[0m\u001b[0;34m]\u001b[0m\u001b[0;34m.\u001b[0m\u001b[0munique\u001b[0m\u001b[0;34m(\u001b[0m\u001b[0;34m)\u001b[0m\u001b[0;34m\u001b[0m\u001b[0;34m\u001b[0m\u001b[0m\n\u001b[0m\u001b[1;32m      2\u001b[0m \u001b[0mnet_size\u001b[0m\u001b[0;34m.\u001b[0m\u001b[0msort\u001b[0m\u001b[0;34m(\u001b[0m\u001b[0;34m)\u001b[0m\u001b[0;34m\u001b[0m\u001b[0;34m\u001b[0m\u001b[0m\n\u001b[1;32m      3\u001b[0m \u001b[0mfig\u001b[0m \u001b[0;34m=\u001b[0m \u001b[0mplt\u001b[0m\u001b[0;34m.\u001b[0m\u001b[0mfigure\u001b[0m\u001b[0;34m(\u001b[0m\u001b[0mfigsize\u001b[0m\u001b[0;34m=\u001b[0m\u001b[0;34m(\u001b[0m\u001b[0;36m11\u001b[0m\u001b[0;34m,\u001b[0m \u001b[0;36m8\u001b[0m\u001b[0;34m)\u001b[0m\u001b[0;34m)\u001b[0m\u001b[0;34m\u001b[0m\u001b[0;34m\u001b[0m\u001b[0m\n\u001b[1;32m      4\u001b[0m \u001b[0;34m\u001b[0m\u001b[0m\n\u001b[1;32m      5\u001b[0m \u001b[0mk\u001b[0m \u001b[0;34m=\u001b[0m \u001b[0;36m1\u001b[0m\u001b[0;34m\u001b[0m\u001b[0;34m\u001b[0m\u001b[0m\n",
      "\u001b[0;31mNameError\u001b[0m: name 'draw_data' is not defined"
     ]
    }
   ],
   "source": [
    "net_size = draw_data['NetSize'].unique()\n",
    "net_size.sort()\n",
    "fig = plt.figure(figsize=(11, 8))\n",
    "\n",
    "k = 1\n",
    "for i in net_size:\n",
    "    size = [1, 5, 10, 20]\n",
    "    # size = [i for i in range(21)]\n",
    "   \n",
    "    if i in size:\n",
    "        draw_hist = draw_data.loc[draw_data['NetSize']==i]\n",
    "        ax = fig.add_subplot(2, 2, k)\n",
    "        plt.title('Network size is ' + str(int(i)), fontsize='24')\n",
    "        ax = sns.kdeplot(draw_hist.loc[:,'AnnDelayEst'], \n",
    "                          color=\"fuchsia\", shade=True, linewidth=3,\n",
    "                          label=\"Neural Network model\")\n",
    "        ax = sns.kdeplot(draw_hist.loc[:,'LsDelayEst'], \n",
    "                         color=\"limegreen\", shade=True, linewidth=3,\n",
    "                         label=\"Least Squares model\")\n",
    "        ax = sns.kdeplot(draw_hist.loc[:,'TreeDelayEst'], \n",
    "                          color=\"gold\", shade=True, linewidth=3,\n",
    "                          label=\"Decision Tree model\")\n",
    "        ax = sns.kdeplot(draw_hist.loc[:,'GTBDelayEst'], \n",
    "                          color=\"mediumblue\", shade=True, linewidth=3,\n",
    "                          label=\"Gradient Boosting model\")\n",
    "        ax = sns.kdeplot(draw_hist.loc[:,'DelayAvgTest'], \n",
    "                          color=\"orangered\", linewidth=4, linestyle='--',\n",
    "                          label=\"Monte Carlo method\")\n",
    "        plt.grid()\n",
    "        k += 1\n",
    "    plt.xlabel('delay',fontsize='22')\n",
    "    plt.ylabel('Density', fontsize='22')\n",
    "    plt.xticks(fontsize='20')\n",
    "    plt.yticks(fontsize='20')    \n",
    "    fig.tight_layout()\n",
    "\n",
    "ax.legend(loc='lower center', ncol=2, bbox_to_anchor=(0, -1), prop={'size': 22})\n",
    "plt.savefig('data/images/delay_estimate_densities.pdf', bbox_inches = 'tight')"
   ]
  },
  {
   "cell_type": "markdown",
   "metadata": {},
   "source": [
    "Общий график диаграммы рассеивания для всех регрессионных моделей"
   ]
  },
  {
   "cell_type": "code",
   "execution_count": 32,
   "metadata": {},
   "outputs": [],
   "source": [
    "model = [ls_delay_estimate, \n",
    "         tree_delay_estimate,\n",
    "         gtb_delay_estimate,\n",
    "         ann_delay_estimate]\n",
    "\n",
    "label = ['Least Squeare model',\n",
    "         'Decision tree model',\n",
    "         'Gradient Boosting model',\n",
    "         'Neural network model']\n",
    "column = ['LsDelayEst',\n",
    "          'TreeDelayEst',\n",
    "          'GTBDelayEst',\n",
    "          'AnnDelayEst']\n",
    "scatter_color = ['Greens',\n",
    "                 'autumn',\n",
    "                 'Blues',\n",
    "                 'PuRd']\n",
    "diag_line_color = ['aquamarine', \n",
    "                   'red',\n",
    "                   'dodgerblue',\n",
    "                   'pink']\n",
    "\n",
    "fig = plt.figure(figsize=(18, 18))\n",
    "plt.subplots_adjust(top=0.92)\n",
    "fig.suptitle('E2E Delay', fontsize=28, fontweight='bold')\n",
    "x = np.linspace(0,800,1000)\n",
    "for i in range(4):\n",
    "    ax = fig.add_subplot(2, 2, i+1)\n",
    "    ax.set_title(label[i], fontdict={'fontweight': 'bold'})\n",
    "    cm = plt.get_cmap(scatter_color[i])\n",
    "    col = [cm(float(i)/(len(ann_delay_estimate))) for i in range((len(ann_delay_estimate)))]\n",
    "    ax = plt.scatter(draw_data[column[i]], \n",
    "                 draw_data['DelayAvgTest'], \n",
    "                 c=col)\n",
    "#     plt.subplots_adjust(top=0.95)\n",
    "    plt.plot(x, x, \n",
    "             linestyle='-', \n",
    "             linewidth=2.4, \n",
    "             color=diag_line_color[i])\n",
    "    plt.xlim([0, 800])\n",
    "    plt.ylim([0, 800])\n",
    "    plt.xlabel(r'$Delay \\ Test$')\n",
    "    plt.ylabel(r'$Delay \\ Estimate$')\n",
    "    plt.grid()\n",
    "plt.savefig('data/images/total_scatter_diagram.pdf')"
   ]
  },
  {
   "cell_type": "markdown",
   "metadata": {},
   "source": [
    "## ПОСТРОЕНИЕ ПРОГНОЗНОЙ МОДЕЛИ ВЕРОЯТНОСТИ ДОСТАВКИ ПАКЕТОВ В МНОГОФАЗНОЙ СЕТИ МАСОВОГО ОБСЛУЖИВАНИЯ С ЛИНЕЙНОЙ ТОПОЛОГИЕЙ\n",
    "\n",
    "В отличии от прогнозной модели времени межконцевой задержки, для которой мы строили регрессионную модель, для модели вероятности доставки нам не критично предсказывать конкретные значения. Гораздо важнее оценивать вероятность относительно граничного значения. Мы задаемся граничным условием `BOUNDARY` для условия успешной доставки. \n",
    "\n",
    "Будем классификать на две группы:\n",
    "- успешная доставка P $\\in$ \\[BOUNDARY, 1];\n",
    "- вероятность потери пакетов P $\\in$  [0, BOUNDARY).\n",
    "        \n"
   ]
  },
  {
   "cell_type": "code",
   "execution_count": 44,
   "metadata": {},
   "outputs": [
    {
     "output_type": "execute_result",
     "data": {
      "image/jpeg": "[encoded data removed]",
      "text/plain": [
       "<IPython.core.display.Image object>"
      ]
     },
     "metadata": {},
     "execution_count": 44
    }
   ],
   "source": [
    "from IPython import display \n",
    "display.Image(\"../experiments/data/images/clf_metrics.jpg\")"
   ]
  },
  {
   "cell_type": "markdown",
   "metadata": {},
   "source": [
    "### Метрики для задач классификации:\n",
    "\n",
    "_TP_ is true posistive;\n",
    "\n",
    "_TN_ is true negative;\n",
    "\n",
    "_FP_ is false positive;\n",
    "\n",
    "_FN_ is false negative.\n",
    "\n",
    "Для оценки моделей будем использовать следущие метрики:    \n",
    "   \n",
    "$$\n",
    "    1. \\ Precision = \\dfrac{TP}{TP + FP};\n",
    "$$\n",
    "\n",
    "$$\n",
    "    2. \\ Recall = \\dfrac{TP}{TP + FN};\n",
    "$$\n",
    "\n",
    "$$\n",
    "    3. \\ F_1 = 2 * \\dfrac{Precision * Recall}{Precision + Recall}. \n",
    "$$"
   ]
  },
  {
   "cell_type": "markdown",
   "metadata": {},
   "source": [
    "- ## Модель задачи классификации на Дереве решений"
   ]
  },
  {
   "cell_type": "code",
   "execution_count": 45,
   "metadata": {},
   "outputs": [],
   "source": [
    "\"\"\"Prepare classification model using Decision Tree algorithm\"\"\"\n",
    "def get_tree_classif_model(x_train, x_test, \n",
    "                           y_train, y_test, \n",
    "                           boundary=0.9, \n",
    "                           max_depth=10, \n",
    "                           splitter='best') -> Tuple[np.array, \n",
    "                                                     DecisionTreeClassifier, \n",
    "                                                     list, \n",
    "                                                     list]:\n",
    "    binary_train = [1 if i >= boundary else 0 for i in y_train]\n",
    "    binary_test = [1 if i >= boundary else 0 for i in y_test]\n",
    "    clf = DecisionTreeClassifier(max_depth=max_depth, splitter=splitter)\n",
    "    clf = clf.fit(x_train, binary_train)\n",
    "    prob_estimate = clf.predict(x_test)\n",
    "    return prob_estimate, clf, binary_train, binary_test"
   ]
  },
  {
   "cell_type": "code",
   "execution_count": 46,
   "metadata": {},
   "outputs": [
    {
     "output_type": "stream",
     "name": "stdout",
     "text": [
      "0.920\n0.916\n0.918\n"
     ]
    }
   ],
   "source": [
    "BOUNDARY = 0.9 \n",
    "prob_clf_train = [1 if i > BOUNDARY else 0 for i in y_train['DeliveryProb']]\n",
    "prob_clf_test = [1 if i > BOUNDARY else 0 for i in y_test['DeliveryProb']]\n",
    "\n",
    "tree_prob_estimate, tree_clf, prob_clf_train, prob_clf_test = get_tree_classif_model(x_train, \n",
    "                                                                                     x_test, \n",
    "                                                                                     y_train['DeliveryProb'], \n",
    "                                                                                     y_test['DeliveryProb'],\n",
    "                                                                                     boundary=BOUNDARY)\n",
    "\n",
    "tree_prob_precision_score = '{:.3f}'.format(precision_score(prob_clf_test, tree_prob_estimate))\n",
    "tree_prob_recall_score = '{:.3f}'.format(recall_score(prob_clf_test, tree_prob_estimate))\n",
    "tree_prob_f1_score = '{:.3f}'.format(f1_score(prob_clf_test, tree_prob_estimate))\n",
    "print(tree_prob_precision_score)\n",
    "print(tree_prob_recall_score)\n",
    "print(tree_prob_f1_score)"
   ]
  },
  {
   "cell_type": "code",
   "execution_count": 47,
   "metadata": {},
   "outputs": [],
   "source": [
    "draw_data['TreeDeliveryProbTest'] = y_test['DeliveryProb']\n",
    "draw_data['TreeDeliveryProbEst'] = tree_prob_estimate"
   ]
  },
  {
   "cell_type": "code",
   "execution_count": 48,
   "metadata": {
    "scrolled": false
   },
   "outputs": [],
   "source": [
    "# YLIM = [0.5, 1]\n",
    "# net_size = draw_data['NetSize'].unique()\n",
    "# net_size.sort()\n",
    "# fig = plt.figure(figsize=(22, 40))\n",
    "# fig.suptitle(r'Estimates of Delivery Packets Probability' + \n",
    "#              ' \\n $Presicion$ = {}\\n $Recall$ = {}\\n $F_1$ = {}'.format(\n",
    "#                 tree_prob_precision_score, \n",
    "#                 tree_prob_recall_score, \n",
    "#                 tree_prob_f1_score), fontsize=18)\n",
    "# plt.subplots_adjust(top=0.95)\n",
    "# for i in net_size:\n",
    "#     draw_plot = draw_data.loc[draw_data['NetSize']==i]\n",
    "#     ax = fig.add_subplot(5, 4,  int(i))\n",
    "    \n",
    "#     ax.title.set_text('Network size is ' + str(int(i)))    \n",
    "#     plt.ylim(YLIM)\n",
    "\n",
    "#     prob_color = ['limegreen' if i >BOUNDARY else 'orangered' for i in draw_plot['TreeDeliveryProbEst']]\n",
    "#     ax.scatter(draw_plot['TreeDeliveryProbTest'].index, draw_plot['TreeDeliveryProbTest'], \n",
    "#                color=prob_color)\n",
    "#     ax.add_patch(\n",
    "#      patches.Rectangle(\n",
    "#         (0, 0),\n",
    "#         width=draw_plot.loc[:,'TreeDeliveryProbTest'].index.max(),\n",
    "#         height=BOUNDARY,\n",
    "#         facecolor = 'coral',\n",
    "#         fill=True,\n",
    "#         alpha=0.3))\n",
    "#     ax.add_patch(\n",
    "#      patches.Rectangle(\n",
    "#         (0, BOUNDARY),\n",
    "#         width=draw_plot.loc[:,'TreeDeliveryProbTest'].index.max(),\n",
    "#         height=1 - BOUNDARY,\n",
    "#         facecolor = 'aquamarine',\n",
    "#         fill=True, alpha=0.3))\n",
    "\n",
    "#     plt.xticks(color='w')   \n",
    "#     ax.set_xlabel(r'$Test \\ Samples$')\n",
    "#     ax.set_ylabel(r'$Probability$')"
   ]
  },
  {
   "cell_type": "code",
   "execution_count": 33,
   "metadata": {
    "scrolled": false
   },
   "outputs": [],
   "source": [
    "YLIM = [0, 1]\n",
    "net_size = draw_data['NetSize'].unique()\n",
    "net_size.sort()\n",
    "fig = plt.figure(figsize=(16, 12))\n",
    "# fig.suptitle(r'Estimates of Delivery Packets Probability' + \n",
    "#              ' \\n $Presicion$ = {}\\n $Recall$ = {}\\n $F_1$ = {}'.format(\n",
    "#                 tree_prob_precision_score, \n",
    "#                 tree_prob_recall_score, \n",
    "#                 tree_prob_f1_score), fontsize=18)\n",
    "fig.suptitle(r' Decision Tree' + \n",
    "             ' \\n Estimates of Delivery Packets Probability', \n",
    "             fontsize=25,\n",
    "             fontweight='bold')\n",
    "# plt.subplots_adjust(top=0.92)\n",
    "plt.yticks(np.arange(0, 1.1, 0.1), fontsize=20)\n",
    "plt.xticks([]) \n",
    "k = 1\n",
    "for i in net_size:\n",
    "    size = [1, 5, 10, 20]\n",
    "    if i in size:\n",
    "        draw_plot = draw_data.loc[draw_data['NetSize']==i]\n",
    "        ax = fig.add_subplot(1, 4,  int(k))\n",
    "\n",
    "        plt.title('Network size is ' + str(int(i)), fontsize=20, fontweight='bold')    \n",
    "        plt.ylim(YLIM)\n",
    "\n",
    "        prob_color = ['limegreen' if i >BOUNDARY else 'orangered' for i in draw_plot['TreeDeliveryProbEst']]\n",
    "        ax.scatter(draw_plot['TreeDeliveryProbTest'].index, draw_plot['TreeDeliveryProbTest'], \n",
    "                   color=prob_color)\n",
    "        ax.add_patch(\n",
    "         patches.Rectangle(\n",
    "            (0, 0),\n",
    "            width=draw_plot.loc[:,'TreeDeliveryProbTest'].index.max(),\n",
    "            height=BOUNDARY,\n",
    "            facecolor = 'coral',\n",
    "            fill=True,\n",
    "            alpha=0.3))\n",
    "        ax.add_patch(\n",
    "         patches.Rectangle(\n",
    "            (0, BOUNDARY),\n",
    "            width=draw_plot.loc[:,'TreeDeliveryProbTest'].index.max(),\n",
    "            height=1 - BOUNDARY,\n",
    "            facecolor = 'aquamarine',\n",
    "            fill=True, alpha=0.3))\n",
    "\n",
    "        plt.xticks(color='w')   \n",
    "        ax.set_xlabel(r'$Test \\ Samples$')\n",
    "        ax.set_ylabel(r'$Probability$')\n",
    "        k += 1\n",
    "        plt.xticks(color='w')\n",
    "        plt.yticks(np.arange(0, 1.1, 0.1)) \n",
    "        ax.axis('off') \n",
    "\n",
    "plt.savefig('data/images/tree_clf_prob.pdf')"
   ]
  },
  {
   "cell_type": "markdown",
   "metadata": {},
   "source": [
    "- ## Модель задачи классификации на многослойном персептроне с алгоритмом Adam"
   ]
  },
  {
   "cell_type": "code",
   "execution_count": 50,
   "metadata": {},
   "outputs": [],
   "source": [
    "\"\"\"Prepare classification model using MLP algorithm\"\"\"\n",
    "def get_mlp_classif_model(x_train, x_test, \n",
    "                          y_train, y_test,\n",
    "                          boundary=0.9, \n",
    "                          solver='adam',\n",
    "                          activation='relu',\n",
    "                          hidden_layer_sizes=(16, 16, 16)) -> Tuple[np.array, \n",
    "                                                                  MLPClassifier,\n",
    "                                                                  list, list]:\n",
    "    \n",
    "    binary_train = [1 if i > boundary else 0 for i in y_train]\n",
    "    binary_test = [1 if i > boundary else 0 for i in y_test]\n",
    "\n",
    "    clf = MLPClassifier(solver=solver, activation=activation, \n",
    "                        hidden_layer_sizes=hidden_layer_sizes, \n",
    "                        max_iter=2000, learning_rate='adaptive'\n",
    "                        ).fit(x_train, binary_train)\n",
    "    prob_estimate = clf.predict(x_test)\n",
    "\n",
    "    return prob_estimate, clf, binary_train, binary_test"
   ]
  },
  {
   "cell_type": "code",
   "execution_count": 51,
   "metadata": {},
   "outputs": [
    {
     "output_type": "stream",
     "name": "stdout",
     "text": [
      "0.973\n0.981\n0.977\n"
     ]
    }
   ],
   "source": [
    "BOUNDARY = 0.9\n",
    "\n",
    "mlpc_prob_estimate, mlpc_clf, prob_clf_train, prob_clf_test = get_mlp_classif_model(train_normalize,             test_normalize,\n",
    "                                                                                    y_train['DeliveryProb'], \n",
    "                                                                                    y_test['DeliveryProb'],\n",
    "                                                                                    boundary=0.9, \n",
    "                                                                                    hidden_layer_sizes=(54, 54))\n",
    "mlpc_prob_precision_score = '{:.3f}'.format(precision_score(prob_clf_test, mlpc_prob_estimate))\n",
    "mlpc_prob_recall_score = '{:.3f}'.format(recall_score(prob_clf_test, mlpc_prob_estimate))\n",
    "mlpc_prob_f1_score = '{:.3f}'.format(f1_score(prob_clf_test, mlpc_prob_estimate))\n",
    "print(mlpc_prob_precision_score)\n",
    "print(mlpc_prob_recall_score)\n",
    "print(mlpc_prob_f1_score)"
   ]
  },
  {
   "cell_type": "code",
   "execution_count": 52,
   "metadata": {},
   "outputs": [],
   "source": [
    "draw_data['MLPCDeliveryProbEst'] = mlpc_prob_estimate"
   ]
  },
  {
   "cell_type": "code",
   "execution_count": 53,
   "metadata": {},
   "outputs": [],
   "source": [
    "# YLIM = [0.5, 1]\n",
    "# net_size = draw_data['NetSize'].unique()\n",
    "# net_size.sort()\n",
    "# fig = plt.figure(figsize=(22, 40))\n",
    "# fig.suptitle(\n",
    "#     'Estimates of Delivery Packets Probability \\n $Presicion$ = {}\\n $Recall$ = {}\\n $F_1$ = {}'.format(\n",
    "#         mlpc_prob_precision_score, \n",
    "#         mlpc_prob_recall_score, \n",
    "#         mlpc_prob_f1_score), \n",
    "#     fontsize=18)\n",
    "# plt.subplots_adjust(top=0.95)\n",
    "# for i in net_size:\n",
    "#     draw_plot = draw_data.loc[draw_data['NetSize']==i]\n",
    "#     ax = fig.add_subplot(5, 4,  int(i))\n",
    "#     ax.axhspan(0, .9, color='coral', zorder=0, alpha=0.3)\n",
    "#     ax.axhspan(.9, 1, color='aquamarine', zorder=0, alpha=0.3)\n",
    "#     ax.title.set_text('Network size is ' + str(int(i)))    \n",
    "#     plt.ylim(YLIM)\n",
    "\n",
    "#     prob_color = ['limegreen' if i >BOUNDARY else 'orangered' for i in draw_plot['MLPCDeliveryProbEst']]\n",
    "#     ax.scatter(draw_plot['TreeDeliveryProbTest'].index, draw_plot['TreeDeliveryProbTest'], \n",
    "#                color=prob_color)\n",
    "#     plt.xticks(color='w')\n",
    "#     plt.yticks(np.arange(0, 1.1, 0.1))   \n",
    "#     ax.set_xlabel(r'$Test \\ Samples$')\n",
    "#     ax.set_ylabel(r'$Probability$')"
   ]
  },
  {
   "cell_type": "code",
   "execution_count": 34,
   "metadata": {},
   "outputs": [],
   "source": [
    "YLIM = [0, 1]\n",
    "net_size = draw_data['NetSize'].unique()\n",
    "net_size.sort()\n",
    "fig = plt.figure(figsize=(16, 12))\n",
    "\n",
    "fig.suptitle(r' Neural Network' + \n",
    "             ' \\n Estimates of Delivery Packets Probability', \n",
    "             fontsize=25,\n",
    "             fontweight='bold')\n",
    "\n",
    "plt.yticks(np.arange(0, 1.1, 0.1), fontsize=20)\n",
    "plt.xticks([])\n",
    "k = 1\n",
    "for i in net_size:\n",
    "    size = [1, 5, 10, 20]\n",
    "    if i in size:\n",
    "        draw_plot = draw_data.loc[draw_data['NetSize']==i]\n",
    "        ax = fig.add_subplot(1, 4,  int(k))\n",
    "\n",
    "        plt.title('Network size is ' + str(int(i)), fontsize=20, fontweight='bold')    \n",
    "        plt.ylim(YLIM)\n",
    "\n",
    "        prob_color = ['limegreen' if i >BOUNDARY else 'orangered' for i in draw_plot['MLPCDeliveryProbEst']]\n",
    "        ax.scatter(draw_plot['TreeDeliveryProbTest'].index, draw_plot['TreeDeliveryProbTest'], \n",
    "                   color=prob_color)\n",
    "        ax.add_patch(\n",
    "         patches.Rectangle(\n",
    "            (0, 0),\n",
    "            width=draw_plot.loc[:,'TreeDeliveryProbTest'].index.max(),\n",
    "            height=BOUNDARY,\n",
    "            facecolor = 'coral',\n",
    "            fill=True,\n",
    "            alpha=0.3))\n",
    "        ax.add_patch(\n",
    "         patches.Rectangle(\n",
    "            (0, BOUNDARY),\n",
    "            width=draw_plot.loc[:,'TreeDeliveryProbTest'].index.max(),\n",
    "            height=1 - BOUNDARY,\n",
    "            facecolor = 'aquamarine',\n",
    "            fill=True, alpha=0.3))\n",
    "\n",
    "        plt.xticks(color='w')   \n",
    "        ax.set_xlabel(r'$Test \\ Samples$')\n",
    "        ax.set_ylabel(r'$Probability$')\n",
    "        k += 1\n",
    "        plt.xticks(color='w')\n",
    "        plt.yticks(np.arange(0, 1.1, 0.1))   \n",
    "        ax.axis('off') \n",
    "plt.savefig('data/images/ann_clf_prob.pdf')"
   ]
  },
  {
   "cell_type": "markdown",
   "metadata": {},
   "source": [
    "- ## Модель задачи классификации на градиентном бустинге с алгоритмом CatBoost"
   ]
  },
  {
   "cell_type": "code",
   "execution_count": 55,
   "metadata": {},
   "outputs": [],
   "source": [
    "\"\"\"Prepare classification model using Cat Boost algorithm\"\"\"\n",
    "def get_catboost_classif_model(x_train, x_test, \n",
    "                               y_train, y_test)-> Tuple[np.array, \n",
    "                                                        CatBoostClassifier, \n",
    "                                                        list, \n",
    "                                                        list]: \n",
    "    catboost_clf = CatBoostClassifier(iterations=1000,\n",
    "                                        learning_rate=0.1);\n",
    "    binary_train = [1 if i > BOUNDARY else 0 for i in y_train]\n",
    "    binary_test = [1 if i > BOUNDARY else 0 for i in y_test]\n",
    "    catboost_clf.fit(x_train, binary_train);\n",
    "    catboost_prob_estimate = catboost_clf.predict(x_test);\n",
    "    \n",
    "    return catboost_prob_estimate, catboost_clf, binary_train, binary_test"
   ]
  },
  {
   "cell_type": "code",
   "execution_count": 35,
   "metadata": {
    "tags": []
   },
   "outputs": [],
   "source": [
    "catboost_prob_estimate, catboost_clf, prob_clf_train, prob_clf_test = get_catboost_classif_model(\n",
    "    x_train, \n",
    "    x_test, \n",
    "    y_train['DeliveryProb'], \n",
    "    y_test['DeliveryProb'])\n",
    "\n",
    "catboost_prob_precision_score = '{:.3f}'.format(precision_score(prob_clf_test, catboost_prob_estimate))\n",
    "catboost_prob_recall_score = '{:.3f}'.format(recall_score(prob_clf_test, catboost_prob_estimate))\n",
    "catboost_prob_f1_score = '{:.3f}'.format(f1_score(prob_clf_test, catboost_prob_estimate))\n",
    "print(catboost_prob_precision_score)\n",
    "print(catboost_prob_recall_score)\n",
    "print(catboost_prob_f1_score)\n",
    "    "
   ]
  },
  {
   "cell_type": "code",
   "execution_count": 57,
   "metadata": {},
   "outputs": [],
   "source": [
    "draw_data['CatBoostProbEst'] = catboost_prob_estimate"
   ]
  },
  {
   "cell_type": "code",
   "execution_count": 36,
   "metadata": {},
   "outputs": [],
   "source": [
    "YLIM = [0, 1]\n",
    "net_size = draw_data['NetSize'].unique()\n",
    "net_size.sort()\n",
    "fig = plt.figure(figsize=(16, 12))\n",
    "\n",
    "fig.suptitle(r' Gradient Boosting' + \n",
    "             ' \\n Estimates of Delivery Packets Probability', \n",
    "             fontsize=25,\n",
    "             fontweight='bold')\n",
    "\n",
    "plt.yticks(np.arange(0, 1.1, 0.1), fontsize=20)\n",
    "plt.xticks([]) \n",
    "k = 1\n",
    "for i in net_size:\n",
    "    size = [1, 5, 10, 20]\n",
    "    if i in size:\n",
    "        draw_plot = draw_data.loc[draw_data['NetSize']==i]\n",
    "        ax = fig.add_subplot(1, 4,  int(k))\n",
    "\n",
    "        plt.title('Network size is ' + str(int(i)), fontsize=20, fontweight='bold')    \n",
    "        plt.ylim(YLIM)\n",
    "\n",
    "        prob_color = ['limegreen' if i >BOUNDARY else 'orangered' for i in draw_plot['CatBoostProbEst']]\n",
    "        ax.scatter(draw_plot['TreeDeliveryProbTest'].index, draw_plot['TreeDeliveryProbTest'], \n",
    "                   color=prob_color)\n",
    "        ax.add_patch(\n",
    "         patches.Rectangle(\n",
    "            (0, 0),\n",
    "            width=draw_plot.loc[:,'TreeDeliveryProbTest'].index.max(),\n",
    "            height=BOUNDARY,\n",
    "            facecolor = 'coral',\n",
    "            fill=True,\n",
    "            alpha=0.3))\n",
    "        ax.add_patch(\n",
    "         patches.Rectangle(\n",
    "            (0, BOUNDARY),\n",
    "            width=draw_plot.loc[:,'TreeDeliveryProbTest'].index.max(),\n",
    "            height=1 - BOUNDARY,\n",
    "            facecolor = 'aquamarine',\n",
    "            fill=True, alpha=0.3))\n",
    "\n",
    "        plt.xticks(color='w')   \n",
    "        ax.set_xlabel(r'$Test \\ Samples$')\n",
    "        ax.set_ylabel(r'$Probability$')\n",
    "        k += 1\n",
    "        plt.xticks(color='w')\n",
    "        plt.yticks(np.arange(0, 1.1, 0.1))\n",
    "        ax.axis('off')    \n",
    "plt.savefig('data/images/catboost_clf_prob.pdf')"
   ]
  },
  {
   "cell_type": "markdown",
   "metadata": {},
   "source": [
    "- ## Модель задачи классификации c помощью логистической регрессии"
   ]
  },
  {
   "cell_type": "code",
   "execution_count": 60,
   "metadata": {},
   "outputs": [],
   "source": [
    "\"\"\"Prepare classification model using Logistic Regression algorithm\"\"\"\n",
    "def get_logress_classif_model(x_train, x_test, \n",
    "                              y_train, y_test,\n",
    "                              boundary=0.9)-> Tuple[np.array, LogisticRegression,\n",
    "                                                    list, list]: \n",
    "    logres_model = LogisticRegression(max_iter=1000)\n",
    "    binary_train = [1 if i > boundary else 0 for i in y_train]\n",
    "    binary_test = [1 if i > boundary else 0 for i in y_test]\n",
    "    logres_model.fit(x_train, binary_train)\n",
    "    logres_prob_estimate = logres_model.predict(x_test)\n",
    "    \n",
    "    return logres_prob_estimate, logres_model, binary_train, binary_test"
   ]
  },
  {
   "cell_type": "code",
   "execution_count": 61,
   "metadata": {},
   "outputs": [
    {
     "output_type": "stream",
     "name": "stdout",
     "text": [
      "0.897\n0.869\n0.883\n"
     ]
    }
   ],
   "source": [
    "logres_prob_estimate, logres_model, prob_clf_train, prob_clf_test = get_logress_classif_model(x_train, \n",
    "                                                                                x_test, \n",
    "                                                                                y_train['DeliveryProb'], \n",
    "                                                                                y_test['DeliveryProb'],\n",
    "                                                                                boundary=BOUNDARY)\n",
    "\n",
    "logres_prob_precision_score = '{:.3f}'.format(precision_score(prob_clf_test, logres_prob_estimate))\n",
    "logres_prob_recall_score = '{:.3f}'.format(recall_score(prob_clf_test, logres_prob_estimate))\n",
    "logres_prob_f1_score = '{:.3f}'.format(f1_score(prob_clf_test, logres_prob_estimate))\n",
    "print(logres_prob_precision_score)\n",
    "print(logres_prob_recall_score)\n",
    "print(logres_prob_f1_score)"
   ]
  },
  {
   "cell_type": "code",
   "execution_count": 62,
   "metadata": {},
   "outputs": [],
   "source": [
    "draw_data['LogResProbEst'] = logres_prob_estimate"
   ]
  },
  {
   "cell_type": "code",
   "execution_count": 37,
   "metadata": {},
   "outputs": [],
   "source": [
    "YLIM = [0, 1]\n",
    "net_size = draw_data['NetSize'].unique()\n",
    "net_size.sort()\n",
    "fig = plt.figure(figsize=(16, 12))\n",
    "fig.suptitle(r'Logistic Regression' + \n",
    "             ' \\n Estimates of Delivery Packets Probability', \n",
    "             fontsize=25,\n",
    "             fontweight='bold')\n",
    "plt.yticks(np.arange(0, 1.1, 0.1), fontsize=20)\n",
    "plt.xticks([]) \n",
    "k = 1\n",
    "for i in net_size:\n",
    "    size = [1, 5, 10, 20]\n",
    "    if i in size:\n",
    "        draw_plot = draw_data.loc[draw_data['NetSize']==i]\n",
    "        ax = fig.add_subplot(1, 4,  int(k))\n",
    "\n",
    "        plt.title('Network size is ' + str(int(i)), fontsize=20, fontweight='bold')    \n",
    "        plt.ylim(YLIM)\n",
    "\n",
    "        prob_color = ['limegreen' if i >BOUNDARY else 'orangered' for i in draw_plot['LogResProbEst']]\n",
    "        ax.scatter(draw_plot['TreeDeliveryProbTest'].index, draw_plot['TreeDeliveryProbTest'], \n",
    "                   color=prob_color)\n",
    "        ax.add_patch(\n",
    "         patches.Rectangle(\n",
    "            (0, 0),\n",
    "            width=draw_plot.loc[:,'TreeDeliveryProbTest'].index.max(),\n",
    "            height=BOUNDARY,\n",
    "            facecolor = 'coral',\n",
    "            fill=True,\n",
    "            alpha=0.3))\n",
    "        ax.add_patch(\n",
    "         patches.Rectangle(\n",
    "            (0, BOUNDARY),\n",
    "            width=draw_plot.loc[:,'TreeDeliveryProbTest'].index.max(),\n",
    "            height=1 - BOUNDARY,\n",
    "            facecolor = 'aquamarine',\n",
    "            fill=True, alpha=0.3))\n",
    "\n",
    "        plt.xticks(color='w')   \n",
    "        ax.set_xlabel(r'$Test \\ Samples$')\n",
    "        ax.set_ylabel(r'$Probability$')\n",
    "        k += 1\n",
    "        plt.xticks(color='w')\n",
    "        plt.yticks(np.arange(0, 1.1, 0.1))\n",
    "        ax.axis('off')    \n",
    "plt.savefig('data/images/logres_clf_prob.pdf')"
   ]
  },
  {
   "cell_type": "markdown",
   "metadata": {},
   "source": [
    "Все модели классификации"
   ]
  },
  {
   "cell_type": "code",
   "execution_count": 38,
   "metadata": {},
   "outputs": [],
   "source": [
    "YLIM = [0, 1]\n",
    "column_name = ['LogResProbEst', 'TreeDeliveryProbEst','CatBoostProbEst', 'MLPCDeliveryProbEst']\n",
    "title_name = ['Logistic Regression', 'Decision Tree', 'Gradient Boosting', 'Neural Network']\n",
    "\n",
    "fig = plt.figure(figsize=(13, 6))\n",
    "\n",
    "plt.yticks(np.arange(0, 1.1, 0.2), fontsize=16) \n",
    "plt.xlabel(r'$Test \\ Samples$', fontsize=18)\n",
    "plt.ylabel(r'$Probability$', fontsize=18) \n",
    "plt.tick_params(\n",
    "        axis='both',          \n",
    "        which='both',     \n",
    "        bottom=False,      \n",
    "        top=False,     \n",
    "        labelbottom=False,\n",
    "        left=False)\n",
    "\n",
    "for i in range(len(column_name)):\n",
    "\n",
    "    ax = fig.add_subplot(1, 4,  int(i+1))\n",
    "\n",
    "    plt.rcParams['axes.titley'] = 1.0 \n",
    "    plt.rcParams['axes.titlepad'] = 40 \n",
    "    plt.title(str(title_name[i]), fontsize=20, fontdict={'verticalalignment': 'top'})\n",
    "      \n",
    "    plt.ylim(YLIM)\n",
    "\n",
    "    prob_color = ['limegreen' if i >BOUNDARY else 'orangered' for i in draw_data[column_name[i]]]\n",
    "    ax.scatter(draw_data['TreeDeliveryProbTest'].index, draw_data['TreeDeliveryProbTest'], \n",
    "               color=prob_color)\n",
    "    ax.add_patch(\n",
    "        patches.Rectangle(\n",
    "        (0, 0),\n",
    "        width=draw_data.loc[:,'TreeDeliveryProbTest'].index.max(),\n",
    "        height=BOUNDARY,\n",
    "        facecolor = 'coral',\n",
    "        fill=True,\n",
    "        alpha=0.3))\n",
    "    ax.add_patch(\n",
    "        patches.Rectangle(\n",
    "        (0, BOUNDARY),\n",
    "        width=draw_data.loc[:,'TreeDeliveryProbTest'].index.max(),\n",
    "        height=1 - BOUNDARY,\n",
    "        facecolor = 'aquamarine',\n",
    "        fill=True, alpha=0.3))\n",
    "    ax.axis('off')\n",
    "\n",
    "    \n",
    "plt.savefig('data/images/total_clf_prob.pdf')"
   ]
  },
  {
   "cell_type": "markdown",
   "metadata": {},
   "source": [
    "Мы получили прогнозные модели времени межконцевой задержки и вероятности доставки пакетов в тандемности сети. Проверим адекватность моделей для тестовых данных:\n",
    "- для различных коэффициентов загрузок $\\rho$;\n",
    "- для различных длин тандема."
   ]
  },
  {
   "cell_type": "markdown",
   "metadata": {},
   "source": [
    "### Оценки времени задержки и вероятности доставки пакетов от коэффициента загрузки"
   ]
  },
  {
   "cell_type": "code",
   "execution_count": 65,
   "metadata": {},
   "outputs": [],
   "source": [
    "COLUMNS = (\n",
    "    'ArrM1',\n",
    "    'ArrM2',\n",
    "    'ArrM3',\n",
    "    'ArrAvg', \n",
    "    'ArrStd', \n",
    "    'ArrCv',\n",
    "    'ArrSkewness',\n",
    "    'SrvM1',\n",
    "    'SrvM2',\n",
    "    'SrvM3',\n",
    "    'SrvAvg', \n",
    "    'SrvStd', \n",
    "    'SrvCv',\n",
    "    'SrvSkewness', \n",
    "    'Rho', \n",
    "    'NetSize', \n",
    "    'Capacity', \n",
    "    'NumPackets',\n",
    "    'DelayAvg', \n",
    "    'DelayStd', \n",
    "    'DeliveryProb',\n",
    ")\n",
    "\n",
    "arr_m1 = [np.random.uniform(0, 10)]\n",
    "arr_cv = [np.random.uniform(0.5, 3)]\n",
    "\n",
    "rho =  np.arange(0.1, 1, 0.05)\n",
    "\n",
    "srv_cv = [np.random.uniform(0.5, 3)]\n",
    "\n",
    "net_size = np.arange(1, 20+1)\n",
    "capacity = [10]\n"
   ]
  },
  {
   "cell_type": "code",
   "execution_count": 66,
   "metadata": {},
   "outputs": [],
   "source": [
    "sim_data_rho_netsize = pd.DataFrame(columns=COLUMNS)"
   ]
  },
  {
   "cell_type": "code",
   "execution_count": 67,
   "metadata": {},
   "outputs": [
    {
     "output_type": "display_data",
     "data": {
      "text/plain": "0it [00:00, ?it/s]",
      "application/vnd.jupyter.widget-view+json": {
       "version_major": 2,
       "version_minor": 0,
       "model_id": "8201cea88c164bc086795420f3ba8053"
      }
     },
     "metadata": {}
    },
    {
     "output_type": "error",
     "ename": "NameError",
     "evalue": "name 'simulate' is not defined",
     "traceback": [
      "\u001b[0;31m---------------------------------------------------------------------------\u001b[0m",
      "\u001b[0;31mNameError\u001b[0m                                 Traceback (most recent call last)",
      "\u001b[0;32m<ipython-input-67-065ab8f72bac>\u001b[0m in \u001b[0;36m<module>\u001b[0;34m\u001b[0m\n\u001b[1;32m     10\u001b[0m             \u001b[0m_srv_skewness\u001b[0m \u001b[0;34m=\u001b[0m \u001b[0mnp\u001b[0m\u001b[0;34m.\u001b[0m\u001b[0mrandom\u001b[0m\u001b[0;34m.\u001b[0m\u001b[0muniform\u001b[0m\u001b[0;34m(\u001b[0m\u001b[0m_srv_cv\u001b[0m \u001b[0;34m-\u001b[0m \u001b[0;36m1\u001b[0m\u001b[0;34m/\u001b[0m\u001b[0m_srv_cv\u001b[0m\u001b[0;34m,\u001b[0m \u001b[0;36m100\u001b[0m\u001b[0;34m)\u001b[0m\u001b[0;34m\u001b[0m\u001b[0;34m\u001b[0m\u001b[0m\n\u001b[1;32m     11\u001b[0m \u001b[0;34m\u001b[0m\u001b[0m\n\u001b[0;32m---> 12\u001b[0;31m             sim_data_rho_netsize = simulate(\n\u001b[0m\u001b[1;32m     13\u001b[0m                 \u001b[0msim_data_rho_netsize\u001b[0m\u001b[0;34m,\u001b[0m\u001b[0;34m\u001b[0m\u001b[0;34m\u001b[0m\u001b[0m\n\u001b[1;32m     14\u001b[0m                 \u001b[0marr_m1\u001b[0m\u001b[0;34m=\u001b[0m\u001b[0m_arr_m1\u001b[0m\u001b[0;34m,\u001b[0m\u001b[0;34m\u001b[0m\u001b[0;34m\u001b[0m\u001b[0m\n",
      "\u001b[0;31mNameError\u001b[0m: name 'simulate' is not defined"
     ]
    }
   ],
   "source": [
    "REPEAT = True\n",
    "start_time = time.time()\n",
    "if REPEAT:\n",
    "    for _arr_m1, _arr_cv, _rho, \\\n",
    "        _srv_cv, _net_size, _capacity in tqdm(product(arr_m1, arr_cv, \\\n",
    "            rho, srv_cv, net_size, capacity)):\n",
    "\n",
    "            _arr_skewness = np.random.uniform(_arr_cv - 1/_arr_cv, 100)\n",
    "            _srv_m1 = _rho * _arr_m1\n",
    "            _srv_skewness = np.random.uniform(_srv_cv - 1/_srv_cv, 100)\n",
    "\n",
    "            sim_data_rho_netsize = simulate(\n",
    "                sim_data_rho_netsize,\n",
    "                arr_m1=_arr_m1,\n",
    "                arr_m2=get_noncentral_m2(_arr_m1, _arr_cv),\n",
    "                arr_m3=get_noncentral_m3(_arr_m1, _arr_cv, _arr_skewness),\n",
    "                srv_m1=_srv_m1,\n",
    "                srv_m2=get_noncentral_m2(_srv_m1, _srv_cv),\n",
    "                srv_m3=get_noncentral_m3(_srv_m1, _srv_cv, _srv_skewness),\n",
    "                net_size=_net_size,\n",
    "                capacity=_capacity,\n",
    "                num_packets=NUM_PACKETS,\n",
    "                force=FORCE_SIMULATION\n",
    "            )\n",
    "    print(f'Evaluation time = {time.time() - start_time}')\n",
    "    print(sim_data_rho_netsize.info())\n",
    "    print(sim_data_rho_netsize)\n",
    "\n",
    "    sim_data_rho_netsize.to_csv('./data/Tandem_network_data_with_different_rho_and_netsize.csv')"
   ]
  },
  {
   "cell_type": "code",
   "execution_count": 78,
   "metadata": {},
   "outputs": [],
   "source": [
    "sim_data_rho_netsize = pd.read_csv('./data/Tandem_network_data_with_different_rho_and_netsize.csv')"
   ]
  },
  {
   "cell_type": "code",
   "execution_count": 95,
   "metadata": {},
   "outputs": [],
   "source": [
    "COLUMNS = [\n",
    "    'ArrM1',\n",
    "    'ArrStd',\n",
    "    'ArrSkewness',\n",
    "    'SrvM1',\n",
    "    'SrvStd',\n",
    "    'SrvSkewness',\n",
    "    'NetSize', \n",
    "    'Capacity',\n",
    "    ]\n",
    "x_test_rho_netsize = sim_data_rho_netsize.loc[:, COLUMNS]\n",
    "x_test_rho_netsize\n",
    "y_test_delay = sim_data_rho_netsize['DelayAvg']\n",
    "y_test_prob = sim_data_rho_netsize['DeliveryProb']"
   ]
  },
  {
   "cell_type": "code",
   "execution_count": 414,
   "metadata": {},
   "outputs": [],
   "source": [
    "def get_regression_metrics(test, estimate) -> Tuple[float, float, float]:\n",
    "    r = corr(test, estimate)\n",
    "    _std = std(test, estimate)\n",
    "    mse = mean_squared_error(test, estimate)\n",
    "    # mse = mean_squared_error(test, estimate)\n",
    "    r2 = r2_score(test, estimate)\n",
    "    mape = mean_absolute_percentage_error(test, estimate)\n",
    "    return r, _std, mse, r2, mape"
   ]
  },
  {
   "cell_type": "code",
   "execution_count": 97,
   "metadata": {},
   "outputs": [],
   "source": [
    "def get_classification_metrics(test, estimate) -> Tuple[float, float, float]:\n",
    "    precision = precision_score(test, estimate)\n",
    "    recall = recall_score(test, estimate)\n",
    "    f1 = f1_score(test, estimate)\n",
    "    return precision, recall, f1"
   ]
  },
  {
   "cell_type": "markdown",
   "metadata": {},
   "source": [
    "### Прогнозирование времени задержек"
   ]
  },
  {
   "cell_type": "code",
   "execution_count": 422,
   "metadata": {},
   "outputs": [
    {
     "output_type": "stream",
     "name": "stdout",
     "text": [
      "CPU times: user 2 µs, sys: 1e+03 ns, total: 3 µs\nWall time: 5.48 µs\nR = 0.767\nSTD = 72.924\nMSE = 5303.174\nR2 = -0.638\nMAPE  = 7.218\n"
     ]
    }
   ],
   "source": [
    "%time\n",
    "ls_rho_netsize_estimate = ls.predict(x_test_rho_netsize)\n",
    "R, STD, MSE, R2, MAPE = get_regression_metrics(y_test_delay, ls_rho_netsize_estimate)\n",
    "print(f'R = {R:.3f}')\n",
    "print(f'STD = {STD:.3f}')\n",
    "print(f'MSE = {MSE:.3f}')\n",
    "print(f'R2 = {R2:.3f}')\n",
    "print(f'MAPE  = {MAPE:.3f}')\n",
    "sim_data_rho_netsize['ls_estimate'] = ls_rho_netsize_estimate"
   ]
  },
  {
   "cell_type": "code",
   "execution_count": 421,
   "metadata": {},
   "outputs": [
    {
     "output_type": "stream",
     "name": "stdout",
     "text": [
      "CPU times: user 3 µs, sys: 0 ns, total: 3 µs\nWall time: 5.48 µs\nR = 0.972\nSTD = 13.519\nMSE = 182.265\nR2 = 0.944\nMAPE = 0.160\n"
     ]
    }
   ],
   "source": [
    "%time\n",
    "tree_rho_netsize_estimate = tree_reg.predict(x_test_rho_netsize)\n",
    "R, STD, MSE, R2, MAPE  = get_regression_metrics(y_test_delay, tree_rho_netsize_estimate)\n",
    "print(f'R = {R:.3f}')\n",
    "print(f'STD = {STD:.3f}')\n",
    "print(f'MSE = {MSE:.3f}')\n",
    "print(f'R2 = {R2:.3f}')\n",
    "print(f'MAPE = {MAPE:.3f}')\n",
    "sim_data_rho_netsize['tree_estimate'] = tree_rho_netsize_estimate"
   ]
  },
  {
   "cell_type": "code",
   "execution_count": 420,
   "metadata": {},
   "outputs": [
    {
     "output_type": "stream",
     "name": "stdout",
     "text": [
      "CPU times: user 2 µs, sys: 1e+03 ns, total: 3 µs\nWall time: 6.2 µs\nR = 0.971\nSTD = 13.696\nMSE = 187.073\nR2 = 0.942\nMAPE = 0.158\n"
     ]
    }
   ],
   "source": [
    "%time\n",
    "gtb_rho_netsize_estimate = gtb.predict(x_test_rho_netsize)\n",
    "R, STD, MSE, R2, MAPE = get_regression_metrics(y_test_delay, gtb_rho_netsize_estimate)\n",
    "print(f'R = {R:.3f}')\n",
    "print(f'STD = {STD:.3f}')\n",
    "print(f'MSE = {MSE:.3f}')\n",
    "print(f'R2 = {R2:.3f}')\n",
    "print(f'MAPE = {MAPE:.3f}')\n",
    "sim_data_rho_netsize['gtb_estimate'] = gtb_rho_netsize_estimate"
   ]
  },
  {
   "cell_type": "code",
   "execution_count": 419,
   "metadata": {},
   "outputs": [
    {
     "output_type": "stream",
     "name": "stdout",
     "text": [
      "CPU times: user 3 µs, sys: 1e+03 ns, total: 4 µs\nWall time: 5.25 µs\nR = 0.990\nSTD = 11.661\nMSE = 135.595\nR2 = 0.958\nMAPE = 0.343\n"
     ]
    }
   ],
   "source": [
    "%time\n",
    "test_normalize = normalize(x_test_rho_netsize, \n",
    "                           simulation_data.loc[:,COLUMNS].describe())\n",
    "ann_rho_netsize_estimate = ann.predict(test_normalize).flatten()\n",
    "R, STD, MSE, R2, MAPE = get_regression_metrics(y_test_delay, ann_rho_netsize_estimate)\n",
    "print(f'R = {R:.3f}')\n",
    "print(f'STD = {STD:.3f}')\n",
    "print(f'MSE = {MSE:.3f}')\n",
    "print(f'R2 = {R2:.3f}')\n",
    "print(f'MAPE = {MAPE:.3f}')\n",
    "sim_data_rho_netsize['ann_estimate'] = ann_rho_netsize_estimate"
   ]
  },
  {
   "cell_type": "code",
   "execution_count": null,
   "metadata": {},
   "outputs": [],
   "source": [
    "size = [i for i in range(21)]\n",
    "k = 1\n",
    "for i in net_size:\n",
    "    if i in size:\n",
    "        draw = sim_data_rho_netsize.loc[sim_data_rho_netsize['NetSize']==i]\n",
    "        plt.plot(draw['Rho'], draw['DelayStd'], '-o', color=\"black\",\n",
    "                linewidth=2, markersize=8, \n",
    "                label='Monte Carlo method')"
   ]
  },
  {
   "cell_type": "code",
   "execution_count": 39,
   "metadata": {},
   "outputs": [],
   "source": [
    "net_size = sim_data_rho_netsize['NetSize'].unique()\n",
    "net_size.sort()\n",
    "fig = plt.figure(figsize=(15, 9))\n",
    "size = [1, 5, 10, 20 ]\n",
    "k = 1\n",
    "for i in net_size:\n",
    "    if i in size:\n",
    "        draw = sim_data_rho_netsize.loc[sim_data_rho_netsize['NetSize']==i]\n",
    "        ax = fig.add_subplot(2, 2, k)\n",
    "        \n",
    "        ax.set_title('Network size is ' + str(int(i)), fontsize=24)    \n",
    "        plt.plot(draw['Rho'], draw['DelayAvg'], '-D', \n",
    "                color='chocolate', label='Monte Carlo method',\n",
    "                linewidth=6, markersize=10)\n",
    "        plt.plot(draw['Rho'], draw['ls_estimate'], '-o', color=\"mediumseagreen\",\n",
    "                linewidth=2, markersize=8, \n",
    "                label='Least Squares estimate')\n",
    "        plt.plot(draw['Rho'], draw['tree_estimate'], '-o', color=\"gold\", \n",
    "                linewidth=2, markersize=8, \n",
    "                label='Decision Tree estimate')\n",
    "        plt.plot(draw['Rho'], draw['gtb_estimate'], '-o', color=\"mediumblue\", \n",
    "                linewidth=2, markersize=8, \n",
    "                label='Gradient Tree Boosting estimate')\n",
    "        plt.plot(draw['Rho'], draw['ann_estimate'], '-o', color=\"fuchsia\",\n",
    "                linewidth=2, markersize=8, \n",
    "                label='Artificial Neural Network estimate')\n",
    "        plt.yticks(fontsize='20')\n",
    "        plt.xticks(np.arange(0, 1, 0.1), fontsize='20')\n",
    "        fig.tight_layout() \n",
    "        \n",
    "        plt.grid()\n",
    "        plt.ylabel(r'$Delay$',fontsize='22')\n",
    "        plt.xlabel(r'$m_s$ \\ $m_a$',fontsize='22')\n",
    "        k += 1\n",
    "ax.legend(loc='lower center', ncol=2, bbox_to_anchor=(0, -0.82), prop={'size': 22})\n",
    "plt.savefig('data/images/rho_total_delay_est.pdf')"
   ]
  },
  {
   "cell_type": "markdown",
   "metadata": {},
   "source": [
    "### Прогнозирование вероятности доставки"
   ]
  },
  {
   "cell_type": "code",
   "execution_count": 104,
   "metadata": {},
   "outputs": [],
   "source": [
    "binary_prob_test = [1 if i > BOUNDARY else 0 for i in y_test_prob]"
   ]
  },
  {
   "cell_type": "code",
   "execution_count": 105,
   "metadata": {},
   "outputs": [
    {
     "output_type": "stream",
     "name": "stdout",
     "text": [
      "CPU times: user 1e+03 ns, sys: 1e+03 ns, total: 2 µs\nWall time: 4.77 µs\nPrecision = 0.912\nRecall = 0.825\nF1 = 0.866\n"
     ]
    }
   ],
   "source": [
    "%time\n",
    "logres_prob_rho_netsize_estimate = logres_model.predict(x_test_rho_netsize)\n",
    "Precision, Recall, F1 = get_classification_metrics(binary_prob_test, \n",
    "                                                   logres_prob_rho_netsize_estimate)\n",
    "print(f'Precision = {Precision:.3f}')\n",
    "print(f'Recall = {Recall:.3f}')\n",
    "print(f'F1 = {F1:.3f}')\n",
    "sim_data_rho_netsize['logres_prob_estimate'] = logres_prob_rho_netsize_estimate"
   ]
  },
  {
   "cell_type": "code",
   "execution_count": 106,
   "metadata": {},
   "outputs": [
    {
     "output_type": "stream",
     "name": "stdout",
     "text": [
      "CPU times: user 3 µs, sys: 0 ns, total: 3 µs\nWall time: 7.15 µs\nPrecision = 0.957\nRecall = 0.892\nF1 = 0.924\n"
     ]
    }
   ],
   "source": [
    "%time\n",
    "tree_prob_rho_netsize_estimate = tree_clf.predict(x_test_rho_netsize)\n",
    "Precision, Recall, F1 = get_classification_metrics(binary_prob_test, \n",
    "                                                   tree_prob_rho_netsize_estimate)\n",
    "print(f'Precision = {Precision:.3f}')\n",
    "print(f'Recall = {Recall:.3f}')\n",
    "print(f'F1 = {F1:.3f}')\n",
    "sim_data_rho_netsize['tree_prob_estimate'] = tree_prob_rho_netsize_estimate"
   ]
  },
  {
   "cell_type": "code",
   "execution_count": 107,
   "metadata": {},
   "outputs": [
    {
     "output_type": "stream",
     "name": "stdout",
     "text": [
      "CPU times: user 2 µs, sys: 1e+03 ns, total: 3 µs\nWall time: 25.3 µs\nPrecision = 0.965\nRecall = 0.976\nF1 = 0.970\n"
     ]
    }
   ],
   "source": [
    "%time\n",
    "catboost_prob_rho_netsize_estimate = catboost_clf.predict(x_test_rho_netsize)\n",
    "Precision, Recall, F1 = get_classification_metrics(binary_prob_test, \n",
    "                                                   catboost_prob_rho_netsize_estimate)\n",
    "print(f'Precision = {Precision:.3f}')\n",
    "print(f'Recall = {Recall:.3f}')\n",
    "print(f'F1 = {F1:.3f}')\n",
    "sim_data_rho_netsize['catboost_prob_estimate'] = catboost_prob_rho_netsize_estimate"
   ]
  },
  {
   "cell_type": "code",
   "execution_count": 108,
   "metadata": {},
   "outputs": [
    {
     "output_type": "stream",
     "name": "stdout",
     "text": [
      "CPU times: user 4 µs, sys: 0 ns, total: 4 µs\nWall time: 6.44 µs\nPrecision = 0.973\nRecall = 0.992\nF1 = 0.982\n"
     ]
    }
   ],
   "source": [
    "%time\n",
    "test_prob_rho_normalize = normalize(x_test_rho_netsize, \n",
    "                                    simulation_data.loc[:,COLUMNS].describe())\n",
    "ann_prob_rho_netsize_estimate = mlpc_clf.predict(test_prob_rho_normalize)\n",
    "Precision, Recall, F1 = get_classification_metrics(binary_prob_test, \n",
    "                                                   ann_prob_rho_netsize_estimate)\n",
    "print(f'Precision = {Precision:.3f}')\n",
    "print(f'Recall = {Recall:.3f}')\n",
    "print(f'F1 = {F1:.3f}')\n",
    "sim_data_rho_netsize['ann_prob_estimate'] = ann_prob_rho_netsize_estimate"
   ]
  },
  {
   "cell_type": "code",
   "execution_count": 109,
   "metadata": {},
   "outputs": [
    {
     "output_type": "execute_result",
     "data": {
      "text/plain": [
       "'Logistic_Regression_model'"
      ]
     },
     "metadata": {},
     "execution_count": 109
    }
   ],
   "source": [
    "label = ['Logistic Regression model',\n",
    "         'Decision tree model',\n",
    "         'Gradient Boosting model',\n",
    "         'Neural network model']\n",
    "label[0].replace(' ', '_')"
   ]
  },
  {
   "cell_type": "code",
   "execution_count": 40,
   "metadata": {
    "scrolled": false
   },
   "outputs": [],
   "source": [
    "label = ['Logistic Regression model',\n",
    "         'Decision tree model',\n",
    "         'Gradient Boosting model',\n",
    "         'Neural network model']\n",
    "model = ['logres_prob_estimate',\n",
    "         'tree_prob_estimate',\n",
    "         'ann_prob_estimate',\n",
    "         'catboost_prob_estimate']\n",
    "net_size = [10]\n",
    "for i in net_size:\n",
    "    if i in size:\n",
    "        net_size = sim_data_rho_netsize['NetSize'].unique()\n",
    "        net_size.sort()\n",
    "        fig = plt.figure(figsize=(14, 9))\n",
    "        fig.suptitle('Network size is ' + str(int(i)), fontsize=24)\n",
    "        plt.subplots_adjust(top=0.99)\n",
    "        size = [1, 5, 10, 20]\n",
    "        k = 1\n",
    "        for j in range(len(label)):    \n",
    "            draw = sim_data_rho_netsize.loc[sim_data_rho_netsize['NetSize']==i]\n",
    "            prob_color = ['limegreen' if i > BOUNDARY \n",
    "                        else 'orangered' \n",
    "                        for i in draw[model[j]]]\n",
    "            ax = fig.add_subplot(2, 2, int(k))\n",
    "            plt.yticks(np.arange(0.7, 1.1, 0.1), fontsize=18)  \n",
    "            plt.title(label[j], fontsize=20)\n",
    "            plt.plot(draw['Rho'], draw['DeliveryProb'], '-', color=\"dimgray\",\n",
    "                    linewidth=2, markersize=4, marker='x', \n",
    "                    label='Monte Carlo method')    \n",
    "            ax.scatter(draw['Rho'], draw['DeliveryProb'], \n",
    "                    label='Prediction',\n",
    "                    color=prob_color, s=150)\n",
    "            ax.hlines(BOUNDARY, 0, 1, color='r')\n",
    "            ax.add_patch(\n",
    "            patches.Rectangle(\n",
    "                (0, 0.7),\n",
    "                width=1,\n",
    "                height=BOUNDARY - 0.7,\n",
    "                facecolor = 'coral',\n",
    "                fill=True,\n",
    "                alpha=0.3))\n",
    "            ax.add_patch(\n",
    "            patches.Rectangle(\n",
    "                (0, BOUNDARY),\n",
    "                width=1,\n",
    "                height=1 - BOUNDARY,\n",
    "                facecolor = 'aquamarine',\n",
    "                fill=True, alpha=0.3))\n",
    "            plt.xticks(np.arange(0, 1, 0.1), fontsize=18)  \n",
    "   \n",
    "            plt.grid()\n",
    "            plt.xlabel(r'$m_s$ \\ $m_a$', fontsize=20)\n",
    "            plt.ylabel(r'$Probability$', fontsize=20)\n",
    "            fig.tight_layout() \n",
    "            k += 1\n",
    "    ax.legend(loc='lower center', ncol=2, bbox_to_anchor=(0, -0.65), prop={'size': 20})\n",
    "    plt.savefig('data/images/rho_total_prob_est.pdf', bbox_inches = 'tight')"
   ]
  }
 ],
 "metadata": {
  "kernelspec": {
   "name": "python385jvsc74a57bd03184b32d3525373a1ecd56bea6c281107de6aa3bc08bb69b96ed201e70d9c8c2",
   "display_name": "Python 3.8.5 64-bit ('venv': venv)"
  },
  "language_info": {
   "codemirror_mode": {
    "name": "ipython",
    "version": 3
   },
   "file_extension": ".py",
   "mimetype": "text/x-python",
   "name": "python",
   "nbconvert_exporter": "python",
   "pygments_lexer": "ipython3",
   "version": "3.8.5"
  }
 },
 "nbformat": 4,
 "nbformat_minor": 4
}